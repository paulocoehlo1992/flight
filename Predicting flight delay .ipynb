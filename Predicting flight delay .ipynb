{
 "cells": [
  {
   "cell_type": "code",
   "execution_count": 45,
   "metadata": {
    "collapsed": true
   },
   "outputs": [],
   "source": [
    "import pandas as pd \n",
    "import numpy as np \n",
    "data=pd.read_csv(\"ml_data.csv\")"
   ]
  },
  {
   "cell_type": "code",
   "execution_count": 46,
   "metadata": {
    "collapsed": false
   },
   "outputs": [
    {
     "data": {
      "text/html": [
       "<div>\n",
       "<table border=\"1\" class=\"dataframe\">\n",
       "  <thead>\n",
       "    <tr style=\"text-align: right;\">\n",
       "      <th></th>\n",
       "      <th>Unnamed: 0</th>\n",
       "      <th>Unnamed: 0.1</th>\n",
       "      <th>timestamp</th>\n",
       "      <th>reg</th>\n",
       "      <th>airline_name</th>\n",
       "      <th>model</th>\n",
       "      <th>model_text</th>\n",
       "      <th>country_origin</th>\n",
       "      <th>country_dest</th>\n",
       "      <th>flight_number</th>\n",
       "      <th>...</th>\n",
       "      <th>real_departure</th>\n",
       "      <th>real_arrival</th>\n",
       "      <th>status</th>\n",
       "      <th>duration</th>\n",
       "      <th>distance_travelled</th>\n",
       "      <th>hour_dep</th>\n",
       "      <th>weekday_dep</th>\n",
       "      <th>day_of_month_dep</th>\n",
       "      <th>arrival_delay</th>\n",
       "      <th>departure_delay</th>\n",
       "    </tr>\n",
       "  </thead>\n",
       "  <tbody>\n",
       "    <tr>\n",
       "      <th>0</th>\n",
       "      <td>7</td>\n",
       "      <td>7</td>\n",
       "      <td>2017-03-01 04:26:38+00:00</td>\n",
       "      <td>VT-IAL</td>\n",
       "      <td>IndiGo</td>\n",
       "      <td>A320</td>\n",
       "      <td>Airbus A320-232</td>\n",
       "      <td>India</td>\n",
       "      <td>India</td>\n",
       "      <td>6E732</td>\n",
       "      <td>...</td>\n",
       "      <td>2017-03-01 06:31:37</td>\n",
       "      <td>2017-03-01 08:03:00</td>\n",
       "      <td>Landed 08:03</td>\n",
       "      <td>5524</td>\n",
       "      <td>1082.7558529029552 km</td>\n",
       "      <td>6</td>\n",
       "      <td>Wednesday</td>\n",
       "      <td>1</td>\n",
       "      <td>-22.0</td>\n",
       "      <td>6.0</td>\n",
       "    </tr>\n",
       "    <tr>\n",
       "      <th>1</th>\n",
       "      <td>8</td>\n",
       "      <td>8</td>\n",
       "      <td>2017-03-01 04:26:38+00:00</td>\n",
       "      <td>VT-IAL</td>\n",
       "      <td>IndiGo</td>\n",
       "      <td>A320</td>\n",
       "      <td>Airbus A320-232</td>\n",
       "      <td>India</td>\n",
       "      <td>India</td>\n",
       "      <td>6E6216</td>\n",
       "      <td>...</td>\n",
       "      <td>2017-02-28 20:56:07</td>\n",
       "      <td>2017-02-28 22:31:00</td>\n",
       "      <td>Landed 22:32</td>\n",
       "      <td>5787</td>\n",
       "      <td>1082.7558529029552 km</td>\n",
       "      <td>21</td>\n",
       "      <td>Tuesday</td>\n",
       "      <td>28</td>\n",
       "      <td>-24.0</td>\n",
       "      <td>-4.0</td>\n",
       "    </tr>\n",
       "    <tr>\n",
       "      <th>2</th>\n",
       "      <td>9</td>\n",
       "      <td>9</td>\n",
       "      <td>2017-03-01 04:26:38+00:00</td>\n",
       "      <td>VT-IAL</td>\n",
       "      <td>IndiGo</td>\n",
       "      <td>A320</td>\n",
       "      <td>Airbus A320-232</td>\n",
       "      <td>India</td>\n",
       "      <td>India</td>\n",
       "      <td>6E5156</td>\n",
       "      <td>...</td>\n",
       "      <td>2017-02-28 19:29:33</td>\n",
       "      <td>2017-02-28 20:13:00</td>\n",
       "      <td>Landed 20:13</td>\n",
       "      <td>2665</td>\n",
       "      <td>423.7601185098625 km</td>\n",
       "      <td>19</td>\n",
       "      <td>Tuesday</td>\n",
       "      <td>28</td>\n",
       "      <td>-17.0</td>\n",
       "      <td>9.0</td>\n",
       "    </tr>\n",
       "    <tr>\n",
       "      <th>3</th>\n",
       "      <td>10</td>\n",
       "      <td>10</td>\n",
       "      <td>2017-03-01 04:26:38+00:00</td>\n",
       "      <td>VT-IAL</td>\n",
       "      <td>IndiGo</td>\n",
       "      <td>A320</td>\n",
       "      <td>Airbus A320-232</td>\n",
       "      <td>India</td>\n",
       "      <td>India</td>\n",
       "      <td>6E174</td>\n",
       "      <td>...</td>\n",
       "      <td>2017-02-28 16:49:10</td>\n",
       "      <td>2017-02-28 18:23:00</td>\n",
       "      <td>Landed 18:23</td>\n",
       "      <td>5660</td>\n",
       "      <td>1134.6651511087132 km</td>\n",
       "      <td>16</td>\n",
       "      <td>Tuesday</td>\n",
       "      <td>28</td>\n",
       "      <td>-17.0</td>\n",
       "      <td>19.0</td>\n",
       "    </tr>\n",
       "    <tr>\n",
       "      <th>4</th>\n",
       "      <td>11</td>\n",
       "      <td>11</td>\n",
       "      <td>2017-03-01 04:26:38+00:00</td>\n",
       "      <td>VT-IAL</td>\n",
       "      <td>IndiGo</td>\n",
       "      <td>A320</td>\n",
       "      <td>Airbus A320-232</td>\n",
       "      <td>India</td>\n",
       "      <td>India</td>\n",
       "      <td>6E176</td>\n",
       "      <td>...</td>\n",
       "      <td>2017-02-28 11:22:52</td>\n",
       "      <td>2017-02-28 13:11:00</td>\n",
       "      <td>Landed 13:11</td>\n",
       "      <td>6517</td>\n",
       "      <td>1252.3895747521426 km</td>\n",
       "      <td>10</td>\n",
       "      <td>Tuesday</td>\n",
       "      <td>28</td>\n",
       "      <td>56.0</td>\n",
       "      <td>67.0</td>\n",
       "    </tr>\n",
       "  </tbody>\n",
       "</table>\n",
       "<p>5 rows × 26 columns</p>\n",
       "</div>"
      ],
      "text/plain": [
       "   Unnamed: 0  Unnamed: 0.1                  timestamp     reg airline_name  \\\n",
       "0           7             7  2017-03-01 04:26:38+00:00  VT-IAL       IndiGo   \n",
       "1           8             8  2017-03-01 04:26:38+00:00  VT-IAL       IndiGo   \n",
       "2           9             9  2017-03-01 04:26:38+00:00  VT-IAL       IndiGo   \n",
       "3          10            10  2017-03-01 04:26:38+00:00  VT-IAL       IndiGo   \n",
       "4          11            11  2017-03-01 04:26:38+00:00  VT-IAL       IndiGo   \n",
       "\n",
       "  model       model_text country_origin country_dest flight_number  \\\n",
       "0  A320  Airbus A320-232          India        India         6E732   \n",
       "1  A320  Airbus A320-232          India        India        6E6216   \n",
       "2  A320  Airbus A320-232          India        India        6E5156   \n",
       "3  A320  Airbus A320-232          India        India         6E174   \n",
       "4  A320  Airbus A320-232          India        India         6E176   \n",
       "\n",
       "        ...              real_departure         real_arrival        status  \\\n",
       "0       ...         2017-03-01 06:31:37  2017-03-01 08:03:00  Landed 08:03   \n",
       "1       ...         2017-02-28 20:56:07  2017-02-28 22:31:00  Landed 22:32   \n",
       "2       ...         2017-02-28 19:29:33  2017-02-28 20:13:00  Landed 20:13   \n",
       "3       ...         2017-02-28 16:49:10  2017-02-28 18:23:00  Landed 18:23   \n",
       "4       ...         2017-02-28 11:22:52  2017-02-28 13:11:00  Landed 13:11   \n",
       "\n",
       "  duration     distance_travelled hour_dep weekday_dep day_of_month_dep  \\\n",
       "0     5524  1082.7558529029552 km        6   Wednesday                1   \n",
       "1     5787  1082.7558529029552 km       21     Tuesday               28   \n",
       "2     2665   423.7601185098625 km       19     Tuesday               28   \n",
       "3     5660  1134.6651511087132 km       16     Tuesday               28   \n",
       "4     6517  1252.3895747521426 km       10     Tuesday               28   \n",
       "\n",
       "  arrival_delay  departure_delay  \n",
       "0         -22.0              6.0  \n",
       "1         -24.0             -4.0  \n",
       "2         -17.0              9.0  \n",
       "3         -17.0             19.0  \n",
       "4          56.0             67.0  \n",
       "\n",
       "[5 rows x 26 columns]"
      ]
     },
     "execution_count": 46,
     "metadata": {},
     "output_type": "execute_result"
    }
   ],
   "source": [
    "data.head()"
   ]
  },
  {
   "cell_type": "code",
   "execution_count": 3,
   "metadata": {
    "collapsed": false
   },
   "outputs": [
    {
     "data": {
      "text/plain": [
       "Index([u'Unnamed: 0', u'Unnamed: 0.1', u'timestamp', u'reg', u'airline_name',\n",
       "       u'model', u'model_text', u'country_origin', u'country_dest',\n",
       "       u'flight_number', u'origin', u'destination', u'scheduled_departure',\n",
       "       u'scheduled_arrival', u'estimated_departure', u'estimated_arrival',\n",
       "       u'real_departure', u'real_arrival', u'status', u'duration',\n",
       "       u'distance_travelled', u'hour_dep', u'weekday_dep', u'day_of_month_dep',\n",
       "       u'arrival_delay', u'departure_delay'],\n",
       "      dtype='object')"
      ]
     },
     "execution_count": 3,
     "metadata": {},
     "output_type": "execute_result"
    }
   ],
   "source": [
    "data.columns"
   ]
  },
  {
   "cell_type": "code",
   "execution_count": 47,
   "metadata": {
    "collapsed": true
   },
   "outputs": [],
   "source": [
    "features=data[[\"airline_name\",\"model\",\"flight_number\",\"origin\",\"destination\",\"hour_dep\",\"day_of_month_dep\",\"weekday_dep\",\"reg\"]]"
   ]
  },
  {
   "cell_type": "code",
   "execution_count": 76,
   "metadata": {
    "collapsed": false
   },
   "outputs": [
    {
     "data": {
      "text/html": [
       "<div>\n",
       "<table border=\"1\" class=\"dataframe\">\n",
       "  <thead>\n",
       "    <tr style=\"text-align: right;\">\n",
       "      <th></th>\n",
       "      <th>airline_name</th>\n",
       "      <th>model</th>\n",
       "      <th>flight_number</th>\n",
       "      <th>origin</th>\n",
       "      <th>destination</th>\n",
       "      <th>hour_dep</th>\n",
       "      <th>day_of_month_dep</th>\n",
       "      <th>weekday_dep</th>\n",
       "      <th>reg</th>\n",
       "    </tr>\n",
       "  </thead>\n",
       "  <tbody>\n",
       "    <tr>\n",
       "      <th>0</th>\n",
       "      <td>IndiGo</td>\n",
       "      <td>A320</td>\n",
       "      <td>6E732</td>\n",
       "      <td>Hyderabad Rajiv Gandhi International Airport</td>\n",
       "      <td>Lucknow Chaudhary Charan Singh Airport</td>\n",
       "      <td>6</td>\n",
       "      <td>1</td>\n",
       "      <td>Wednesday</td>\n",
       "      <td>VT-IAL</td>\n",
       "    </tr>\n",
       "    <tr>\n",
       "      <th>1</th>\n",
       "      <td>IndiGo</td>\n",
       "      <td>A320</td>\n",
       "      <td>6E6216</td>\n",
       "      <td>Lucknow Chaudhary Charan Singh Airport</td>\n",
       "      <td>Hyderabad Rajiv Gandhi International Airport</td>\n",
       "      <td>21</td>\n",
       "      <td>28</td>\n",
       "      <td>Tuesday</td>\n",
       "      <td>VT-IAL</td>\n",
       "    </tr>\n",
       "    <tr>\n",
       "      <th>2</th>\n",
       "      <td>IndiGo</td>\n",
       "      <td>A320</td>\n",
       "      <td>6E5156</td>\n",
       "      <td>Delhi Indira Gandhi International Airport</td>\n",
       "      <td>Lucknow Chaudhary Charan Singh Airport</td>\n",
       "      <td>19</td>\n",
       "      <td>28</td>\n",
       "      <td>Tuesday</td>\n",
       "      <td>VT-IAL</td>\n",
       "    </tr>\n",
       "    <tr>\n",
       "      <th>3</th>\n",
       "      <td>IndiGo</td>\n",
       "      <td>A320</td>\n",
       "      <td>6E174</td>\n",
       "      <td>Mumbai Chhatrapati Shivaji International Airport</td>\n",
       "      <td>Delhi Indira Gandhi International Airport</td>\n",
       "      <td>16</td>\n",
       "      <td>28</td>\n",
       "      <td>Tuesday</td>\n",
       "      <td>VT-IAL</td>\n",
       "    </tr>\n",
       "    <tr>\n",
       "      <th>4</th>\n",
       "      <td>IndiGo</td>\n",
       "      <td>A320</td>\n",
       "      <td>6E176</td>\n",
       "      <td>Trivandrum International Airport</td>\n",
       "      <td>Mumbai Chhatrapati Shivaji International Airport</td>\n",
       "      <td>10</td>\n",
       "      <td>28</td>\n",
       "      <td>Tuesday</td>\n",
       "      <td>VT-IAL</td>\n",
       "    </tr>\n",
       "  </tbody>\n",
       "</table>\n",
       "</div>"
      ],
      "text/plain": [
       "  airline_name model flight_number  \\\n",
       "0       IndiGo  A320         6E732   \n",
       "1       IndiGo  A320        6E6216   \n",
       "2       IndiGo  A320        6E5156   \n",
       "3       IndiGo  A320         6E174   \n",
       "4       IndiGo  A320         6E176   \n",
       "\n",
       "                                             origin  \\\n",
       "0      Hyderabad Rajiv Gandhi International Airport   \n",
       "1            Lucknow Chaudhary Charan Singh Airport   \n",
       "2         Delhi Indira Gandhi International Airport   \n",
       "3  Mumbai Chhatrapati Shivaji International Airport   \n",
       "4                  Trivandrum International Airport   \n",
       "\n",
       "                                        destination  hour_dep  \\\n",
       "0            Lucknow Chaudhary Charan Singh Airport         6   \n",
       "1      Hyderabad Rajiv Gandhi International Airport        21   \n",
       "2            Lucknow Chaudhary Charan Singh Airport        19   \n",
       "3         Delhi Indira Gandhi International Airport        16   \n",
       "4  Mumbai Chhatrapati Shivaji International Airport        10   \n",
       "\n",
       "   day_of_month_dep weekday_dep     reg  \n",
       "0                 1   Wednesday  VT-IAL  \n",
       "1                28     Tuesday  VT-IAL  \n",
       "2                28     Tuesday  VT-IAL  \n",
       "3                28     Tuesday  VT-IAL  \n",
       "4                28     Tuesday  VT-IAL  "
      ]
     },
     "execution_count": 76,
     "metadata": {},
     "output_type": "execute_result"
    }
   ],
   "source": [
    "features.head()"
   ]
  },
  {
   "cell_type": "code",
   "execution_count": 62,
   "metadata": {
    "collapsed": true
   },
   "outputs": [],
   "source": [
    "label=[]\n",
    "for items in data['arrival_delay']:\n",
    "    if items>60:\n",
    "        label.append(1)\n",
    "    else:\n",
    "        label.append(0)"
   ]
  },
  {
   "cell_type": "code",
   "execution_count": 63,
   "metadata": {
    "collapsed": false
   },
   "outputs": [
    {
     "name": "stdout",
     "output_type": "stream",
     "text": [
      "91458\n",
      "(91458, 9)\n"
     ]
    }
   ],
   "source": [
    "print(len(label))\n",
    "print(features.shape)"
   ]
  },
  {
   "cell_type": "code",
   "execution_count": 64,
   "metadata": {
    "collapsed": true
   },
   "outputs": [],
   "source": [
    "feature=pd.get_dummies(features,drop_first=True)\n",
    "#labels = pd.get_dummies(,drop_first=True)\n",
    "label=pd.Series(label)"
   ]
  },
  {
   "cell_type": "code",
   "execution_count": 65,
   "metadata": {
    "collapsed": false
   },
   "outputs": [
    {
     "data": {
      "text/plain": [
       "(91458, 2825)"
      ]
     },
     "execution_count": 65,
     "metadata": {},
     "output_type": "execute_result"
    }
   ],
   "source": [
    "feature.shape"
   ]
  },
  {
   "cell_type": "code",
   "execution_count": 68,
   "metadata": {
    "collapsed": false
   },
   "outputs": [
    {
     "data": {
      "text/plain": [
       "2222"
      ]
     },
     "execution_count": 68,
     "metadata": {},
     "output_type": "execute_result"
    }
   ],
   "source": [
    "sum(label)"
   ]
  },
  {
   "cell_type": "code",
   "execution_count": 39,
   "metadata": {
    "collapsed": true
   },
   "outputs": [],
   "source": [
    "from sklearn.tree import DecisionTreeClassifier\n",
    "from sklearn.svm import SVC\n",
    "from sklearn.ensemble import RandomForestClassifier\n",
    "from sklearn.cross_validation import train_test_split\n",
    "from sklearn.metrics import accuracy_score\n",
    "from sklearn.metrics import fbeta_score,recall_score,precision_score"
   ]
  },
  {
   "cell_type": "code",
   "execution_count": 40,
   "metadata": {
    "collapsed": true
   },
   "outputs": [],
   "source": [
    "X_train,X_test,Y_train,Y_test=train_test_split(feature,label,test_size=0.3,random_state=20)"
   ]
  },
  {
   "cell_type": "code",
   "execution_count": 50,
   "metadata": {
    "collapsed": false
   },
   "outputs": [
    {
     "name": "stdout",
     "output_type": "stream",
     "text": [
      "4\n"
     ]
    }
   ],
   "source": [
    "clf=DecisionTreeClassifier(min_samples_leaf=9)\n",
    "clf.fit(X_train,Y_train)\n",
    "print(2+2)"
   ]
  },
  {
   "cell_type": "code",
   "execution_count": 51,
   "metadata": {
    "collapsed": false
   },
   "outputs": [
    {
     "name": "stdout",
     "output_type": "stream",
     "text": [
      "0.975763539617\n"
     ]
    }
   ],
   "source": [
    "pred=clf.predict(X_test)\n",
    "print(accuracy_score(pred,Y_test))\n"
   ]
  },
  {
   "cell_type": "code",
   "execution_count": 52,
   "metadata": {
    "collapsed": false
   },
   "outputs": [
    {
     "name": "stdout",
     "output_type": "stream",
     "text": [
      "[[26744   641]\n",
      " [   24    29]]\n",
      "0.547169811321\n",
      "0.0432835820896\n"
     ]
    }
   ],
   "source": [
    "from sklearn.metrics import confusion_matrix,precision_score,recall_score\n",
    "print(confusion_matrix(pred,Y_test))\n",
    "print(recall_score(pred,Y_test))\n",
    "print(precision_score(pred,Y_test))"
   ]
  },
  {
   "cell_type": "code",
   "execution_count": 99,
   "metadata": {
    "collapsed": false
   },
   "outputs": [],
   "source": [
    "final=pd.DataFrame([Y_test,pred])"
   ]
  },
  {
   "cell_type": "code",
   "execution_count": 91,
   "metadata": {
    "collapsed": false
   },
   "outputs": [
    {
     "data": {
      "text/html": [
       "<div>\n",
       "<table border=\"1\" class=\"dataframe\">\n",
       "  <thead>\n",
       "    <tr style=\"text-align: right;\">\n",
       "      <th></th>\n",
       "      <th>23010</th>\n",
       "      <th>19223</th>\n",
       "      <th>21413</th>\n",
       "      <th>587</th>\n",
       "      <th>84397</th>\n",
       "      <th>68546</th>\n",
       "      <th>32752</th>\n",
       "      <th>73799</th>\n",
       "      <th>51568</th>\n",
       "      <th>53059</th>\n",
       "      <th>...</th>\n",
       "      <th>761</th>\n",
       "      <th>35374</th>\n",
       "      <th>77165</th>\n",
       "      <th>49949</th>\n",
       "      <th>34789</th>\n",
       "      <th>60166</th>\n",
       "      <th>67483</th>\n",
       "      <th>50573</th>\n",
       "      <th>34557</th>\n",
       "      <th>63998</th>\n",
       "    </tr>\n",
       "  </thead>\n",
       "  <tbody>\n",
       "    <tr>\n",
       "      <th>0</th>\n",
       "      <td>0.0</td>\n",
       "      <td>0.0</td>\n",
       "      <td>0.0</td>\n",
       "      <td>0.0</td>\n",
       "      <td>0.0</td>\n",
       "      <td>0.0</td>\n",
       "      <td>0.0</td>\n",
       "      <td>0.0</td>\n",
       "      <td>0.0</td>\n",
       "      <td>0.0</td>\n",
       "      <td>...</td>\n",
       "      <td>0.0</td>\n",
       "      <td>0.0</td>\n",
       "      <td>0.0</td>\n",
       "      <td>0.0</td>\n",
       "      <td>0.0</td>\n",
       "      <td>0.0</td>\n",
       "      <td>0.0</td>\n",
       "      <td>0.0</td>\n",
       "      <td>0.0</td>\n",
       "      <td>0.0</td>\n",
       "    </tr>\n",
       "    <tr>\n",
       "      <th>1</th>\n",
       "      <td>0.0</td>\n",
       "      <td>0.0</td>\n",
       "      <td>0.0</td>\n",
       "      <td>0.0</td>\n",
       "      <td>NaN</td>\n",
       "      <td>NaN</td>\n",
       "      <td>NaN</td>\n",
       "      <td>NaN</td>\n",
       "      <td>NaN</td>\n",
       "      <td>NaN</td>\n",
       "      <td>...</td>\n",
       "      <td>0.0</td>\n",
       "      <td>NaN</td>\n",
       "      <td>NaN</td>\n",
       "      <td>NaN</td>\n",
       "      <td>NaN</td>\n",
       "      <td>NaN</td>\n",
       "      <td>NaN</td>\n",
       "      <td>NaN</td>\n",
       "      <td>NaN</td>\n",
       "      <td>NaN</td>\n",
       "    </tr>\n",
       "  </tbody>\n",
       "</table>\n",
       "<p>2 rows × 27438 columns</p>\n",
       "</div>"
      ],
      "text/plain": [
       "   23010  19223  21413  587    84397  68546  32752  73799  51568  53059  \\\n",
       "0    0.0    0.0    0.0    0.0    0.0    0.0    0.0    0.0    0.0    0.0   \n",
       "1    0.0    0.0    0.0    0.0    NaN    NaN    NaN    NaN    NaN    NaN   \n",
       "\n",
       "   ...    761    35374  77165  49949  34789  60166  67483  50573  34557  63998  \n",
       "0  ...      0.0    0.0    0.0    0.0    0.0    0.0    0.0    0.0    0.0    0.0  \n",
       "1  ...      0.0    NaN    NaN    NaN    NaN    NaN    NaN    NaN    NaN    NaN  \n",
       "\n",
       "[2 rows x 27438 columns]"
      ]
     },
     "execution_count": 91,
     "metadata": {},
     "output_type": "execute_result"
    }
   ],
   "source": [
    "final"
   ]
  },
  {
   "cell_type": "code",
   "execution_count": 78,
   "metadata": {
    "collapsed": false
   },
   "outputs": [
    {
     "data": {
      "text/plain": [
       "Unnamed: 0                                                     106076\n",
       "Unnamed: 0.1                                                   106076\n",
       "timestamp                                   2017-03-03 05:41:33+00:00\n",
       "reg                                                            VT-WAK\n",
       "airline_name                                                    GoAir\n",
       "model                                                            A320\n",
       "model_text                                            Airbus A320-214\n",
       "country_origin                                                  India\n",
       "country_dest                                                    India\n",
       "flight_number                                                   G8262\n",
       "origin                                  Kolkata International Airport\n",
       "destination            Bhubaneswar Biju Patnaik International Airport\n",
       "scheduled_departure                               2017-03-02 18:45:00\n",
       "scheduled_arrival                                 2017-03-02 19:55:00\n",
       "estimated_departure                                              None\n",
       "estimated_arrival                                                None\n",
       "real_departure                                    2017-03-02 20:16:07\n",
       "real_arrival                                      2017-03-02 21:02:00\n",
       "status                                                   Landed 21:06\n",
       "duration                                                         3042\n",
       "distance_travelled                               381.4025418182413 km\n",
       "hour_dep                                                           18\n",
       "weekday_dep                                                  Thursday\n",
       "day_of_month_dep                                                    2\n",
       "arrival_delay                                                      67\n",
       "departure_delay                                                    91\n",
       "Name: 17648, dtype: object"
      ]
     },
     "execution_count": 78,
     "metadata": {},
     "output_type": "execute_result"
    }
   ],
   "source": [
    "data.iloc[17648]"
   ]
  },
  {
   "cell_type": "code",
   "execution_count": 97,
   "metadata": {
    "collapsed": false
   },
   "outputs": [
    {
     "name": "stdout",
     "output_type": "stream",
     "text": [
      "0.00100016593933\n"
     ]
    }
   ],
   "source": [
    "#from time import time \n",
    "start=time()\n",
    "from sklearn.grid_search import GridSearchCV\n",
    "from sklearn.metrics import make_scorer\n",
    "scorer = make_scorer(recall_score)\n",
    "parameters={\"min_samples_split\":[2,3,5],\"criterion\":[\"entropy\"]}\n",
    "#clf_2=GridSearchCV(clf,parameter,recall_score)\n",
    "clf_2 = GridSearchCV(estimator=clf,param_grid=parameters,scoring=scorer,cv=3)\n",
    "\n",
    "#clf_2.fit(X_train,Y_train)\n",
    "print(time()-start)"
   ]
  },
  {
   "cell_type": "markdown",
   "metadata": {},
   "source": [
    "## Hypertuning Decision Tree parameters"
   ]
  },
  {
   "cell_type": "code",
   "execution_count": 16,
   "metadata": {
    "collapsed": true
   },
   "outputs": [],
   "source": [
    "from sklearn.tree import export_graphviz\n",
    "\n",
    "def visualize_tree(tree,feature_names):\n",
    "    with open(\"dt.dot\",'w') as f:\n",
    "        export_graphviz(tree,out_file=f,feature_names=feature_names)\n",
    "    command=[\"dot\",\"-Tpng\",\"dt.dot\",\"-o\",\"dt.png\"]\n",
    "    try:\n",
    "        subprocess.check_call(command)\n",
    "    except:\n",
    "        exit(\"Could not run graphviz\")\n"
   ]
  },
  {
   "cell_type": "code",
   "execution_count": null,
   "metadata": {
    "collapsed": false
   },
   "outputs": [],
   "source": [
    "import matplotlib.pyplot as plt \n",
    "%matplotlib inline\n",
    "for k in [3,4]:\n",
    "    recall_values=[]\n",
    "    precision_values=[]\n",
    "    accuracy_values=[]\n",
    "    for value in list(range(1,12)):\n",
    "        start_3=time()\n",
    "        clf_3=DecisionTreeClassifier(criterion=\"gini\",min_samples_leaf=value,min_samples_split=k,random_state=42)\n",
    "        clf_3.fit(X_train,Y_train)\n",
    "        pred_3=clf_3.predict(X_test)\n",
    "        recall_values.append(recall_score(pred_3,Y_test))\n",
    "        precision_values.append(precision_score(pred_3,Y_test))\n",
    "        accuracy_values.append(accuracy_score(pred_3,Y_test))\n",
    "        print(time()-start_3)\n",
    "    plt.plot(list(range(1,12)),recall_values,label=\"k\")\n",
    "    plt.show()\n",
    "    plt.plot(list(range(1,12)),accuracy_values,label=\"k\")\n",
    "    plt.show()\n",
    "    plt.plot(list(range(1,12)),accuracy_values,label=\"k\")\n",
    "    plt.show()\n"
   ]
  },
  {
   "cell_type": "code",
   "execution_count": 92,
   "metadata": {
    "collapsed": false
   },
   "outputs": [
    {
     "name": "stdout",
     "output_type": "stream",
     "text": [
      "74.6629998684\n",
      "74.0050001144\n",
      "65.8559999466\n",
      "69.2369999886\n",
      "70.2669999599\n",
      "63.8910000324\n",
      "57.9140000343\n",
      "57.513999939\n",
      "55.3150000572\n",
      "53.6570000648\n"
     ]
    }
   ],
   "source": [
    "from time import time\n",
    "from sklearn.metrics import recall_score\n",
    "recall_values=[]\n",
    "precision_values=[]\n",
    "accuracy_values=[]\n",
    "for value in list(range(2,12)):\n",
    "    start_3=time()\n",
    "    \n",
    "    clf_3=DecisionTreeClassifier(criterion=\"gini\",min_samples_leaf=value,min_samples_split=2,random_state=42)\n",
    "    clf_3.fit(X_train,Y_train)\n",
    "    pred_3=clf_3.predict(X_test)\n",
    "    recall_values.append(recall_score(pred_3,Y_test))\n",
    "    precision_values.append(precision_score(pred_3,Y_test))\n",
    "    accuracy_values.append(accuracy_score(pred_3,Y_test))\n",
    "    print(time()-start_3)"
   ]
  },
  {
   "cell_type": "code",
   "execution_count": 93,
   "metadata": {
    "collapsed": false
   },
   "outputs": [
    {
     "data": {
      "image/png": "[encoded data removed]",
      "text/plain": [
       "<matplotlib.figure.Figure at 0x282e26d8>"
      ]
     },
     "metadata": {},
     "output_type": "display_data"
    }
   ],
   "source": [
    "plt.plot(list(range(2,12)),accuracy_values)\n",
    "plt.show()"
   ]
  },
  {
   "cell_type": "code",
   "execution_count": 94,
   "metadata": {
    "collapsed": false
   },
   "outputs": [
    {
     "data": {
      "image/png": "[encoded data removed]",
      "text/plain": [
       "<matplotlib.figure.Figure at 0xe9a9ac8>"
      ]
     },
     "metadata": {},
     "output_type": "display_data"
    }
   ],
   "source": [
    "plt.plot(list(range(2,12)),precision_values)\n",
    "plt.show()"
   ]
  },
  {
   "cell_type": "code",
   "execution_count": 95,
   "metadata": {
    "collapsed": false
   },
   "outputs": [
    {
     "data": {
      "image/png": "[encoded data removed]",
      "text/plain": [
       "<matplotlib.figure.Figure at 0x8608438>"
      ]
     },
     "metadata": {},
     "output_type": "display_data"
    }
   ],
   "source": [
    "plt.plot(list(range(2,12)),recall_values)\n",
    "plt.show()"
   ]
  },
  {
   "cell_type": "code",
   "execution_count": null,
   "metadata": {
    "collapsed": true
   },
   "outputs": [],
   "source": []
  }
 ],
 "metadata": {
  "anaconda-cloud": {},
  "kernelspec": {
   "display_name": "Python [Root]",
   "language": "python",
   "name": "Python [Root]"
  },
  "language_info": {
   "codemirror_mode": {
    "name": "ipython",
    "version": 2
   },
   "file_extension": ".py",
   "mimetype": "text/x-python",
   "name": "python",
   "nbconvert_exporter": "python",
   "pygments_lexer": "ipython2",
   "version": "2.7.12"
  }
 },
 "nbformat": 4,
 "nbformat_minor": 0
}
