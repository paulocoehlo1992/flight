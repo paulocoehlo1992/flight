{
 "cells": [
  {
   "cell_type": "code",
   "execution_count": 1,
   "metadata": {
    "collapsed": true
   },
   "outputs": [],
   "source": [
    "from pymongo import MongoClient\n",
    "client=MongoClient()\n",
    "db=client.flight_data\n",
    "collection_1=db.flight_data_collection\n",
    "import datetime \n",
    "import pandas as pd \n",
    "\n",
    "def from_unix_timestamp(val):\n",
    "     #print(\"Date=\", val)\n",
    "     if (val is None):\n",
    "         return datetime.datetime.fromtimestamp(0)\n",
    "     if(val!=0):\n",
    "      return datetime.datetime.fromtimestamp(val)"
   ]
  },
  {
   "cell_type": "code",
   "execution_count": 2,
   "metadata": {
    "collapsed": false
   },
   "outputs": [
    {
     "name": "stdout",
     "output_type": "stream",
     "text": [
      "{'_id': ObjectId('58b64d7e566f5d11bce4ac92'), 'aircraft': {'model': {'code': 'A320', 'text': 'Airbus A320-232'}, 'hex': '800AF3', 'registration': 'VT-IAL', 'serialNo': None, 'age': {'availability': True}, 'restricted': False, 'availability': {'serialNo': True, 'age': True}}, 'airline': {'name': 'IndiGo', 'short': 'IndiGo Airlines', 'code': {'iata': '6E', 'icao': 'IGO'}}, 'airport': {'origin': {'name': 'Mumbai Chhatrapati Shivaji International Airport', 'code': {'iata': 'BOM', 'icao': 'VABB'}, 'position': {'latitude': 19.08868, 'longitude': 72.867912, 'country': {'name': 'India', 'code': 'IN'}, 'region': {'city': 'Mumbai'}}, 'timezone': {'name': 'Asia/Kolkata', 'offset': 19800, 'abbr': 'IST', 'abbrName': 'India Standard Time', 'isDst': False}, 'visible': True}, 'destination': {'name': 'Delhi Indira Gandhi International Airport', 'code': {'iata': 'DEL', 'icao': 'VIDP'}, 'position': {'latitude': 28.5665, 'longitude': 77.103081, 'country': {'name': 'India', 'code': 'IN'}, 'region': {'city': 'Delhi'}}, 'timezone': {'name': 'Asia/Kolkata', 'offset': 19800, 'abbr': 'IST', 'abbrName': 'India Standard Time', 'isDst': False}, 'visible': True}, 'real': None}, 'identification': {'id': None, 'row': 3814697067, 'number': {'default': '6E198', 'alternative': None}, 'callsign': None, 'codeshare': None}, 'owner': {'name': 'IndiGo Airlines', 'code': {'iata': '6E', 'icao': 'IGO'}}, 'status': {'live': False, 'text': 'Estimated dep 22:15', 'icon': 'green', 'estimated': None, 'ambiguous': False, 'generic': {'status': {'text': 'estimated', 'type': 'departure', 'color': 'green', 'diverted': None}, 'eventTime': {'utc': 1488386700, 'local': 1488406500}}}, 'time': {'scheduled': {'departure': 1488386700, 'arrival': 1488394500}, 'real': {'departure': None, 'arrival': None}, 'estimated': {'departure': 1488386700, 'arrival': None}, 'other': {'eta': None, 'updated': 1488342072, 'duration': 7500}}}\n"
     ]
    }
   ],
   "source": [
    "print(collection_1.find()[0])\n"
   ]
  },
  {
   "cell_type": "code",
   "execution_count": 3,
   "metadata": {
    "collapsed": false
   },
   "outputs": [
    {
     "ename": "NameError",
     "evalue": "name 'x' is not defined",
     "output_type": "error",
     "traceback": [
      "\u001b[0;31m---------------------------------------------------------------------------\u001b[0m",
      "\u001b[0;31mNameError\u001b[0m                                 Traceback (most recent call last)",
      "\u001b[0;32m<ipython-input-3-069759d92a7b>\u001b[0m in \u001b[0;36m<module>\u001b[0;34m()\u001b[0m\n\u001b[1;32m      1\u001b[0m \u001b[1;32mfrom\u001b[0m \u001b[0mgeopy\u001b[0m\u001b[1;33m.\u001b[0m\u001b[0mdistance\u001b[0m \u001b[1;32mimport\u001b[0m \u001b[0mvincenty\u001b[0m\u001b[1;33m\u001b[0m\u001b[0m\n\u001b[0;32m----> 2\u001b[0;31m \u001b[0ma\u001b[0m\u001b[1;33m=\u001b[0m\u001b[0mx\u001b[0m\u001b[1;33m[\u001b[0m\u001b[1;34m'airport'\u001b[0m\u001b[1;33m]\u001b[0m\u001b[1;33m[\u001b[0m\u001b[1;34m\"origin\"\u001b[0m\u001b[1;33m]\u001b[0m\u001b[1;33m[\u001b[0m\u001b[1;34m'position'\u001b[0m\u001b[1;33m]\u001b[0m\u001b[1;33m[\u001b[0m\u001b[1;34m'latitude'\u001b[0m\u001b[1;33m]\u001b[0m\u001b[1;33m\u001b[0m\u001b[0m\n\u001b[0m\u001b[1;32m      3\u001b[0m \u001b[0mb\u001b[0m\u001b[1;33m=\u001b[0m\u001b[0mx\u001b[0m\u001b[1;33m[\u001b[0m\u001b[1;34m'airport'\u001b[0m\u001b[1;33m]\u001b[0m\u001b[1;33m[\u001b[0m\u001b[1;34m'origin'\u001b[0m\u001b[1;33m]\u001b[0m\u001b[1;33m[\u001b[0m\u001b[1;34m'position'\u001b[0m\u001b[1;33m]\u001b[0m\u001b[1;33m[\u001b[0m\u001b[1;34m'longitude'\u001b[0m\u001b[1;33m]\u001b[0m\u001b[1;33m\u001b[0m\u001b[0m\n\u001b[1;32m      4\u001b[0m \u001b[0mm\u001b[0m\u001b[1;33m=\u001b[0m\u001b[1;33m(\u001b[0m\u001b[0ma\u001b[0m\u001b[1;33m,\u001b[0m\u001b[0mb\u001b[0m\u001b[1;33m)\u001b[0m\u001b[1;33m\u001b[0m\u001b[0m\n\u001b[1;32m      5\u001b[0m \u001b[0mc\u001b[0m\u001b[1;33m=\u001b[0m\u001b[0mx\u001b[0m\u001b[1;33m[\u001b[0m\u001b[1;34m'airport'\u001b[0m\u001b[1;33m]\u001b[0m\u001b[1;33m[\u001b[0m\u001b[1;34m'destination'\u001b[0m\u001b[1;33m]\u001b[0m\u001b[1;33m[\u001b[0m\u001b[1;34m'position'\u001b[0m\u001b[1;33m]\u001b[0m\u001b[1;33m[\u001b[0m\u001b[1;34m'latitude'\u001b[0m\u001b[1;33m]\u001b[0m\u001b[1;33m\u001b[0m\u001b[0m\n",
      "\u001b[0;31mNameError\u001b[0m: name 'x' is not defined"
     ]
    }
   ],
   "source": [
    "from geopy.distance import vincenty\n",
    "a=x['airport'][\"origin\"]['position']['latitude']\n",
    "b=x['airport']['origin']['position']['longitude']\n",
    "m=(a,b)\n",
    "c=x['airport']['destination']['position']['latitude']\n",
    "d=x['airport']['destination']['position']['longitude']\n",
    "n=(c,d)\n",
    "z=vincenty(m,n)\n",
    "print(type(z))\n",
    "print(z)\n"
   ]
  },
  {
   "cell_type": "code",
   "execution_count": 83,
   "metadata": {
    "collapsed": false
   },
   "outputs": [],
   "source": [
    "flight_number=[]\n",
    "status_text=[]\n",
    "origin=[]\n",
    "destination=[]\n",
    "scheduled_departure=[]\n",
    "scheduled_arrival=[]\n",
    "real_departure=[]\n",
    "real_arrival=[]\n",
    "estimated_departure=[]\n",
    "estimated_arrival=[]\n",
    "duration=[]\n",
    "timestamp=[]\n",
    "for item in collection_1.find()[0:50]:\n",
    "    if item['identification']['number']['default']==None:\n",
    "        flight_number.append(\"None\")\n",
    "    else:\n",
    "        flight_number.append(item['identification']['number']['default'])\n",
    "    if item['status']['text']==None:\n",
    "        status_text.append(\"None\")\n",
    "    else:\n",
    "        status_text.append(item['status']['text'])\n",
    "    if item['airport']['origin']==None:\n",
    "        origin.append(\"None\")\n",
    "    else:\n",
    "        origin.append(item['airport']['origin']['name'])\n",
    "    if item['airport']['destination']==None:\n",
    "        destination.append(\"None\")\n",
    "    else:\n",
    "        destination.append(item['airport']['destination']['name'])\n",
    "    if item['time']['estimated']['arrival']==None:\n",
    "        estimated_arrival.append(\"None\")\n",
    "    else:\n",
    "        estimated_arrival.append(item['time']['estimated']['arrival'])\n",
    "    if item['time']['estimated']['departure']==None:\n",
    "        estimated_departure.append(\"None\")\n",
    "    else:\n",
    "        estimated_departure.append(from_unix_timestamp(item['time']['estimated']['departure']))\n",
    "    if item['time']['scheduled']['arrival']==None:\n",
    "        scheduled_arrival.append('None')\n",
    "    else:\n",
    "        scheduled_arrival.append(from_unix_timestamp(item['time']['scheduled']['arrival']))\n",
    "    if item['time']['scheduled']['departure']==None:\n",
    "        scheduled_departure.append('None')\n",
    "    else:\n",
    "        scheduled_departure.append(from_unix_timestamp(item['time']['scheduled']['departure']))\n",
    "    if item['time']['real']['arrival']==None:\n",
    "        real_arrival.append('None')\n",
    "    else:\n",
    "        real_arrival.append(from_unix_timestamp(item['time']['real']['arrival']))\n",
    "    if item['time']['real']['departure']==None:\n",
    "        real_departure.append('None')\n",
    "    else:\n",
    "        real_departure.append(from_unix_timestamp(item['time']['real']['departure']))\n",
    "    if item['time']['other']['duration']==None:\n",
    "        duration.append(\"None\")\n",
    "    else:\n",
    "        duration.append(item['time']['other']['duration'])\n",
    "    timestamp.append(item['_id'].generation_time)\n",
    "        "
   ]
  },
  {
   "cell_type": "code",
   "execution_count": 84,
   "metadata": {
    "collapsed": false
   },
   "outputs": [],
   "source": [
    "import pandas as pd \n",
    "\n",
    "df=pd.DataFrame({\"timestamp\":timestamp,\"origin\":origin,\"destination\":destination,\"estimated_arrival\":estimated_arrival,\"estimated_departure\":\n",
    "                estimated_departure,\"real_arrival\":real_arrival,\"real_departure\":real_departure,\"scheduled_arrival\":scheduled_arrival,\"scheduled_departure\":\n",
    "                scheduled_departure,\"flight_number\":flight_number,\"status\":status_text,\"duration\":duration})\n",
    "\n",
    "df=df[[\"timestamp\",\"flight_number\",\"origin\",\"destination\",\"scheduled_departure\",\"scheduled_arrival\",\"estimated_departure\",\"estimated_arrival\",\n",
    "      \"real_departure\",\"real_arrival\",\"status\",\"duration\"]]"
   ]
  },
  {
   "cell_type": "code",
   "execution_count": 85,
   "metadata": {
    "collapsed": false
   },
   "outputs": [
    {
     "data": {
      "text/html": [
       "<div>\n",
       "<table border=\"1\" class=\"dataframe\">\n",
       "  <thead>\n",
       "    <tr style=\"text-align: right;\">\n",
       "      <th></th>\n",
       "      <th>timestamp</th>\n",
       "      <th>flight_number</th>\n",
       "      <th>origin</th>\n",
       "      <th>destination</th>\n",
       "      <th>scheduled_departure</th>\n",
       "      <th>scheduled_arrival</th>\n",
       "      <th>estimated_departure</th>\n",
       "      <th>estimated_arrival</th>\n",
       "      <th>real_departure</th>\n",
       "      <th>real_arrival</th>\n",
       "      <th>status</th>\n",
       "      <th>duration</th>\n",
       "    </tr>\n",
       "  </thead>\n",
       "  <tbody>\n",
       "    <tr>\n",
       "      <th>0</th>\n",
       "      <td>2017-03-01 04:26:38+00:00</td>\n",
       "      <td>6E198</td>\n",
       "      <td>Mumbai Chhatrapati Shivaji International Airport</td>\n",
       "      <td>Delhi Indira Gandhi International Airport</td>\n",
       "      <td>2017-03-01 22:15:00</td>\n",
       "      <td>2017-03-02 00:25:00</td>\n",
       "      <td>2017-03-01 22:15:00</td>\n",
       "      <td>None</td>\n",
       "      <td>None</td>\n",
       "      <td>None</td>\n",
       "      <td>Estimated dep 22:15</td>\n",
       "      <td>7500</td>\n",
       "    </tr>\n",
       "    <tr>\n",
       "      <th>1</th>\n",
       "      <td>2017-03-01 04:26:38+00:00</td>\n",
       "      <td>6E197</td>\n",
       "      <td>Delhi Indira Gandhi International Airport</td>\n",
       "      <td>Mumbai Chhatrapati Shivaji International Airport</td>\n",
       "      <td>2017-03-01 19:30:00</td>\n",
       "      <td>2017-03-01 21:40:00</td>\n",
       "      <td>2017-03-01 19:30:00</td>\n",
       "      <td>None</td>\n",
       "      <td>None</td>\n",
       "      <td>None</td>\n",
       "      <td>Estimated dep 19:30</td>\n",
       "      <td>7200</td>\n",
       "    </tr>\n",
       "    <tr>\n",
       "      <th>2</th>\n",
       "      <td>2017-03-01 04:26:38+00:00</td>\n",
       "      <td>6E5409</td>\n",
       "      <td>Indore Devi Ahilyabai Holkar Airport</td>\n",
       "      <td>Delhi Indira Gandhi International Airport</td>\n",
       "      <td>2017-03-01 16:50:00</td>\n",
       "      <td>2017-03-01 18:20:00</td>\n",
       "      <td>2017-03-01 16:50:00</td>\n",
       "      <td>None</td>\n",
       "      <td>None</td>\n",
       "      <td>None</td>\n",
       "      <td>Estimated dep 16:50</td>\n",
       "      <td>5700</td>\n",
       "    </tr>\n",
       "    <tr>\n",
       "      <th>3</th>\n",
       "      <td>2017-03-01 04:26:38+00:00</td>\n",
       "      <td>6E4651</td>\n",
       "      <td>Mumbai Chhatrapati Shivaji International Airport</td>\n",
       "      <td>Indore Devi Ahilyabai Holkar Airport</td>\n",
       "      <td>2017-03-01 14:45:00</td>\n",
       "      <td>2017-03-01 16:10:00</td>\n",
       "      <td>2017-03-01 14:45:00</td>\n",
       "      <td>None</td>\n",
       "      <td>None</td>\n",
       "      <td>None</td>\n",
       "      <td>Estimated dep 14:45</td>\n",
       "      <td>4500</td>\n",
       "    </tr>\n",
       "    <tr>\n",
       "      <th>4</th>\n",
       "      <td>2017-03-01 04:26:38+00:00</td>\n",
       "      <td>6E3904</td>\n",
       "      <td>Indore Devi Ahilyabai Holkar Airport</td>\n",
       "      <td>Mumbai Chhatrapati Shivaji International Airport</td>\n",
       "      <td>2017-03-01 12:55:00</td>\n",
       "      <td>2017-03-01 14:10:00</td>\n",
       "      <td>2017-03-01 12:55:00</td>\n",
       "      <td>None</td>\n",
       "      <td>None</td>\n",
       "      <td>None</td>\n",
       "      <td>Estimated dep 12:55</td>\n",
       "      <td>4800</td>\n",
       "    </tr>\n",
       "  </tbody>\n",
       "</table>\n",
       "</div>"
      ],
      "text/plain": [
       "                  timestamp flight_number  \\\n",
       "0 2017-03-01 04:26:38+00:00         6E198   \n",
       "1 2017-03-01 04:26:38+00:00         6E197   \n",
       "2 2017-03-01 04:26:38+00:00        6E5409   \n",
       "3 2017-03-01 04:26:38+00:00        6E4651   \n",
       "4 2017-03-01 04:26:38+00:00        6E3904   \n",
       "\n",
       "                                             origin  \\\n",
       "0  Mumbai Chhatrapati Shivaji International Airport   \n",
       "1         Delhi Indira Gandhi International Airport   \n",
       "2              Indore Devi Ahilyabai Holkar Airport   \n",
       "3  Mumbai Chhatrapati Shivaji International Airport   \n",
       "4              Indore Devi Ahilyabai Holkar Airport   \n",
       "\n",
       "                                        destination  scheduled_departure  \\\n",
       "0         Delhi Indira Gandhi International Airport  2017-03-01 22:15:00   \n",
       "1  Mumbai Chhatrapati Shivaji International Airport  2017-03-01 19:30:00   \n",
       "2         Delhi Indira Gandhi International Airport  2017-03-01 16:50:00   \n",
       "3              Indore Devi Ahilyabai Holkar Airport  2017-03-01 14:45:00   \n",
       "4  Mumbai Chhatrapati Shivaji International Airport  2017-03-01 12:55:00   \n",
       "\n",
       "     scheduled_arrival  estimated_departure estimated_arrival real_departure  \\\n",
       "0  2017-03-02 00:25:00  2017-03-01 22:15:00              None           None   \n",
       "1  2017-03-01 21:40:00  2017-03-01 19:30:00              None           None   \n",
       "2  2017-03-01 18:20:00  2017-03-01 16:50:00              None           None   \n",
       "3  2017-03-01 16:10:00  2017-03-01 14:45:00              None           None   \n",
       "4  2017-03-01 14:10:00  2017-03-01 12:55:00              None           None   \n",
       "\n",
       "  real_arrival               status duration  \n",
       "0         None  Estimated dep 22:15     7500  \n",
       "1         None  Estimated dep 19:30     7200  \n",
       "2         None  Estimated dep 16:50     5700  \n",
       "3         None  Estimated dep 14:45     4500  \n",
       "4         None  Estimated dep 12:55     4800  "
      ]
     },
     "execution_count": 85,
     "metadata": {},
     "output_type": "execute_result"
    }
   ],
   "source": [
    "df.head()"
   ]
  },
  {
   "cell_type": "code",
   "execution_count": 4,
   "metadata": {
    "collapsed": false
   },
   "outputs": [],
   "source": [
    "#Function for extracting useful information from the database \n",
    "\n",
    "def extract(collection):\n",
    "    from geopy.distance import vincenty\n",
    "    import pandas as pd \n",
    "    flight_number=[]\n",
    "    status_text=[]\n",
    "    origin=[]\n",
    "    destination=[]\n",
    "    scheduled_departure=[]\n",
    "    scheduled_arrival=[]\n",
    "    real_departure=[]\n",
    "    real_arrival=[]\n",
    "    estimated_departure=[]\n",
    "    estimated_arrival=[]\n",
    "    duration=[]\n",
    "    timestamp=[]\n",
    "    distance_travelled=[]\n",
    "    country_origin=[]\n",
    "    country_destination=[]\n",
    "    airline_name=[]\n",
    "    registration=[]\n",
    "    for item in collection:\n",
    "        if item['airport']['origin']==None or item['airport']['destination']==None:\n",
    "            distance_travelled.append(\"0 km\")\n",
    "        else:\n",
    "            n=(item['airport']['destination']['position']['latitude'],item['airport']['destination']['position']['longitude'])\n",
    "            m=(item['airport'][\"origin\"]['position']['latitude'],item['airport']['origin']['position']['longitude'])\n",
    "            distance_travelled.append((vincenty(m,n)))\n",
    "            #country.append(item['airport']['origin']['position']['country']['name'])\n",
    "            \n",
    "        if item['identification']['number']['default']==None:\n",
    "            flight_number.append(\"None\")\n",
    "        else:\n",
    "            flight_number.append(item['identification']['number']['default'])\n",
    "        if item['status']['text']==None:\n",
    "            status_text.append(\"None\")\n",
    "        else:\n",
    "            status_text.append(item['status']['text'])\n",
    "        if item['airport']['origin']==None:\n",
    "            origin.append(\"None\")\n",
    "            country_origin.append(\"None\")\n",
    "            #distance_travelled.append('None')\n",
    "        else:\n",
    "            origin.append(item['airport']['origin']['name'])\n",
    "            country_origin.append(item['airport']['origin']['position']['country']['name'])\n",
    "            #m=(item['airport'][\"origin\"]['position']['latitude'],item['airport']['origin']['position']['longitude'])\n",
    "            #n=(item['airport']['destination']['position']['latitude'],item['airport']['destination']['position']['longitude'])\n",
    "            #distance_travelled.append((vincenty(m,n)))\n",
    "            \n",
    "        if item['airport']['destination']==None:\n",
    "            destination.append(\"None\")\n",
    "            country_destination.append(\"None\")\n",
    "        else:\n",
    "            destination.append(item['airport']['destination']['name'])\n",
    "            country_destination.append(item['airport']['destination']['position']['country']['name'])\n",
    "        if item['time']['estimated']['arrival']==None:\n",
    "            estimated_arrival.append(\"None\")\n",
    "        else:\n",
    "            estimated_arrival.append(item['time']['estimated']['arrival'])\n",
    "        if item['time']['estimated']['departure']==None:\n",
    "            estimated_departure.append(\"None\")\n",
    "        else:\n",
    "            estimated_departure.append(from_unix_timestamp(item['time']['estimated']['departure']))\n",
    "        if item['time']['scheduled']['arrival']==None:\n",
    "            scheduled_arrival.append('None')\n",
    "        else:\n",
    "            scheduled_arrival.append(from_unix_timestamp(item['time']['scheduled']['arrival']))\n",
    "        if item['time']['scheduled']['departure']==None:\n",
    "            scheduled_departure.append('None')\n",
    "        else:\n",
    "            scheduled_departure.append(from_unix_timestamp(item['time']['scheduled']['departure']))\n",
    "        if item['time']['real']['arrival']==None:\n",
    "            real_arrival.append('None')\n",
    "        else:\n",
    "            real_arrival.append(from_unix_timestamp(item['time']['real']['arrival']))\n",
    "        if item['time']['real']['departure']==None:\n",
    "            real_departure.append('None')\n",
    "        else:\n",
    "            real_departure.append(from_unix_timestamp(item['time']['real']['departure']))\n",
    "        # New added code\n",
    "        if item['aircraft']['registration']==None:\n",
    "            registration.append(\"None\")\n",
    "        else:\n",
    "            registration.append(item['aircraft']['registration'])\n",
    "        if item['airline']==None or item['airline']['name']==None:\n",
    "            airline_name.append(\"None\")\n",
    "        else:\n",
    "            airline_name.append(item['airline']['name'])\n",
    "        if item['time']['other']['duration']==None:\n",
    "            duration.append(\"None\")\n",
    "        else:\n",
    "            duration.append(item['time']['other']['duration'])\n",
    "        timestamp.append(item['_id'].generation_time)\n",
    "        \n",
    "    df=pd.DataFrame({\"timestamp\":timestamp,\"origin\":origin,\"destination\":destination,\"estimated_arrival\":estimated_arrival,\"estimated_departure\":\n",
    "                estimated_departure,\"real_arrival\":real_arrival,\"real_departure\":real_departure,\"scheduled_arrival\":scheduled_arrival,\"scheduled_departure\":\n",
    "                scheduled_departure,\"flight_number\":flight_number,\"status\":status_text,\"duration\":duration,\"distance_travelled\":distance_travelled,\n",
    "                    \"country_origin\":country_origin,\"country_dest\":country_destination,\"reg\":registration,\"airline_name\":airline_name})\n",
    "\n",
    "    df=df[[\"timestamp\",\"reg\",\"airline_name\",\"country_origin\",\"country_dest\",\"flight_number\",\"origin\",\"destination\",\"scheduled_departure\",\"scheduled_arrival\",\"estimated_departure\",\"estimated_arrival\",\n",
    "      \"real_departure\",\"real_arrival\",\"status\",\"duration\",\"distance_travelled\"]]\n",
    "    \n",
    "    return df\n",
    "        \n",
    "    "
   ]
  },
  {
   "cell_type": "code",
   "execution_count": 5,
   "metadata": {
    "collapsed": false
   },
   "outputs": [],
   "source": [
    "k=extract(collection_1.find())"
   ]
  },
  {
   "cell_type": "code",
   "execution_count": 61,
   "metadata": {
    "collapsed": true
   },
   "outputs": [],
   "source": [
    "#k.to_csv(\"final_data.csv\",sep=',')"
   ]
  },
  {
   "cell_type": "code",
   "execution_count": 90,
   "metadata": {
    "collapsed": false
   },
   "outputs": [],
   "source": [
    "#type(k.to_dict('records'))\n"
   ]
  },
  {
   "cell_type": "code",
   "execution_count": 6,
   "metadata": {
    "collapsed": false
   },
   "outputs": [
    {
     "data": {
      "text/plain": [
       "(375632, 17)"
      ]
     },
     "execution_count": 6,
     "metadata": {},
     "output_type": "execute_result"
    }
   ],
   "source": [
    "k.shape"
   ]
  },
  {
   "cell_type": "markdown",
   "metadata": {
    "collapsed": false
   },
   "source": [
    "### Data preprocessing - removing rows with missing values"
   ]
  },
  {
   "cell_type": "code",
   "execution_count": 7,
   "metadata": {
    "collapsed": false
   },
   "outputs": [],
   "source": [
    "data=k[k.scheduled_arrival!=\"None\"]\n",
    "data=data[data.real_arrival!=\"None\"]\n",
    "data=data[data.real_departure!='None']\n",
    "data=data[data.scheduled_departure!='None']\n"
   ]
  },
  {
   "cell_type": "code",
   "execution_count": 15,
   "metadata": {
    "collapsed": false
   },
   "outputs": [],
   "source": [
    "new_data=data.drop_duplicates(subset=[\"flight_number\",\"origin\",\"destination\",\"scheduled_departure\",\"scheduled_arrival\",\n",
    "                                     \"real_departure\",\"real_arrival\",\"status\",\"country_origin\",\"country_dest\",\"reg\",\"airline_name\"])"
   ]
  },
  {
   "cell_type": "code",
   "execution_count": 16,
   "metadata": {
    "collapsed": false
   },
   "outputs": [
    {
     "data": {
      "text/plain": [
       "(72490, 17)"
      ]
     },
     "execution_count": 16,
     "metadata": {},
     "output_type": "execute_result"
    }
   ],
   "source": [
    "new_data.shape"
   ]
  },
  {
   "cell_type": "code",
   "execution_count": 11,
   "metadata": {
    "collapsed": false
   },
   "outputs": [
    {
     "data": {
      "text/html": [
       "<div>\n",
       "<table border=\"1\" class=\"dataframe\">\n",
       "  <thead>\n",
       "    <tr style=\"text-align: right;\">\n",
       "      <th></th>\n",
       "      <th>timestamp</th>\n",
       "      <th>reg</th>\n",
       "      <th>airline_name</th>\n",
       "      <th>country_origin</th>\n",
       "      <th>country_dest</th>\n",
       "      <th>flight_number</th>\n",
       "      <th>origin</th>\n",
       "      <th>destination</th>\n",
       "      <th>scheduled_departure</th>\n",
       "      <th>scheduled_arrival</th>\n",
       "      <th>estimated_departure</th>\n",
       "      <th>estimated_arrival</th>\n",
       "      <th>real_departure</th>\n",
       "      <th>real_arrival</th>\n",
       "      <th>status</th>\n",
       "      <th>duration</th>\n",
       "      <th>distance_travelled</th>\n",
       "    </tr>\n",
       "  </thead>\n",
       "  <tbody>\n",
       "    <tr>\n",
       "      <th>7</th>\n",
       "      <td>2017-03-01 04:26:38+00:00</td>\n",
       "      <td>VT-IAL</td>\n",
       "      <td>IndiGo</td>\n",
       "      <td>India</td>\n",
       "      <td>India</td>\n",
       "      <td>6E732</td>\n",
       "      <td>Hyderabad Rajiv Gandhi International Airport</td>\n",
       "      <td>Lucknow Chaudhary Charan Singh Airport</td>\n",
       "      <td>2017-03-01 06:25:00</td>\n",
       "      <td>2017-03-01 08:25:00</td>\n",
       "      <td>None</td>\n",
       "      <td>None</td>\n",
       "      <td>2017-03-01 06:31:37</td>\n",
       "      <td>2017-03-01 08:03:00</td>\n",
       "      <td>Landed 08:03</td>\n",
       "      <td>5524</td>\n",
       "      <td>1082.7558529029552 km</td>\n",
       "    </tr>\n",
       "    <tr>\n",
       "      <th>8</th>\n",
       "      <td>2017-03-01 04:26:38+00:00</td>\n",
       "      <td>VT-IAL</td>\n",
       "      <td>IndiGo</td>\n",
       "      <td>India</td>\n",
       "      <td>India</td>\n",
       "      <td>6E6216</td>\n",
       "      <td>Lucknow Chaudhary Charan Singh Airport</td>\n",
       "      <td>Hyderabad Rajiv Gandhi International Airport</td>\n",
       "      <td>2017-02-28 21:00:00</td>\n",
       "      <td>2017-02-28 22:55:00</td>\n",
       "      <td>None</td>\n",
       "      <td>None</td>\n",
       "      <td>2017-02-28 20:56:07</td>\n",
       "      <td>2017-02-28 22:31:00</td>\n",
       "      <td>Landed 22:32</td>\n",
       "      <td>5787</td>\n",
       "      <td>1082.7558529029552 km</td>\n",
       "    </tr>\n",
       "    <tr>\n",
       "      <th>9</th>\n",
       "      <td>2017-03-01 04:26:38+00:00</td>\n",
       "      <td>VT-IAL</td>\n",
       "      <td>IndiGo</td>\n",
       "      <td>India</td>\n",
       "      <td>India</td>\n",
       "      <td>6E5156</td>\n",
       "      <td>Delhi Indira Gandhi International Airport</td>\n",
       "      <td>Lucknow Chaudhary Charan Singh Airport</td>\n",
       "      <td>2017-02-28 19:20:00</td>\n",
       "      <td>2017-02-28 20:30:00</td>\n",
       "      <td>None</td>\n",
       "      <td>None</td>\n",
       "      <td>2017-02-28 19:29:33</td>\n",
       "      <td>2017-02-28 20:13:00</td>\n",
       "      <td>Landed 20:13</td>\n",
       "      <td>2665</td>\n",
       "      <td>423.7601185098625 km</td>\n",
       "    </tr>\n",
       "    <tr>\n",
       "      <th>10</th>\n",
       "      <td>2017-03-01 04:26:38+00:00</td>\n",
       "      <td>VT-IAL</td>\n",
       "      <td>IndiGo</td>\n",
       "      <td>India</td>\n",
       "      <td>India</td>\n",
       "      <td>6E174</td>\n",
       "      <td>Mumbai Chhatrapati Shivaji International Airport</td>\n",
       "      <td>Delhi Indira Gandhi International Airport</td>\n",
       "      <td>2017-02-28 16:30:00</td>\n",
       "      <td>2017-02-28 18:40:00</td>\n",
       "      <td>None</td>\n",
       "      <td>None</td>\n",
       "      <td>2017-02-28 16:49:10</td>\n",
       "      <td>2017-02-28 18:23:00</td>\n",
       "      <td>Landed 18:23</td>\n",
       "      <td>5660</td>\n",
       "      <td>1134.6651511087132 km</td>\n",
       "    </tr>\n",
       "    <tr>\n",
       "      <th>11</th>\n",
       "      <td>2017-03-01 04:26:38+00:00</td>\n",
       "      <td>VT-IAL</td>\n",
       "      <td>IndiGo</td>\n",
       "      <td>India</td>\n",
       "      <td>India</td>\n",
       "      <td>6E176</td>\n",
       "      <td>Trivandrum International Airport</td>\n",
       "      <td>Mumbai Chhatrapati Shivaji International Airport</td>\n",
       "      <td>2017-02-28 10:15:00</td>\n",
       "      <td>2017-02-28 12:15:00</td>\n",
       "      <td>None</td>\n",
       "      <td>None</td>\n",
       "      <td>2017-02-28 11:22:52</td>\n",
       "      <td>2017-02-28 13:11:00</td>\n",
       "      <td>Landed 13:11</td>\n",
       "      <td>6517</td>\n",
       "      <td>1252.3895747521426 km</td>\n",
       "    </tr>\n",
       "  </tbody>\n",
       "</table>\n",
       "</div>"
      ],
      "text/plain": [
       "                   timestamp     reg airline_name country_origin country_dest  \\\n",
       "7  2017-03-01 04:26:38+00:00  VT-IAL       IndiGo          India        India   \n",
       "8  2017-03-01 04:26:38+00:00  VT-IAL       IndiGo          India        India   \n",
       "9  2017-03-01 04:26:38+00:00  VT-IAL       IndiGo          India        India   \n",
       "10 2017-03-01 04:26:38+00:00  VT-IAL       IndiGo          India        India   \n",
       "11 2017-03-01 04:26:38+00:00  VT-IAL       IndiGo          India        India   \n",
       "\n",
       "   flight_number                                            origin  \\\n",
       "7          6E732      Hyderabad Rajiv Gandhi International Airport   \n",
       "8         6E6216            Lucknow Chaudhary Charan Singh Airport   \n",
       "9         6E5156         Delhi Indira Gandhi International Airport   \n",
       "10         6E174  Mumbai Chhatrapati Shivaji International Airport   \n",
       "11         6E176                  Trivandrum International Airport   \n",
       "\n",
       "                                         destination  scheduled_departure  \\\n",
       "7             Lucknow Chaudhary Charan Singh Airport  2017-03-01 06:25:00   \n",
       "8       Hyderabad Rajiv Gandhi International Airport  2017-02-28 21:00:00   \n",
       "9             Lucknow Chaudhary Charan Singh Airport  2017-02-28 19:20:00   \n",
       "10         Delhi Indira Gandhi International Airport  2017-02-28 16:30:00   \n",
       "11  Mumbai Chhatrapati Shivaji International Airport  2017-02-28 10:15:00   \n",
       "\n",
       "      scheduled_arrival estimated_departure estimated_arrival  \\\n",
       "7   2017-03-01 08:25:00                None              None   \n",
       "8   2017-02-28 22:55:00                None              None   \n",
       "9   2017-02-28 20:30:00                None              None   \n",
       "10  2017-02-28 18:40:00                None              None   \n",
       "11  2017-02-28 12:15:00                None              None   \n",
       "\n",
       "         real_departure         real_arrival        status duration  \\\n",
       "7   2017-03-01 06:31:37  2017-03-01 08:03:00  Landed 08:03     5524   \n",
       "8   2017-02-28 20:56:07  2017-02-28 22:31:00  Landed 22:32     5787   \n",
       "9   2017-02-28 19:29:33  2017-02-28 20:13:00  Landed 20:13     2665   \n",
       "10  2017-02-28 16:49:10  2017-02-28 18:23:00  Landed 18:23     5660   \n",
       "11  2017-02-28 11:22:52  2017-02-28 13:11:00  Landed 13:11     6517   \n",
       "\n",
       "       distance_travelled  \n",
       "7   1082.7558529029552 km  \n",
       "8   1082.7558529029552 km  \n",
       "9    423.7601185098625 km  \n",
       "10  1134.6651511087132 km  \n",
       "11  1252.3895747521426 km  "
      ]
     },
     "execution_count": 11,
     "metadata": {},
     "output_type": "execute_result"
    }
   ],
   "source": [
    "new_data.head()"
   ]
  },
  {
   "cell_type": "code",
   "execution_count": 203,
   "metadata": {
    "collapsed": true
   },
   "outputs": [],
   "source": [
    "# writing to csv , uncomment the code for the same \n",
    "#new_data.to_csv(\"refined_data.csv\")"
   ]
  },
  {
   "cell_type": "code",
   "execution_count": 12,
   "metadata": {
    "collapsed": false
   },
   "outputs": [
    {
     "data": {
      "text/plain": [
       "timestamp              datetime64[ns, <bson.tz_util.FixedOffset objec...\n",
       "reg                                                               object\n",
       "airline_name                                                      object\n",
       "country_origin                                                    object\n",
       "country_dest                                                      object\n",
       "flight_number                                                     object\n",
       "origin                                                            object\n",
       "destination                                                       object\n",
       "scheduled_departure                                               object\n",
       "scheduled_arrival                                                 object\n",
       "estimated_departure                                               object\n",
       "estimated_arrival                                                 object\n",
       "real_departure                                                    object\n",
       "real_arrival                                                      object\n",
       "status                                                            object\n",
       "duration                                                          object\n",
       "distance_travelled                                                object\n",
       "dtype: object"
      ]
     },
     "execution_count": 12,
     "metadata": {},
     "output_type": "execute_result"
    }
   ],
   "source": [
    "new_data.dtypes"
   ]
  },
  {
   "cell_type": "code",
   "execution_count": 13,
   "metadata": {
    "collapsed": false
   },
   "outputs": [
    {
     "name": "stderr",
     "output_type": "stream",
     "text": [
      "C:\\Users\\Vishal_Oben\\Anaconda3\\lib\\site-packages\\ipykernel\\__main__.py:1: SettingWithCopyWarning: \n",
      "A value is trying to be set on a copy of a slice from a DataFrame.\n",
      "Try using .loc[row_indexer,col_indexer] = value instead\n",
      "\n",
      "See the caveats in the documentation: http://pandas.pydata.org/pandas-docs/stable/indexing.html#indexing-view-versus-copy\n",
      "  if __name__ == '__main__':\n",
      "C:\\Users\\Vishal_Oben\\Anaconda3\\lib\\site-packages\\ipykernel\\__main__.py:2: SettingWithCopyWarning: \n",
      "A value is trying to be set on a copy of a slice from a DataFrame.\n",
      "Try using .loc[row_indexer,col_indexer] = value instead\n",
      "\n",
      "See the caveats in the documentation: http://pandas.pydata.org/pandas-docs/stable/indexing.html#indexing-view-versus-copy\n",
      "  from ipykernel import kernelapp as app\n",
      "C:\\Users\\Vishal_Oben\\Anaconda3\\lib\\site-packages\\ipykernel\\__main__.py:3: SettingWithCopyWarning: \n",
      "A value is trying to be set on a copy of a slice from a DataFrame.\n",
      "Try using .loc[row_indexer,col_indexer] = value instead\n",
      "\n",
      "See the caveats in the documentation: http://pandas.pydata.org/pandas-docs/stable/indexing.html#indexing-view-versus-copy\n",
      "  app.launch_new_instance()\n",
      "C:\\Users\\Vishal_Oben\\Anaconda3\\lib\\site-packages\\ipykernel\\__main__.py:4: SettingWithCopyWarning: \n",
      "A value is trying to be set on a copy of a slice from a DataFrame.\n",
      "Try using .loc[row_indexer,col_indexer] = value instead\n",
      "\n",
      "See the caveats in the documentation: http://pandas.pydata.org/pandas-docs/stable/indexing.html#indexing-view-versus-copy\n"
     ]
    }
   ],
   "source": [
    "new_data[\"scheduled_departure\"]=pd.to_datetime(new_data.scheduled_departure)\n",
    "new_data['scheduled_arrival']=pd.to_datetime(new_data.scheduled_arrival)\n",
    "new_data['real_arrival']=pd.to_datetime(new_data.real_arrival)\n",
    "new_data['real_departure']=pd.to_datetime(new_data.real_departure)"
   ]
  },
  {
   "cell_type": "code",
   "execution_count": 14,
   "metadata": {
    "collapsed": false,
    "scrolled": true
   },
   "outputs": [
    {
     "data": {
      "text/plain": [
       "timestamp              datetime64[ns, <bson.tz_util.FixedOffset objec...\n",
       "reg                                                               object\n",
       "airline_name                                                      object\n",
       "country_origin                                                    object\n",
       "country_dest                                                      object\n",
       "flight_number                                                     object\n",
       "origin                                                            object\n",
       "destination                                                       object\n",
       "scheduled_departure                                       datetime64[ns]\n",
       "scheduled_arrival                                         datetime64[ns]\n",
       "estimated_departure                                               object\n",
       "estimated_arrival                                                 object\n",
       "real_departure                                            datetime64[ns]\n",
       "real_arrival                                              datetime64[ns]\n",
       "status                                                            object\n",
       "duration                                                          object\n",
       "distance_travelled                                                object\n",
       "dtype: object"
      ]
     },
     "execution_count": 14,
     "metadata": {},
     "output_type": "execute_result"
    }
   ],
   "source": [
    "new_data.dtypes"
   ]
  },
  {
   "cell_type": "code",
   "execution_count": 17,
   "metadata": {
    "collapsed": false
   },
   "outputs": [
    {
     "name": "stderr",
     "output_type": "stream",
     "text": [
      "C:\\Users\\Vishal_Oben\\Anaconda3\\lib\\site-packages\\ipykernel\\__main__.py:1: SettingWithCopyWarning: \n",
      "A value is trying to be set on a copy of a slice from a DataFrame.\n",
      "Try using .loc[row_indexer,col_indexer] = value instead\n",
      "\n",
      "See the caveats in the documentation: http://pandas.pydata.org/pandas-docs/stable/indexing.html#indexing-view-versus-copy\n",
      "  if __name__ == '__main__':\n",
      "C:\\Users\\Vishal_Oben\\Anaconda3\\lib\\site-packages\\ipykernel\\__main__.py:2: SettingWithCopyWarning: \n",
      "A value is trying to be set on a copy of a slice from a DataFrame.\n",
      "Try using .loc[row_indexer,col_indexer] = value instead\n",
      "\n",
      "See the caveats in the documentation: http://pandas.pydata.org/pandas-docs/stable/indexing.html#indexing-view-versus-copy\n",
      "  from ipykernel import kernelapp as app\n"
     ]
    }
   ],
   "source": [
    "new_data[\"arrival_delay\"]=(new_data['real_arrival']-new_data['scheduled_arrival']).astype('timedelta64[m]')\n",
    "new_data['departure_delay']=(new_data['real_departure']-new_data['scheduled_departure']).astype('timedelta64[m]')"
   ]
  },
  {
   "cell_type": "code",
   "execution_count": 18,
   "metadata": {
    "collapsed": false
   },
   "outputs": [
    {
     "data": {
      "text/html": [
       "<div>\n",
       "<table border=\"1\" class=\"dataframe\">\n",
       "  <thead>\n",
       "    <tr style=\"text-align: right;\">\n",
       "      <th></th>\n",
       "      <th>timestamp</th>\n",
       "      <th>reg</th>\n",
       "      <th>airline_name</th>\n",
       "      <th>country_origin</th>\n",
       "      <th>country_dest</th>\n",
       "      <th>flight_number</th>\n",
       "      <th>origin</th>\n",
       "      <th>destination</th>\n",
       "      <th>scheduled_departure</th>\n",
       "      <th>scheduled_arrival</th>\n",
       "      <th>estimated_departure</th>\n",
       "      <th>estimated_arrival</th>\n",
       "      <th>real_departure</th>\n",
       "      <th>real_arrival</th>\n",
       "      <th>status</th>\n",
       "      <th>duration</th>\n",
       "      <th>distance_travelled</th>\n",
       "      <th>arrival_delay</th>\n",
       "      <th>departure_delay</th>\n",
       "    </tr>\n",
       "  </thead>\n",
       "  <tbody>\n",
       "    <tr>\n",
       "      <th>7</th>\n",
       "      <td>2017-03-01 04:26:38+00:00</td>\n",
       "      <td>VT-IAL</td>\n",
       "      <td>IndiGo</td>\n",
       "      <td>India</td>\n",
       "      <td>India</td>\n",
       "      <td>6E732</td>\n",
       "      <td>Hyderabad Rajiv Gandhi International Airport</td>\n",
       "      <td>Lucknow Chaudhary Charan Singh Airport</td>\n",
       "      <td>2017-03-01 06:25:00</td>\n",
       "      <td>2017-03-01 08:25:00</td>\n",
       "      <td>None</td>\n",
       "      <td>None</td>\n",
       "      <td>2017-03-01 06:31:37</td>\n",
       "      <td>2017-03-01 08:03:00</td>\n",
       "      <td>Landed 08:03</td>\n",
       "      <td>5524</td>\n",
       "      <td>1082.7558529029552 km</td>\n",
       "      <td>-22.0</td>\n",
       "      <td>6.0</td>\n",
       "    </tr>\n",
       "    <tr>\n",
       "      <th>8</th>\n",
       "      <td>2017-03-01 04:26:38+00:00</td>\n",
       "      <td>VT-IAL</td>\n",
       "      <td>IndiGo</td>\n",
       "      <td>India</td>\n",
       "      <td>India</td>\n",
       "      <td>6E6216</td>\n",
       "      <td>Lucknow Chaudhary Charan Singh Airport</td>\n",
       "      <td>Hyderabad Rajiv Gandhi International Airport</td>\n",
       "      <td>2017-02-28 21:00:00</td>\n",
       "      <td>2017-02-28 22:55:00</td>\n",
       "      <td>None</td>\n",
       "      <td>None</td>\n",
       "      <td>2017-02-28 20:56:07</td>\n",
       "      <td>2017-02-28 22:31:00</td>\n",
       "      <td>Landed 22:32</td>\n",
       "      <td>5787</td>\n",
       "      <td>1082.7558529029552 km</td>\n",
       "      <td>-24.0</td>\n",
       "      <td>-4.0</td>\n",
       "    </tr>\n",
       "    <tr>\n",
       "      <th>9</th>\n",
       "      <td>2017-03-01 04:26:38+00:00</td>\n",
       "      <td>VT-IAL</td>\n",
       "      <td>IndiGo</td>\n",
       "      <td>India</td>\n",
       "      <td>India</td>\n",
       "      <td>6E5156</td>\n",
       "      <td>Delhi Indira Gandhi International Airport</td>\n",
       "      <td>Lucknow Chaudhary Charan Singh Airport</td>\n",
       "      <td>2017-02-28 19:20:00</td>\n",
       "      <td>2017-02-28 20:30:00</td>\n",
       "      <td>None</td>\n",
       "      <td>None</td>\n",
       "      <td>2017-02-28 19:29:33</td>\n",
       "      <td>2017-02-28 20:13:00</td>\n",
       "      <td>Landed 20:13</td>\n",
       "      <td>2665</td>\n",
       "      <td>423.7601185098625 km</td>\n",
       "      <td>-17.0</td>\n",
       "      <td>9.0</td>\n",
       "    </tr>\n",
       "    <tr>\n",
       "      <th>10</th>\n",
       "      <td>2017-03-01 04:26:38+00:00</td>\n",
       "      <td>VT-IAL</td>\n",
       "      <td>IndiGo</td>\n",
       "      <td>India</td>\n",
       "      <td>India</td>\n",
       "      <td>6E174</td>\n",
       "      <td>Mumbai Chhatrapati Shivaji International Airport</td>\n",
       "      <td>Delhi Indira Gandhi International Airport</td>\n",
       "      <td>2017-02-28 16:30:00</td>\n",
       "      <td>2017-02-28 18:40:00</td>\n",
       "      <td>None</td>\n",
       "      <td>None</td>\n",
       "      <td>2017-02-28 16:49:10</td>\n",
       "      <td>2017-02-28 18:23:00</td>\n",
       "      <td>Landed 18:23</td>\n",
       "      <td>5660</td>\n",
       "      <td>1134.6651511087132 km</td>\n",
       "      <td>-17.0</td>\n",
       "      <td>19.0</td>\n",
       "    </tr>\n",
       "    <tr>\n",
       "      <th>11</th>\n",
       "      <td>2017-03-01 04:26:38+00:00</td>\n",
       "      <td>VT-IAL</td>\n",
       "      <td>IndiGo</td>\n",
       "      <td>India</td>\n",
       "      <td>India</td>\n",
       "      <td>6E176</td>\n",
       "      <td>Trivandrum International Airport</td>\n",
       "      <td>Mumbai Chhatrapati Shivaji International Airport</td>\n",
       "      <td>2017-02-28 10:15:00</td>\n",
       "      <td>2017-02-28 12:15:00</td>\n",
       "      <td>None</td>\n",
       "      <td>None</td>\n",
       "      <td>2017-02-28 11:22:52</td>\n",
       "      <td>2017-02-28 13:11:00</td>\n",
       "      <td>Landed 13:11</td>\n",
       "      <td>6517</td>\n",
       "      <td>1252.3895747521426 km</td>\n",
       "      <td>56.0</td>\n",
       "      <td>67.0</td>\n",
       "    </tr>\n",
       "  </tbody>\n",
       "</table>\n",
       "</div>"
      ],
      "text/plain": [
       "                   timestamp     reg airline_name country_origin country_dest  \\\n",
       "7  2017-03-01 04:26:38+00:00  VT-IAL       IndiGo          India        India   \n",
       "8  2017-03-01 04:26:38+00:00  VT-IAL       IndiGo          India        India   \n",
       "9  2017-03-01 04:26:38+00:00  VT-IAL       IndiGo          India        India   \n",
       "10 2017-03-01 04:26:38+00:00  VT-IAL       IndiGo          India        India   \n",
       "11 2017-03-01 04:26:38+00:00  VT-IAL       IndiGo          India        India   \n",
       "\n",
       "   flight_number                                            origin  \\\n",
       "7          6E732      Hyderabad Rajiv Gandhi International Airport   \n",
       "8         6E6216            Lucknow Chaudhary Charan Singh Airport   \n",
       "9         6E5156         Delhi Indira Gandhi International Airport   \n",
       "10         6E174  Mumbai Chhatrapati Shivaji International Airport   \n",
       "11         6E176                  Trivandrum International Airport   \n",
       "\n",
       "                                         destination  scheduled_departure  \\\n",
       "7             Lucknow Chaudhary Charan Singh Airport  2017-03-01 06:25:00   \n",
       "8       Hyderabad Rajiv Gandhi International Airport  2017-02-28 21:00:00   \n",
       "9             Lucknow Chaudhary Charan Singh Airport  2017-02-28 19:20:00   \n",
       "10         Delhi Indira Gandhi International Airport  2017-02-28 16:30:00   \n",
       "11  Mumbai Chhatrapati Shivaji International Airport  2017-02-28 10:15:00   \n",
       "\n",
       "      scheduled_arrival estimated_departure estimated_arrival  \\\n",
       "7   2017-03-01 08:25:00                None              None   \n",
       "8   2017-02-28 22:55:00                None              None   \n",
       "9   2017-02-28 20:30:00                None              None   \n",
       "10  2017-02-28 18:40:00                None              None   \n",
       "11  2017-02-28 12:15:00                None              None   \n",
       "\n",
       "         real_departure         real_arrival        status duration  \\\n",
       "7   2017-03-01 06:31:37  2017-03-01 08:03:00  Landed 08:03     5524   \n",
       "8   2017-02-28 20:56:07  2017-02-28 22:31:00  Landed 22:32     5787   \n",
       "9   2017-02-28 19:29:33  2017-02-28 20:13:00  Landed 20:13     2665   \n",
       "10  2017-02-28 16:49:10  2017-02-28 18:23:00  Landed 18:23     5660   \n",
       "11  2017-02-28 11:22:52  2017-02-28 13:11:00  Landed 13:11     6517   \n",
       "\n",
       "       distance_travelled  arrival_delay  departure_delay  \n",
       "7   1082.7558529029552 km          -22.0              6.0  \n",
       "8   1082.7558529029552 km          -24.0             -4.0  \n",
       "9    423.7601185098625 km          -17.0              9.0  \n",
       "10  1134.6651511087132 km          -17.0             19.0  \n",
       "11  1252.3895747521426 km           56.0             67.0  "
      ]
     },
     "execution_count": 18,
     "metadata": {},
     "output_type": "execute_result"
    }
   ],
   "source": [
    "new_data.head()"
   ]
  },
  {
   "cell_type": "code",
   "execution_count": 19,
   "metadata": {
    "collapsed": false
   },
   "outputs": [
    {
     "name": "stderr",
     "output_type": "stream",
     "text": [
      "C:\\Users\\Vishal_Oben\\Anaconda3\\lib\\site-packages\\ipykernel\\__main__.py:1: SettingWithCopyWarning: \n",
      "A value is trying to be set on a copy of a slice from a DataFrame.\n",
      "Try using .loc[row_indexer,col_indexer] = value instead\n",
      "\n",
      "See the caveats in the documentation: http://pandas.pydata.org/pandas-docs/stable/indexing.html#indexing-view-versus-copy\n",
      "  if __name__ == '__main__':\n",
      "C:\\Users\\Vishal_Oben\\Anaconda3\\lib\\site-packages\\ipykernel\\__main__.py:2: SettingWithCopyWarning: \n",
      "A value is trying to be set on a copy of a slice from a DataFrame.\n",
      "Try using .loc[row_indexer,col_indexer] = value instead\n",
      "\n",
      "See the caveats in the documentation: http://pandas.pydata.org/pandas-docs/stable/indexing.html#indexing-view-versus-copy\n",
      "  from ipykernel import kernelapp as app\n",
      "C:\\Users\\Vishal_Oben\\Anaconda3\\lib\\site-packages\\ipykernel\\__main__.py:3: SettingWithCopyWarning: \n",
      "A value is trying to be set on a copy of a slice from a DataFrame.\n",
      "Try using .loc[row_indexer,col_indexer] = value instead\n",
      "\n",
      "See the caveats in the documentation: http://pandas.pydata.org/pandas-docs/stable/indexing.html#indexing-view-versus-copy\n",
      "  app.launch_new_instance()\n"
     ]
    }
   ],
   "source": [
    "new_data[\"hour_dep\"]=new_data.scheduled_departure.dt.hour\n",
    "new_data[\"weekday_dep\"]=new_data.scheduled_departure.dt.weekday_name\n",
    "new_data[\"day_of_month_dep\"]=new_data.scheduled_departure.dt.day\n"
   ]
  },
  {
   "cell_type": "markdown",
   "metadata": {},
   "source": [
    "### Duration of collected dataset "
   ]
  },
  {
   "cell_type": "code",
   "execution_count": 20,
   "metadata": {
    "collapsed": false
   },
   "outputs": [
    {
     "name": "stdout",
     "output_type": "stream",
     "text": [
      "MAXIMUM TIMESTAMP IN DATASET:\n",
      "2017-03-20 12:30:00\n",
      "\n",
      "\n",
      "MINIMUM TIMESTAMP IN DATASET:\n",
      "2017-02-22 00:55:00\n"
     ]
    }
   ],
   "source": [
    "print(\"MAXIMUM TIMESTAMP IN DATASET:\")\n",
    "print(new_data.scheduled_departure.max())\n",
    "print(\"\\n\")\n",
    "print(\"MINIMUM TIMESTAMP IN DATASET:\")\n",
    "print(new_data.scheduled_departure.min())"
   ]
  },
  {
   "cell_type": "code",
   "execution_count": 21,
   "metadata": {
    "collapsed": false
   },
   "outputs": [
    {
     "data": {
      "text/plain": [
       "(72490, 22)"
      ]
     },
     "execution_count": 21,
     "metadata": {},
     "output_type": "execute_result"
    }
   ],
   "source": [
    "#Shape of datafarme\n",
    "new_data.shape\n",
    "#new_data.to_csv(\"refined_data.csv\")"
   ]
  },
  {
   "cell_type": "code",
   "execution_count": 22,
   "metadata": {
    "collapsed": false
   },
   "outputs": [
    {
     "data": {
      "text/html": [
       "<div>\n",
       "<table border=\"1\" class=\"dataframe\">\n",
       "  <thead>\n",
       "    <tr style=\"text-align: right;\">\n",
       "      <th></th>\n",
       "      <th>reg</th>\n",
       "      <th>airline_name</th>\n",
       "      <th>country_origin</th>\n",
       "      <th>country_dest</th>\n",
       "      <th>flight_number</th>\n",
       "      <th>origin</th>\n",
       "      <th>destination</th>\n",
       "      <th>scheduled_departure</th>\n",
       "      <th>scheduled_arrival</th>\n",
       "      <th>estimated_departure</th>\n",
       "      <th>estimated_arrival</th>\n",
       "      <th>real_departure</th>\n",
       "      <th>real_arrival</th>\n",
       "      <th>status</th>\n",
       "      <th>duration</th>\n",
       "      <th>distance_travelled</th>\n",
       "      <th>weekday_dep</th>\n",
       "    </tr>\n",
       "  </thead>\n",
       "  <tbody>\n",
       "    <tr>\n",
       "      <th>count</th>\n",
       "      <td>72490</td>\n",
       "      <td>72490</td>\n",
       "      <td>72490</td>\n",
       "      <td>72490</td>\n",
       "      <td>72490</td>\n",
       "      <td>72490</td>\n",
       "      <td>72490</td>\n",
       "      <td>72490</td>\n",
       "      <td>72490</td>\n",
       "      <td>72490</td>\n",
       "      <td>72490</td>\n",
       "      <td>72490</td>\n",
       "      <td>72490</td>\n",
       "      <td>72490</td>\n",
       "      <td>72490</td>\n",
       "      <td>72490</td>\n",
       "      <td>72490</td>\n",
       "    </tr>\n",
       "    <tr>\n",
       "      <th>unique</th>\n",
       "      <td>446</td>\n",
       "      <td>13</td>\n",
       "      <td>33</td>\n",
       "      <td>30</td>\n",
       "      <td>2315</td>\n",
       "      <td>108</td>\n",
       "      <td>104</td>\n",
       "      <td>7415</td>\n",
       "      <td>7498</td>\n",
       "      <td>1</td>\n",
       "      <td>1</td>\n",
       "      <td>59575</td>\n",
       "      <td>41992</td>\n",
       "      <td>1440</td>\n",
       "      <td>12179</td>\n",
       "      <td>72465</td>\n",
       "      <td>7</td>\n",
       "    </tr>\n",
       "    <tr>\n",
       "      <th>top</th>\n",
       "      <td>VT-JCZ</td>\n",
       "      <td>IndiGo</td>\n",
       "      <td>India</td>\n",
       "      <td>India</td>\n",
       "      <td>6E339</td>\n",
       "      <td>Delhi Indira Gandhi International Airport</td>\n",
       "      <td>Delhi Indira Gandhi International Airport</td>\n",
       "      <td>2017-03-10 07:00:00</td>\n",
       "      <td>2017-03-09 20:20:00</td>\n",
       "      <td>None</td>\n",
       "      <td>None</td>\n",
       "      <td>2017-03-11 14:10:00</td>\n",
       "      <td>2017-03-14 07:55:00</td>\n",
       "      <td>Landed 10:37</td>\n",
       "      <td>2940</td>\n",
       "      <td>0 km</td>\n",
       "      <td>Friday</td>\n",
       "    </tr>\n",
       "    <tr>\n",
       "      <th>freq</th>\n",
       "      <td>258</td>\n",
       "      <td>25583</td>\n",
       "      <td>66908</td>\n",
       "      <td>66820</td>\n",
       "      <td>154</td>\n",
       "      <td>13846</td>\n",
       "      <td>14065</td>\n",
       "      <td>63</td>\n",
       "      <td>49</td>\n",
       "      <td>72490</td>\n",
       "      <td>72490</td>\n",
       "      <td>8</td>\n",
       "      <td>17</td>\n",
       "      <td>107</td>\n",
       "      <td>439</td>\n",
       "      <td>26</td>\n",
       "      <td>11906</td>\n",
       "    </tr>\n",
       "  </tbody>\n",
       "</table>\n",
       "</div>"
      ],
      "text/plain": [
       "           reg airline_name country_origin country_dest flight_number  \\\n",
       "count    72490        72490          72490        72490         72490   \n",
       "unique     446           13             33           30          2315   \n",
       "top     VT-JCZ       IndiGo          India        India         6E339   \n",
       "freq       258        25583          66908        66820           154   \n",
       "\n",
       "                                           origin  \\\n",
       "count                                       72490   \n",
       "unique                                        108   \n",
       "top     Delhi Indira Gandhi International Airport   \n",
       "freq                                        13846   \n",
       "\n",
       "                                      destination  scheduled_departure  \\\n",
       "count                                       72490                72490   \n",
       "unique                                        104                 7415   \n",
       "top     Delhi Indira Gandhi International Airport  2017-03-10 07:00:00   \n",
       "freq                                        14065                   63   \n",
       "\n",
       "          scheduled_arrival estimated_departure estimated_arrival  \\\n",
       "count                 72490               72490             72490   \n",
       "unique                 7498                   1                 1   \n",
       "top     2017-03-09 20:20:00                None              None   \n",
       "freq                     49               72490             72490   \n",
       "\n",
       "             real_departure         real_arrival        status  duration  \\\n",
       "count                 72490                72490         72490     72490   \n",
       "unique                59575                41992          1440     12179   \n",
       "top     2017-03-11 14:10:00  2017-03-14 07:55:00  Landed 10:37      2940   \n",
       "freq                      8                   17           107       439   \n",
       "\n",
       "       distance_travelled weekday_dep  \n",
       "count               72490       72490  \n",
       "unique              72465           7  \n",
       "top                  0 km      Friday  \n",
       "freq                   26       11906  "
      ]
     },
     "execution_count": 22,
     "metadata": {},
     "output_type": "execute_result"
    }
   ],
   "source": [
    "new_data.describe(include=[\"object\"])"
   ]
  },
  {
   "cell_type": "code",
   "execution_count": 23,
   "metadata": {
    "collapsed": true
   },
   "outputs": [],
   "source": [
    "# removing international flights \n",
    "\n",
    "new_data_domestic=new_data[(new_data.country_origin==\"India\") & (new_data.country_dest==\"India\")]"
   ]
  },
  {
   "cell_type": "code",
   "execution_count": 24,
   "metadata": {
    "collapsed": false
   },
   "outputs": [
    {
     "data": {
      "text/plain": [
       "(61414, 22)"
      ]
     },
     "execution_count": 24,
     "metadata": {},
     "output_type": "execute_result"
    }
   ],
   "source": [
    "new_data_domestic.shape\n",
    "#del new_data_domestic[\"timestamp\"]\n",
    "#new_data_domestic.to_csv(\"all_domestic.csv\")"
   ]
  },
  {
   "cell_type": "code",
   "execution_count": 25,
   "metadata": {
    "collapsed": false
   },
   "outputs": [],
   "source": [
    "qwe=new_data_domestic.drop_duplicates(subset=[\"flight_number\",\"origin\",\"destination\",\"scheduled_departure\",\"scheduled_arrival\",\n",
    "                                     \"real_departure\",\"real_arrival\",\"status\",\"reg\",\"airline_name\"])"
   ]
  },
  {
   "cell_type": "code",
   "execution_count": 26,
   "metadata": {
    "collapsed": false
   },
   "outputs": [
    {
     "data": {
      "text/plain": [
       "(61414, 22)"
      ]
     },
     "execution_count": 26,
     "metadata": {},
     "output_type": "execute_result"
    }
   ],
   "source": [
    "qwe.shape"
   ]
  },
  {
   "cell_type": "markdown",
   "metadata": {},
   "source": [
    "## Contribution of Individual domestic carriers"
   ]
  },
  {
   "cell_type": "code",
   "execution_count": 32,
   "metadata": {
    "collapsed": false
   },
   "outputs": [
    {
     "data": {
      "text/plain": [
       "<matplotlib.text.Text at 0x1f7550b8>"
      ]
     },
     "execution_count": 32,
     "metadata": {},
     "output_type": "execute_result"
    },
    {
     "data": {
      "image/png": "[encoded data removed]",
      "text/plain": [
       "<matplotlib.figure.Figure at 0x1d3d6dd8>"
      ]
     },
     "metadata": {},
     "output_type": "display_data"
    }
   ],
   "source": [
    "import matplotlib.pyplot as plt \n",
    "%matplotlib inline\n",
    "qwe.airline_name.value_counts(normalize=True).plot(kind=\"Bar\",figsize=(15,10),color=\"g\")\n",
    "plt.ylabel(\" proportion  of  flights\")\n",
    "plt.xlabel(\"Name of carrier\")"
   ]
  },
  {
   "cell_type": "markdown",
   "metadata": {},
   "source": [
    "## Distribution of flights by day of the week "
   ]
  },
  {
   "cell_type": "code",
   "execution_count": 35,
   "metadata": {
    "collapsed": false
   },
   "outputs": [
    {
     "data": {
      "text/plain": [
       "<matplotlib.text.Text at 0x1d0df8d0>"
      ]
     },
     "execution_count": 35,
     "metadata": {},
     "output_type": "execute_result"
    },
    {
     "data": {
      "image/png": "[encoded data removed]",
      "text/plain": [
       "<matplotlib.figure.Figure at 0x1d017438>"
      ]
     },
     "metadata": {},
     "output_type": "display_data"
    }
   ],
   "source": [
    "qwe.weekday_dep.value_counts(normalize=True).plot(kind=\"line\",figsize=(15,10),color=\"b\")\n",
    "plt.ylabel(\"proportion  of flights\")\n",
    "plt.xlabel(\"Week Day\")"
   ]
  },
  {
   "cell_type": "markdown",
   "metadata": {},
   "source": [
    "## Distribution of flights by ORIGIN Airport "
   ]
  },
  {
   "cell_type": "code",
   "execution_count": 44,
   "metadata": {
    "collapsed": false
   },
   "outputs": [
    {
     "data": {
      "text/plain": [
       "<matplotlib.axes._subplots.AxesSubplot at 0x1bb89748>"
      ]
     },
     "execution_count": 44,
     "metadata": {},
     "output_type": "execute_result"
    },
    {
     "data": {
      "image/png": "[encoded data removed]",
      "text/plain": [
       "<matplotlib.figure.Figure at 0x1bb557b8>"
      ]
     },
     "metadata": {},
     "output_type": "display_data"
    }
   ],
   "source": [
    "qwe.origin.value_counts(normalize=False,ascending=True).plot(kind=\"barh\",figsize=(20,15),color=\"orange\")"
   ]
  },
  {
   "cell_type": "code",
   "execution_count": 58,
   "metadata": {
    "collapsed": false
   },
   "outputs": [
    {
     "name": "stdout",
     "output_type": "stream",
     "text": [
      "(62,)\n"
     ]
    }
   ],
   "source": [
    "q=qwe.origin.value_counts()\n",
    "print(q.shape)"
   ]
  },
  {
   "cell_type": "markdown",
   "metadata": {},
   "source": [
    "## Filtering out delayed flights ( arrival_delay >0 )"
   ]
  },
  {
   "cell_type": "code",
   "execution_count": 45,
   "metadata": {
    "collapsed": true
   },
   "outputs": [],
   "source": [
    "#filtering out delayed flights,if arrival_delay is greater than 0 , it is considered delayed \n",
    "\n",
    "delayed_flights_0_min=new_data_domestic[new_data_domestic.arrival_delay>0]\n",
    "#delayed_flights_0_min.to_csv(\"delayed_flight_final.csv\")"
   ]
  },
  {
   "cell_type": "code",
   "execution_count": 46,
   "metadata": {
    "collapsed": false
   },
   "outputs": [
    {
     "data": {
      "text/plain": [
       "(23505, 22)"
      ]
     },
     "execution_count": 46,
     "metadata": {},
     "output_type": "execute_result"
    }
   ],
   "source": [
    "#Printing the shape of delayed flight \n",
    "\n",
    "\n",
    "delayed_flights_0_min.shape"
   ]
  },
  {
   "cell_type": "code",
   "execution_count": 47,
   "metadata": {
    "collapsed": false
   },
   "outputs": [],
   "source": [
    "# importing libraries for plotting \n",
    "\n",
    "import matplotlib.pyplot as plt \n",
    "%matplotlib inline\n",
    "del delayed_flights_0_min['timestamp']"
   ]
  },
  {
   "cell_type": "code",
   "execution_count": 48,
   "metadata": {
    "collapsed": false
   },
   "outputs": [
    {
     "data": {
      "text/html": [
       "<div>\n",
       "<table border=\"1\" class=\"dataframe\">\n",
       "  <thead>\n",
       "    <tr style=\"text-align: right;\">\n",
       "      <th></th>\n",
       "      <th>reg</th>\n",
       "      <th>airline_name</th>\n",
       "      <th>country_origin</th>\n",
       "      <th>country_dest</th>\n",
       "      <th>flight_number</th>\n",
       "      <th>origin</th>\n",
       "      <th>destination</th>\n",
       "      <th>scheduled_departure</th>\n",
       "      <th>scheduled_arrival</th>\n",
       "      <th>estimated_departure</th>\n",
       "      <th>...</th>\n",
       "      <th>real_departure</th>\n",
       "      <th>real_arrival</th>\n",
       "      <th>status</th>\n",
       "      <th>duration</th>\n",
       "      <th>distance_travelled</th>\n",
       "      <th>arrival_delay</th>\n",
       "      <th>departure_delay</th>\n",
       "      <th>hour_dep</th>\n",
       "      <th>weekday_dep</th>\n",
       "      <th>day_of_month_dep</th>\n",
       "    </tr>\n",
       "  </thead>\n",
       "  <tbody>\n",
       "    <tr>\n",
       "      <th>11</th>\n",
       "      <td>VT-IAL</td>\n",
       "      <td>IndiGo</td>\n",
       "      <td>India</td>\n",
       "      <td>India</td>\n",
       "      <td>6E176</td>\n",
       "      <td>Trivandrum International Airport</td>\n",
       "      <td>Mumbai Chhatrapati Shivaji International Airport</td>\n",
       "      <td>2017-02-28 10:15:00</td>\n",
       "      <td>2017-02-28 12:15:00</td>\n",
       "      <td>None</td>\n",
       "      <td>...</td>\n",
       "      <td>2017-02-28 11:22:52</td>\n",
       "      <td>2017-02-28 13:11:00</td>\n",
       "      <td>Landed 13:11</td>\n",
       "      <td>6517</td>\n",
       "      <td>1252.3895747521426 km</td>\n",
       "      <td>56.0</td>\n",
       "      <td>67.0</td>\n",
       "      <td>10</td>\n",
       "      <td>Tuesday</td>\n",
       "      <td>28</td>\n",
       "    </tr>\n",
       "    <tr>\n",
       "      <th>18</th>\n",
       "      <td>VT-IAL</td>\n",
       "      <td>IndiGo</td>\n",
       "      <td>India</td>\n",
       "      <td>India</td>\n",
       "      <td>6E238</td>\n",
       "      <td>Ahmedabad International Airport</td>\n",
       "      <td>Chennai International Airport</td>\n",
       "      <td>2017-02-27 09:55:00</td>\n",
       "      <td>2017-02-27 12:10:00</td>\n",
       "      <td>None</td>\n",
       "      <td>...</td>\n",
       "      <td>2017-02-27 10:18:32</td>\n",
       "      <td>2017-02-27 12:24:00</td>\n",
       "      <td>Landed 12:24</td>\n",
       "      <td>7564</td>\n",
       "      <td>1371.7036839622774 km</td>\n",
       "      <td>14.0</td>\n",
       "      <td>23.0</td>\n",
       "      <td>9</td>\n",
       "      <td>Monday</td>\n",
       "      <td>27</td>\n",
       "    </tr>\n",
       "    <tr>\n",
       "      <th>20</th>\n",
       "      <td>VT-IAL</td>\n",
       "      <td>IndiGo</td>\n",
       "      <td>India</td>\n",
       "      <td>India</td>\n",
       "      <td>6E238</td>\n",
       "      <td>Kolkata International Airport</td>\n",
       "      <td>Jaipur Airport</td>\n",
       "      <td>2017-02-27 05:20:00</td>\n",
       "      <td>2017-02-27 07:25:00</td>\n",
       "      <td>None</td>\n",
       "      <td>...</td>\n",
       "      <td>2017-02-27 05:23:10</td>\n",
       "      <td>2017-02-27 07:35:00</td>\n",
       "      <td>Landed 07:44</td>\n",
       "      <td>8474</td>\n",
       "      <td>1358.1577783850107 km</td>\n",
       "      <td>10.0</td>\n",
       "      <td>3.0</td>\n",
       "      <td>5</td>\n",
       "      <td>Monday</td>\n",
       "      <td>27</td>\n",
       "    </tr>\n",
       "    <tr>\n",
       "      <th>30</th>\n",
       "      <td>VT-IAL</td>\n",
       "      <td>IndiGo</td>\n",
       "      <td>India</td>\n",
       "      <td>India</td>\n",
       "      <td>6E6493</td>\n",
       "      <td>Bangalore Kempegowda International Airport</td>\n",
       "      <td>Kolkata International Airport</td>\n",
       "      <td>2017-02-25 18:15:00</td>\n",
       "      <td>2017-02-25 20:40:00</td>\n",
       "      <td>None</td>\n",
       "      <td>...</td>\n",
       "      <td>2017-02-25 18:46:18</td>\n",
       "      <td>2017-02-25 20:57:00</td>\n",
       "      <td>Landed 21:00</td>\n",
       "      <td>8076</td>\n",
       "      <td>1544.731830735519 km</td>\n",
       "      <td>17.0</td>\n",
       "      <td>31.0</td>\n",
       "      <td>18</td>\n",
       "      <td>Saturday</td>\n",
       "      <td>25</td>\n",
       "    </tr>\n",
       "    <tr>\n",
       "      <th>36</th>\n",
       "      <td>VT-IAL</td>\n",
       "      <td>IndiGo</td>\n",
       "      <td>India</td>\n",
       "      <td>India</td>\n",
       "      <td>6E963</td>\n",
       "      <td>Delhi Indira Gandhi International Airport</td>\n",
       "      <td>Bangalore Kempegowda International Airport</td>\n",
       "      <td>2017-02-24 19:45:00</td>\n",
       "      <td>2017-02-24 22:30:00</td>\n",
       "      <td>None</td>\n",
       "      <td>...</td>\n",
       "      <td>2017-02-24 19:59:29</td>\n",
       "      <td>2017-02-24 22:32:33</td>\n",
       "      <td>Landed 22:32</td>\n",
       "      <td>9184</td>\n",
       "      <td>1702.6538858818212 km</td>\n",
       "      <td>2.0</td>\n",
       "      <td>14.0</td>\n",
       "      <td>19</td>\n",
       "      <td>Friday</td>\n",
       "      <td>24</td>\n",
       "    </tr>\n",
       "  </tbody>\n",
       "</table>\n",
       "<p>5 rows × 21 columns</p>\n",
       "</div>"
      ],
      "text/plain": [
       "       reg airline_name country_origin country_dest flight_number  \\\n",
       "11  VT-IAL       IndiGo          India        India         6E176   \n",
       "18  VT-IAL       IndiGo          India        India         6E238   \n",
       "20  VT-IAL       IndiGo          India        India         6E238   \n",
       "30  VT-IAL       IndiGo          India        India        6E6493   \n",
       "36  VT-IAL       IndiGo          India        India         6E963   \n",
       "\n",
       "                                        origin  \\\n",
       "11            Trivandrum International Airport   \n",
       "18             Ahmedabad International Airport   \n",
       "20               Kolkata International Airport   \n",
       "30  Bangalore Kempegowda International Airport   \n",
       "36   Delhi Indira Gandhi International Airport   \n",
       "\n",
       "                                         destination  scheduled_departure  \\\n",
       "11  Mumbai Chhatrapati Shivaji International Airport  2017-02-28 10:15:00   \n",
       "18                     Chennai International Airport  2017-02-27 09:55:00   \n",
       "20                                    Jaipur Airport  2017-02-27 05:20:00   \n",
       "30                     Kolkata International Airport  2017-02-25 18:15:00   \n",
       "36        Bangalore Kempegowda International Airport  2017-02-24 19:45:00   \n",
       "\n",
       "      scheduled_arrival estimated_departure       ...         \\\n",
       "11  2017-02-28 12:15:00                None       ...          \n",
       "18  2017-02-27 12:10:00                None       ...          \n",
       "20  2017-02-27 07:25:00                None       ...          \n",
       "30  2017-02-25 20:40:00                None       ...          \n",
       "36  2017-02-24 22:30:00                None       ...          \n",
       "\n",
       "         real_departure         real_arrival        status duration  \\\n",
       "11  2017-02-28 11:22:52  2017-02-28 13:11:00  Landed 13:11     6517   \n",
       "18  2017-02-27 10:18:32  2017-02-27 12:24:00  Landed 12:24     7564   \n",
       "20  2017-02-27 05:23:10  2017-02-27 07:35:00  Landed 07:44     8474   \n",
       "30  2017-02-25 18:46:18  2017-02-25 20:57:00  Landed 21:00     8076   \n",
       "36  2017-02-24 19:59:29  2017-02-24 22:32:33  Landed 22:32     9184   \n",
       "\n",
       "       distance_travelled arrival_delay  departure_delay  hour_dep  \\\n",
       "11  1252.3895747521426 km          56.0             67.0        10   \n",
       "18  1371.7036839622774 km          14.0             23.0         9   \n",
       "20  1358.1577783850107 km          10.0              3.0         5   \n",
       "30   1544.731830735519 km          17.0             31.0        18   \n",
       "36  1702.6538858818212 km           2.0             14.0        19   \n",
       "\n",
       "    weekday_dep day_of_month_dep  \n",
       "11      Tuesday               28  \n",
       "18       Monday               27  \n",
       "20       Monday               27  \n",
       "30     Saturday               25  \n",
       "36       Friday               24  \n",
       "\n",
       "[5 rows x 21 columns]"
      ]
     },
     "execution_count": 48,
     "metadata": {},
     "output_type": "execute_result"
    }
   ],
   "source": [
    "# Checking the structure of dataset \n",
    "\n",
    "delayed_flights_0_min.head()"
   ]
  },
  {
   "cell_type": "markdown",
   "metadata": {},
   "source": [
    "## Descriptive statistics for \"arrival_delay\" variable"
   ]
  },
  {
   "cell_type": "code",
   "execution_count": 49,
   "metadata": {
    "collapsed": false
   },
   "outputs": [
    {
     "name": "stdout",
     "output_type": "stream",
     "text": [
      "Average arrival delay across all airports when delayed :24.17383535417996\n",
      "Median arrival delay across all airports when delayed:15.0\n",
      "Standard deviation of the arrival delay when delayed  :31.52678695936653\n"
     ]
    }
   ],
   "source": [
    "print(\"Average arrival delay across all airports when delayed :{}\".format(delayed_flights_0_min.arrival_delay.mean()))\n",
    "print(\"Median arrival delay across all airports when delayed:{}\".format(delayed_flights_0_min.arrival_delay.median()))\n",
    "print(\"Standard deviation of the arrival delay when delayed  :{}\".format(delayed_flights_0_min.arrival_delay.std()))"
   ]
  },
  {
   "cell_type": "code",
   "execution_count": 54,
   "metadata": {
    "collapsed": false
   },
   "outputs": [
    {
     "data": {
      "image/png": "[encoded data removed]",
      "text/plain": [
       "<matplotlib.figure.Figure at 0x2dff6a90>"
      ]
     },
     "metadata": {},
     "output_type": "display_data"
    }
   ],
   "source": [
    "delayed_flights_0_min.groupby(\"origin\").arrival_delay.mean().plot(kind=\"barh\",figsize=(10,20))\n"
   ]
  },
  {
   "cell_type": "markdown",
   "metadata": {},
   "source": [
    "# Average arrival delay on hourly basis"
   ]
  },
  {
   "cell_type": "code",
   "execution_count": 66,
   "metadata": {
    "collapsed": false
   },
   "outputs": [
    {
     "data": {
      "text/plain": [
       "<matplotlib.text.Text at 0x2c8652b0>"
      ]
     },
     "execution_count": 66,
     "metadata": {},
     "output_type": "execute_result"
    },
    {
     "data": {
      "image/png": "[encoded data removed]",
      "text/plain": [
       "<matplotlib.figure.Figure at 0x2036aa20>"
      ]
     },
     "metadata": {},
     "output_type": "display_data"
    }
   ],
   "source": [
    "delayed_flights_0_min.groupby(\"hour_dep\").arrival_delay.mean().plot(kind=\"bar\",figsize=(15,10))\n",
    "plt.xlabel(\"Hour of departure\")\n",
    "plt.ylabel(\" Average delay in miniutes\")"
   ]
  },
  {
   "cell_type": "markdown",
   "metadata": {},
   "source": [
    "# Average arrival delay based on weekdays"
   ]
  },
  {
   "cell_type": "code",
   "execution_count": 67,
   "metadata": {
    "collapsed": false
   },
   "outputs": [
    {
     "data": {
      "text/plain": [
       "<matplotlib.text.Text at 0x2398ac18>"
      ]
     },
     "execution_count": 67,
     "metadata": {},
     "output_type": "execute_result"
    },
    {
     "data": {
      "image/png": "[encoded data removed]",
      "text/plain": [
       "<matplotlib.figure.Figure at 0x4f511898>"
      ]
     },
     "metadata": {},
     "output_type": "display_data"
    }
   ],
   "source": [
    "delayed_flights_0_min.groupby(\"weekday_dep\").arrival_delay.mean().plot(kind=\"bar\",figsize=(12,8),color=\"r\")\n",
    "plt.ylabel(\"Average arrival delay (in minutes)\")\n",
    "plt.xlabel(\"Weekdays\")"
   ]
  },
  {
   "cell_type": "code",
   "execution_count": 68,
   "metadata": {
    "collapsed": false
   },
   "outputs": [],
   "source": [
    "delayed_stats=delayed_flights_0_min.groupby('airline_name').arrival_delay.agg([\"mean\",\"median\"])"
   ]
  },
  {
   "cell_type": "code",
   "execution_count": 69,
   "metadata": {
    "collapsed": false
   },
   "outputs": [
    {
     "data": {
      "text/plain": [
       "<matplotlib.axes._subplots.AxesSubplot at 0x2e4b9e80>"
      ]
     },
     "execution_count": 69,
     "metadata": {},
     "output_type": "execute_result"
    },
    {
     "data": {
      "image/png": "[encoded data removed]",
      "text/plain": [
       "<matplotlib.figure.Figure at 0x5053dcc0>"
      ]
     },
     "metadata": {},
     "output_type": "display_data"
    }
   ],
   "source": [
    "\n",
    "delayed_stats.plot(kind='barh',figsize=(20,15))"
   ]
  },
  {
   "cell_type": "markdown",
   "metadata": {},
   "source": [
    "### Average delay by  registration number "
   ]
  },
  {
   "cell_type": "code",
   "execution_count": 74,
   "metadata": {
    "collapsed": false
   },
   "outputs": [
    {
     "data": {
      "text/plain": [
       "<matplotlib.text.Text at 0x2e141080>"
      ]
     },
     "execution_count": 74,
     "metadata": {},
     "output_type": "execute_result"
    },
    {
     "data": {
      "image/png": "[encoded data removed]",
      "text/plain": [
       "<matplotlib.figure.Figure at 0x2e138cf8>"
      ]
     },
     "metadata": {},
     "output_type": "display_data"
    }
   ],
   "source": [
    "delayed_flights_0_min.groupby(\"reg\").arrival_delay.mean().sort_values(ascending=False)[0:10].plot(kind=\"bar\",color=\"g\",\n",
    "                                                                                                  figsize=(12,8))\n",
    "plt.xlabel(\"Registration Number \")\n",
    "plt.ylabel(\"Average arrival delay \")"
   ]
  },
  {
   "cell_type": "code",
   "execution_count": 75,
   "metadata": {
    "collapsed": false
   },
   "outputs": [
    {
     "data": {
      "text/plain": [
       "<matplotlib.text.Text at 0x2e1415c0>"
      ]
     },
     "execution_count": 75,
     "metadata": {},
     "output_type": "execute_result"
    },
    {
     "data": {
      "image/png": "[encoded data removed]",
      "text/plain": [
       "<matplotlib.figure.Figure at 0x2e675cf8>"
      ]
     },
     "metadata": {},
     "output_type": "display_data"
    }
   ],
   "source": [
    "delayed_flights_0_min.groupby(\"reg\").arrival_delay.mean().sort_values(ascending=False)[0:20].plot(kind=\"bar\",figsize=(18,12))\n",
    "plt.xlabel(\"Registration (tail_id)\")\n",
    "plt.ylabel(\"Average delay ( minutes)\")"
   ]
  },
  {
   "cell_type": "markdown",
   "metadata": {},
   "source": [
    "# Distribution of flight delays\n",
    "\n",
    "### 1.Percentage of flights with  Less than  or equal to 15 minutes delay "
   ]
  },
  {
   "cell_type": "code",
   "execution_count": 76,
   "metadata": {
    "collapsed": false
   },
   "outputs": [
    {
     "data": {
      "text/plain": [
       "51.94639438417358"
      ]
     },
     "execution_count": 76,
     "metadata": {},
     "output_type": "execute_result"
    }
   ],
   "source": [
    "    (delayed_flights_0_min[delayed_flights_0_min.arrival_delay<=15].arrival_delay.count()/len(delayed_flights_0_min[\"arrival_delay\"]))*100"
   ]
  },
  {
   "cell_type": "markdown",
   "metadata": {},
   "source": [
    "### 2.Percentage of  flights with  arrival delay greater than 15 min but less than or equal 30 min"
   ]
  },
  {
   "cell_type": "code",
   "execution_count": 77,
   "metadata": {
    "collapsed": false
   },
   "outputs": [
    {
     "name": "stdout",
     "output_type": "stream",
     "text": [
      "24.0672197405\n"
     ]
    },
    {
     "name": "stderr",
     "output_type": "stream",
     "text": [
      "C:\\Users\\Vishal_Oben\\Anaconda3\\lib\\site-packages\\ipykernel\\__main__.py:1: UserWarning: Boolean Series key will be reindexed to match DataFrame index.\n",
      "  if __name__ == '__main__':\n"
     ]
    }
   ],
   "source": [
    "x=(delayed_flights_0_min[delayed_flights_0_min.arrival_delay>15][delayed_flights_0_min.arrival_delay<=30]).arrival_delay.count()/len(delayed_flights_0_min[\"arrival_delay\"])\n",
    "print(x*100)"
   ]
  },
  {
   "cell_type": "markdown",
   "metadata": {},
   "source": [
    "### 3. Percentage of flights with arrival delay greater than 30 min  but less than or equal to 60 min"
   ]
  },
  {
   "cell_type": "code",
   "execution_count": 78,
   "metadata": {
    "collapsed": false
   },
   "outputs": [
    {
     "name": "stdout",
     "output_type": "stream",
     "text": [
      "16.0391406084\n"
     ]
    },
    {
     "name": "stderr",
     "output_type": "stream",
     "text": [
      "C:\\Users\\Vishal_Oben\\Anaconda3\\lib\\site-packages\\ipykernel\\__main__.py:1: UserWarning: Boolean Series key will be reindexed to match DataFrame index.\n",
      "  if __name__ == '__main__':\n"
     ]
    }
   ],
   "source": [
    "y=(delayed_flights_0_min[delayed_flights_0_min.arrival_delay>30][delayed_flights_0_min.arrival_delay<=60]).arrival_delay.count()/len(delayed_flights_0_min[\"arrival_delay\"])\n",
    "print(y*100)"
   ]
  },
  {
   "cell_type": "markdown",
   "metadata": {},
   "source": [
    "### 4. Percentage of flights with arrival delay greater than 60 min but less than or equal to 2 hours"
   ]
  },
  {
   "cell_type": "code",
   "execution_count": 79,
   "metadata": {
    "collapsed": false
   },
   "outputs": [
    {
     "name": "stdout",
     "output_type": "stream",
     "text": [
      "6.21144437354\n"
     ]
    },
    {
     "name": "stderr",
     "output_type": "stream",
     "text": [
      "C:\\Users\\Vishal_Oben\\Anaconda3\\lib\\site-packages\\ipykernel\\__main__.py:1: UserWarning: Boolean Series key will be reindexed to match DataFrame index.\n",
      "  if __name__ == '__main__':\n"
     ]
    }
   ],
   "source": [
    "z=(delayed_flights_0_min[delayed_flights_0_min.arrival_delay>60][delayed_flights_0_min.arrival_delay<=120]).arrival_delay.count()/len(delayed_flights_0_min[\"arrival_delay\"])\n",
    "print(z*100)"
   ]
  },
  {
   "cell_type": "markdown",
   "metadata": {},
   "source": [
    "### 5.Percentage of  flight with arrival delay greater than 2 hour"
   ]
  },
  {
   "cell_type": "code",
   "execution_count": 80,
   "metadata": {
    "collapsed": false
   },
   "outputs": [
    {
     "name": "stdout",
     "output_type": "stream",
     "text": [
      "1.73580089343\n"
     ]
    }
   ],
   "source": [
    "p=(delayed_flights_0_min[delayed_flights_0_min.arrival_delay>120]).arrival_delay.count()/len(delayed_flights_0_min[\"arrival_delay\"])\n",
    "print(p*100)"
   ]
  },
  {
   "cell_type": "code",
   "execution_count": 31,
   "metadata": {
    "collapsed": false
   },
   "outputs": [],
   "source": [
    "q=delayed_flights_0_min.groupby(\"flight_number\").arrival_delay.mean()"
   ]
  },
  {
   "cell_type": "code",
   "execution_count": 32,
   "metadata": {
    "collapsed": false
   },
   "outputs": [
    {
     "data": {
      "text/plain": [
       "pandas.core.series.Series"
      ]
     },
     "execution_count": 32,
     "metadata": {},
     "output_type": "execute_result"
    }
   ],
   "source": [
    "type(q)"
   ]
  },
  {
   "cell_type": "code",
   "execution_count": 49,
   "metadata": {
    "collapsed": false
   },
   "outputs": [
    {
     "data": {
      "text/plain": [
       "flight_number\n",
       "AI964    337.333333\n",
       "2S102    268.444444\n",
       "SG999    266.000000\n",
       "6E523    238.000000\n",
       "SG56     223.375000\n",
       "Name: arrival_delay, dtype: float64"
      ]
     },
     "execution_count": 49,
     "metadata": {},
     "output_type": "execute_result"
    }
   ],
   "source": [
    "q[q>30].sort_values(ascending=False)[0:5]\n"
   ]
  },
  {
   "cell_type": "code",
   "execution_count": 60,
   "metadata": {
    "collapsed": false
   },
   "outputs": [],
   "source": [
    "#print(\"flight {} flown  {} number of times\".format(\"SG999\",new_data[new_data.flight_number==\"SG999\"].origin.count()))\n",
    "\n"
   ]
  },
  {
   "cell_type": "code",
   "execution_count": 82,
   "metadata": {
    "collapsed": false
   },
   "outputs": [
    {
     "data": {
      "text/plain": [
       "(61414, 22)"
      ]
     },
     "execution_count": 82,
     "metadata": {},
     "output_type": "execute_result"
    }
   ],
   "source": [
    "qwe.shape"
   ]
  },
  {
   "cell_type": "code",
   "execution_count": 83,
   "metadata": {
    "collapsed": true
   },
   "outputs": [],
   "source": [
    "from bokeh.plotting import figure, output_notebook, show"
   ]
  },
  {
   "cell_type": "code",
   "execution_count": 84,
   "metadata": {
    "collapsed": false
   },
   "outputs": [
    {
     "data": {
      "text/html": [
       "\n",
       "    <div class=\"bk-root\">\n",
       "        <a href=\"http://bokeh.pydata.org\" target=\"_blank\" class=\"bk-logo bk-logo-small bk-logo-notebook\"></a>\n",
       "        <span id=\"e3ee11a0-9428-4d3a-8e31-8f5a2bffe166\">Loading BokehJS ...</span>\n",
       "    </div>"
      ]
     },
     "metadata": {},
     "output_type": "display_data"
    },
    {
     "data": {
      "application/javascript": [
       "\n",
       "(function(global) {\n",
       "  function now() {\n",
       "    return new Date();\n",
       "  }\n",
       "\n",
       "  var force = true;\n",
       "\n",
       "  if (typeof (window._bokeh_onload_callbacks) === \"undefined\" || force === true) {\n",
       "    window._bokeh_onload_callbacks = [];\n",
       "    window._bokeh_is_loading = undefined;\n",
       "  }\n",
       "\n",
       "\n",
       "  \n",
       "  if (typeof (window._bokeh_timeout) === \"undefined\" || force === true) {\n",
       "    window._bokeh_timeout = Date.now() + 5000;\n",
       "    window._bokeh_failed_load = false;\n",
       "  }\n",
       "\n",
       "  var NB_LOAD_WARNING = {'data': {'text/html':\n",
       "     \"<div style='background-color: #fdd'>\\n\"+\n",
       "     \"<p>\\n\"+\n",
       "     \"BokehJS does not appear to have successfully loaded. If loading BokehJS from CDN, this \\n\"+\n",
       "     \"may be due to a slow or bad network connection. Possible fixes:\\n\"+\n",
       "     \"</p>\\n\"+\n",
       "     \"<ul>\\n\"+\n",
       "     \"<li>re-rerun `output_notebook()` to attempt to load from CDN again, or</li>\\n\"+\n",
       "     \"<li>use INLINE resources instead, as so:</li>\\n\"+\n",
       "     \"</ul>\\n\"+\n",
       "     \"<code>\\n\"+\n",
       "     \"from bokeh.resources import INLINE\\n\"+\n",
       "     \"output_notebook(resources=INLINE)\\n\"+\n",
       "     \"</code>\\n\"+\n",
       "     \"</div>\"}};\n",
       "\n",
       "  function display_loaded() {\n",
       "    if (window.Bokeh !== undefined) {\n",
       "      document.getElementById(\"e3ee11a0-9428-4d3a-8e31-8f5a2bffe166\").textContent = \"BokehJS successfully loaded.\";\n",
       "    } else if (Date.now() < window._bokeh_timeout) {\n",
       "      setTimeout(display_loaded, 100)\n",
       "    }\n",
       "  }\n",
       "\n",
       "  function run_callbacks() {\n",
       "    window._bokeh_onload_callbacks.forEach(function(callback) { callback() });\n",
       "    delete window._bokeh_onload_callbacks\n",
       "    console.info(\"Bokeh: all callbacks have finished\");\n",
       "  }\n",
       "\n",
       "  function load_libs(js_urls, callback) {\n",
       "    window._bokeh_onload_callbacks.push(callback);\n",
       "    if (window._bokeh_is_loading > 0) {\n",
       "      console.log(\"Bokeh: BokehJS is being loaded, scheduling callback at\", now());\n",
       "      return null;\n",
       "    }\n",
       "    if (js_urls == null || js_urls.length === 0) {\n",
       "      run_callbacks();\n",
       "      return null;\n",
       "    }\n",
       "    console.log(\"Bokeh: BokehJS not loaded, scheduling load and callback at\", now());\n",
       "    window._bokeh_is_loading = js_urls.length;\n",
       "    for (var i = 0; i < js_urls.length; i++) {\n",
       "      var url = js_urls[i];\n",
       "      var s = document.createElement('script');\n",
       "      s.src = url;\n",
       "      s.async = false;\n",
       "      s.onreadystatechange = s.onload = function() {\n",
       "        window._bokeh_is_loading--;\n",
       "        if (window._bokeh_is_loading === 0) {\n",
       "          console.log(\"Bokeh: all BokehJS libraries loaded\");\n",
       "          run_callbacks()\n",
       "        }\n",
       "      };\n",
       "      s.onerror = function() {\n",
       "        console.warn(\"failed to load library \" + url);\n",
       "      };\n",
       "      console.log(\"Bokeh: injecting script tag for BokehJS library: \", url);\n",
       "      document.getElementsByTagName(\"head\")[0].appendChild(s);\n",
       "    }\n",
       "  };var element = document.getElementById(\"e3ee11a0-9428-4d3a-8e31-8f5a2bffe166\");\n",
       "  if (element == null) {\n",
       "    console.log(\"Bokeh: ERROR: autoload.js configured with elementid 'e3ee11a0-9428-4d3a-8e31-8f5a2bffe166' but no matching script tag was found. \")\n",
       "    return false;\n",
       "  }\n",
       "\n",
       "  var js_urls = [\"https://cdn.pydata.org/bokeh/release/bokeh-0.12.4.min.js\", \"https://cdn.pydata.org/bokeh/release/bokeh-widgets-0.12.4.min.js\"];\n",
       "\n",
       "  var inline_js = [\n",
       "    function(Bokeh) {\n",
       "      Bokeh.set_log_level(\"info\");\n",
       "    },\n",
       "    \n",
       "    function(Bokeh) {\n",
       "      \n",
       "      document.getElementById(\"e3ee11a0-9428-4d3a-8e31-8f5a2bffe166\").textContent = \"BokehJS is loading...\";\n",
       "    },\n",
       "    function(Bokeh) {\n",
       "      console.log(\"Bokeh: injecting CSS: https://cdn.pydata.org/bokeh/release/bokeh-0.12.4.min.css\");\n",
       "      Bokeh.embed.inject_css(\"https://cdn.pydata.org/bokeh/release/bokeh-0.12.4.min.css\");\n",
       "      console.log(\"Bokeh: injecting CSS: https://cdn.pydata.org/bokeh/release/bokeh-widgets-0.12.4.min.css\");\n",
       "      Bokeh.embed.inject_css(\"https://cdn.pydata.org/bokeh/release/bokeh-widgets-0.12.4.min.css\");\n",
       "    }\n",
       "  ];\n",
       "\n",
       "  function run_inline_js() {\n",
       "    \n",
       "    if ((window.Bokeh !== undefined) || (force === true)) {\n",
       "      for (var i = 0; i < inline_js.length; i++) {\n",
       "        inline_js[i](window.Bokeh);\n",
       "      }if (force === true) {\n",
       "        display_loaded();\n",
       "      }} else if (Date.now() < window._bokeh_timeout) {\n",
       "      setTimeout(run_inline_js, 100);\n",
       "    } else if (!window._bokeh_failed_load) {\n",
       "      console.log(\"Bokeh: BokehJS failed to load within specified timeout.\");\n",
       "      window._bokeh_failed_load = true;\n",
       "    } else if (force !== true) {\n",
       "      var cell = $(document.getElementById(\"e3ee11a0-9428-4d3a-8e31-8f5a2bffe166\")).parents('.cell').data().cell;\n",
       "      cell.output_area.append_execute_result(NB_LOAD_WARNING)\n",
       "    }\n",
       "\n",
       "  }\n",
       "\n",
       "  if (window._bokeh_is_loading === 0) {\n",
       "    console.log(\"Bokeh: BokehJS loaded, going straight to plotting\");\n",
       "    run_inline_js();\n",
       "  } else {\n",
       "    load_libs(js_urls, function() {\n",
       "      console.log(\"Bokeh: BokehJS plotting callback run at\", now());\n",
       "      run_inline_js();\n",
       "    });\n",
       "  }\n",
       "}(this));"
      ]
     },
     "metadata": {},
     "output_type": "display_data"
    }
   ],
   "source": [
    "output_notebook()"
   ]
  },
  {
   "cell_type": "code",
   "execution_count": 88,
   "metadata": {
    "collapsed": false
   },
   "outputs": [],
   "source": [
    "#p = figure(width=500, height=500)\n",
    "#p.circle(qwe.origin.value_counts(),qwe.groupby(\"origin\").arrival_delay.mean())\n",
    "#p.circle(x, y, size=7, color=\"firebrick\", alpha=0.5)\n",
    "#show(p)"
   ]
  },
  {
   "cell_type": "code",
   "execution_count": 117,
   "metadata": {
    "collapsed": false
   },
   "outputs": [
    {
     "data": {
      "text/plain": [
       "(61414, 22)"
      ]
     },
     "execution_count": 117,
     "metadata": {},
     "output_type": "execute_result"
    }
   ],
   "source": [
    "qwe.shape"
   ]
  },
  {
   "cell_type": "code",
   "execution_count": 122,
   "metadata": {
    "collapsed": false
   },
   "outputs": [
    {
     "name": "stdout",
     "output_type": "stream",
     "text": [
      "(61401, 22)\n"
     ]
    }
   ],
   "source": [
    "qwe=qwe[qwe.duration!=\"None\"]\n",
    "qwe=qwe[qwe.flight_number!=\"None\"]\n",
    "qwe=qwe[qwe.reg!=\"None\"]\n",
    "qwe=qwe[qwe.origin!=\"None\"]\n",
    "qwe=qwe[qwe.destination!=\"None\"]\n",
    "#qwe=qwe[qwe.hour_dep!=\"None\"]\n",
    "#qwe=qwe[qwe.day_of_month_dep!=\"None\"]\n",
    "qwe=qwe[qwe.weekday_dep!=\"None\"]\n",
    "print(qwe.shape)\n"
   ]
  },
  {
   "cell_type": "code",
   "execution_count": 161,
   "metadata": {
    "collapsed": false
   },
   "outputs": [],
   "source": [
    "features=qwe[[\"airline_name\",\"flight_number\",\"origin\",\"destination\",\"hour_dep\",\"day_of_month_dep\",\"weekday_dep\"]]"
   ]
  },
  {
   "cell_type": "code",
   "execution_count": 169,
   "metadata": {
    "collapsed": false
   },
   "outputs": [
    {
     "name": "stdout",
     "output_type": "stream",
     "text": [
      "61401\n"
     ]
    }
   ],
   "source": [
    "labels=qwe[\"arrival_delay\"]\n",
    "label=[]\n",
    "for items in labels:\n",
    "    if items>60:\n",
    "        label.append(1)\n",
    "    else:\n",
    "        label.append(0)\n",
    "        \n",
    "print(len(label))"
   ]
  },
  {
   "cell_type": "code",
   "execution_count": 170,
   "metadata": {
    "collapsed": true
   },
   "outputs": [],
   "source": [
    "features_final=pd.get_dummies(features,drop_first=True)\n"
   ]
  },
  {
   "cell_type": "code",
   "execution_count": 181,
   "metadata": {
    "collapsed": true
   },
   "outputs": [],
   "source": [
    "import sklearn\n",
    "from sklearn.tree import DecisionTreeClassifier\n",
    "from sklearn.cross_validation import train_test_split\n",
    "from sklearn.metrics import mean_squared_error\n",
    "import numpy\n",
    "from sklearn.metrics import accuracy_score\n"
   ]
  },
  {
   "cell_type": "code",
   "execution_count": 177,
   "metadata": {
    "collapsed": true
   },
   "outputs": [],
   "source": [
    "X_train,X_test,Y_train,Y_test=train_test_split(features_final,numpy.array(label),test_size=0.30,random_state=42)"
   ]
  },
  {
   "cell_type": "code",
   "execution_count": 178,
   "metadata": {
    "collapsed": false
   },
   "outputs": [
    {
     "data": {
      "text/plain": [
       "(42980, 2067)"
      ]
     },
     "execution_count": 178,
     "metadata": {},
     "output_type": "execute_result"
    }
   ],
   "source": [
    "X_train.shape"
   ]
  },
  {
   "cell_type": "code",
   "execution_count": 179,
   "metadata": {
    "collapsed": false
   },
   "outputs": [
    {
     "data": {
      "text/plain": [
       "(42980,)"
      ]
     },
     "execution_count": 179,
     "metadata": {},
     "output_type": "execute_result"
    }
   ],
   "source": [
    "Y_train.shape"
   ]
  },
  {
   "cell_type": "code",
   "execution_count": 180,
   "metadata": {
    "collapsed": false
   },
   "outputs": [
    {
     "data": {
      "text/plain": [
       "DecisionTreeClassifier(class_weight=None, criterion='gini', max_depth=None,\n",
       "            max_features=None, max_leaf_nodes=None,\n",
       "            min_impurity_split=1e-07, min_samples_leaf=1,\n",
       "            min_samples_split=2, min_weight_fraction_leaf=0.0,\n",
       "            presort=False, random_state=None, splitter='best')"
      ]
     },
     "execution_count": 180,
     "metadata": {},
     "output_type": "execute_result"
    }
   ],
   "source": [
    "clf=DecisionTreeClassifier()\n",
    "clf.fit(X_train,Y_train)\n"
   ]
  },
  {
   "cell_type": "code",
   "execution_count": 182,
   "metadata": {
    "collapsed": false
   },
   "outputs": [
    {
     "name": "stdout",
     "output_type": "stream",
     "text": [
      "0.966559904457\n"
     ]
    }
   ],
   "source": [
    "pred=clf.predict(X_test)\n",
    "print(accuracy_score(pred,Y_test))\n"
   ]
  },
  {
   "cell_type": "code",
   "execution_count": 186,
   "metadata": {
    "collapsed": false
   },
   "outputs": [
    {
     "name": "stdout",
     "output_type": "stream",
     "text": [
      "[[17587   351]\n",
      " [  265   218]]\n",
      "0.383128295255\n",
      "0.451345755694\n",
      "0.395070677782\n"
     ]
    }
   ],
   "source": [
    "from sklearn.metrics import confusion_matrix,precision_score,recall_score,fbeta_score\n",
    "print(confusion_matrix(pred,Y_test))\n",
    "print(precision_score(pred,Y_test))\n",
    "print(recall_score(pred,Y_test))\n",
    "print(fbeta_score(pred,Y_test,beta=0.5))"
   ]
  },
  {
   "cell_type": "code",
   "execution_count": null,
   "metadata": {
    "collapsed": false
   },
   "outputs": [],
   "source": [
    "from sklearn.grid_search import GridSearchCV\n",
    "from sklearn.metrics import make_scorer\n",
    "\n",
    "# TODO: Initialize the classifier\n",
    "clf = DecisionTreeClassifier(random_state=42)\n",
    "\n",
    "# TODO: Create the parameters list you wish to tune\n",
    "parameters = {\"min_samples_split\":[2,3,4,5,6,7,8,9,10]}\n",
    "\n",
    "# TODO: Make an fbeta_score scoring object\n",
    "scorer = make_scorer(fbeta_score,beta=0.5)\n",
    "\n",
    "# TODO: Perform grid search on the classifier using 'scorer' as the scoring method\n",
    "grid_obj = GridSearchCV(estimator=clf,param_grid=parameters,scoring=scorer,cv=5)\n",
    "\n",
    "# TODO: Fit the grid search object to the training data and find the optimal parameters\n",
    "grid_fit =grid_obj.fit(X_train,Y_train)\n",
    "\n",
    "# Get the estimator\n",
    "best_clf = grid_fit.best_estimator_\n",
    "\n",
    "# Make predictions using the unoptimized and model\n",
    "predictions = (clf.fit(X_train, y_train)).predict(X_test)\n",
    "best_predictions = best_clf.predict(X_test)\n",
    "\n",
    "# Report the before-and-afterscores\n",
    "#print (\"Unoptimized model\\n------\")\n",
    "#print \"Accuracy score on testing data: {:.4f}\".format(accuracy_score(Y_test, predictions))\n",
    "#print \"F-score on testing data: {:.4f}\".format(fbeta_score(y_test, predictions, beta = 0.5))\n",
    "#print \"\\nOptimized Model\\n------\"\n",
    "#print \"Final accuracy score on the testing data: {:.4f}\".format(accuracy_score(Y_test, best_predictions))\n",
    "#print \"Final F-score on the testing data: {:.4f}\".format(fbeta_score(y_test, best_predictions, beta = 0.5))"
   ]
  },
  {
   "cell_type": "code",
   "execution_count": 191,
   "metadata": {
    "collapsed": false
   },
   "outputs": [
    {
     "name": "stdout",
     "output_type": "stream",
     "text": [
      "DecisionTreeClassifier(class_weight=None, criterion='gini', max_depth=None,\n",
      "            max_features=None, max_leaf_nodes=None,\n",
      "            min_impurity_split=1e-07, min_samples_leaf=1,\n",
      "            min_samples_split=2, min_weight_fraction_leaf=0.0,\n",
      "            presort=False, random_state=42, splitter='best')\n"
     ]
    }
   ],
   "source": [
    "print(grid_fit.best_estimator_)"
   ]
  },
  {
   "cell_type": "code",
   "execution_count": 195,
   "metadata": {
    "collapsed": false
   },
   "outputs": [
    {
     "name": "stdout",
     "output_type": "stream",
     "text": [
      "0.967374192498\n"
     ]
    }
   ],
   "source": [
    "\n",
    "predictions = (clf.fit(X_train, Y_train)).predict(X_test)\n",
    "best_predictions = best_clf.predict(X_test)\n",
    "print(accuracy_score(Y_test,best_predictions))"
   ]
  },
  {
   "cell_type": "code",
   "execution_count": 197,
   "metadata": {
    "collapsed": false
   },
   "outputs": [
    {
     "name": "stdout",
     "output_type": "stream",
     "text": [
      "0.443565181175\n"
     ]
    }
   ],
   "source": [
    "print(fbeta_score(Y_test,best_predictions,0.5))"
   ]
  },
  {
   "cell_type": "code",
   "execution_count": 198,
   "metadata": {
    "collapsed": false
   },
   "outputs": [
    {
     "name": "stdout",
     "output_type": "stream",
     "text": [
      "0.465065502183\n"
     ]
    }
   ],
   "source": [
    "print(precision_score(Y_test,best_predictions))"
   ]
  },
  {
   "cell_type": "code",
   "execution_count": null,
   "metadata": {
    "collapsed": true
   },
   "outputs": [],
   "source": []
  }
 ],
 "metadata": {
  "kernelspec": {
   "display_name": "Python 3",
   "language": "python",
   "name": "python3"
  },
  "language_info": {
   "codemirror_mode": {
    "name": "ipython",
    "version": 3
   },
   "file_extension": ".py",
   "mimetype": "text/x-python",
   "name": "python",
   "nbconvert_exporter": "python",
   "pygments_lexer": "ipython3",
   "version": "3.6.0"
  }
 },
 "nbformat": 4,
 "nbformat_minor": 2
}
