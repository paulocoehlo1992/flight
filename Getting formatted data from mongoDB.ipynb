{
 "cells": [
  {
   "cell_type": "markdown",
   "metadata": {},
   "source": [
    "# Problem Statement:  Predicting domestic flight delay \n"
   ]
  },
  {
   "cell_type": "markdown",
   "metadata": {},
   "source": [
    "### Breakdown of problem:\n",
    "#### 1. Getting data from flightradar (web scraping)\n",
    "#### 2.  Data preprocessing / Manipulation\n",
    "#### 3. performing EDA\n",
    "#### 4. prediction "
   ]
  },
  {
   "cell_type": "markdown",
   "metadata": {},
   "source": [
    "# Establishing MongoDB connection"
   ]
  },
  {
   "cell_type": "code",
   "execution_count": 1,
   "metadata": {
    "collapsed": true
   },
   "outputs": [],
   "source": [
    "from pymongo import MongoClient\n",
    "client=MongoClient()\n",
    "db=client.flight_data\n",
    "collection_1=db.flight_data_collection\n",
    "import datetime \n",
    "import pandas as pd \n",
    "\n",
    "def from_unix_timestamp(val):\n",
    "     #print(\"Date=\", val)\n",
    "     if (val is None):\n",
    "         return datetime.datetime.fromtimestamp(0)\n",
    "     if(val!=0):\n",
    "      return datetime.datetime.fromtimestamp(val)"
   ]
  },
  {
   "cell_type": "code",
   "execution_count": 2,
   "metadata": {
    "collapsed": false
   },
   "outputs": [
    {
     "name": "stdout",
     "output_type": "stream",
     "text": [
      "{'_id': ObjectId('58b64d7e566f5d11bce4ac92'), 'aircraft': {'model': {'code': 'A320', 'text': 'Airbus A320-232'}, 'hex': '800AF3', 'registration': 'VT-IAL', 'serialNo': None, 'age': {'availability': True}, 'restricted': False, 'availability': {'serialNo': True, 'age': True}}, 'airline': {'name': 'IndiGo', 'short': 'IndiGo Airlines', 'code': {'iata': '6E', 'icao': 'IGO'}}, 'airport': {'origin': {'name': 'Mumbai Chhatrapati Shivaji International Airport', 'code': {'iata': 'BOM', 'icao': 'VABB'}, 'position': {'latitude': 19.08868, 'longitude': 72.867912, 'country': {'name': 'India', 'code': 'IN'}, 'region': {'city': 'Mumbai'}}, 'timezone': {'name': 'Asia/Kolkata', 'offset': 19800, 'abbr': 'IST', 'abbrName': 'India Standard Time', 'isDst': False}, 'visible': True}, 'destination': {'name': 'Delhi Indira Gandhi International Airport', 'code': {'iata': 'DEL', 'icao': 'VIDP'}, 'position': {'latitude': 28.5665, 'longitude': 77.103081, 'country': {'name': 'India', 'code': 'IN'}, 'region': {'city': 'Delhi'}}, 'timezone': {'name': 'Asia/Kolkata', 'offset': 19800, 'abbr': 'IST', 'abbrName': 'India Standard Time', 'isDst': False}, 'visible': True}, 'real': None}, 'identification': {'id': None, 'row': 3814697067, 'number': {'default': '6E198', 'alternative': None}, 'callsign': None, 'codeshare': None}, 'owner': {'name': 'IndiGo Airlines', 'code': {'iata': '6E', 'icao': 'IGO'}}, 'status': {'live': False, 'text': 'Estimated dep 22:15', 'icon': 'green', 'estimated': None, 'ambiguous': False, 'generic': {'status': {'text': 'estimated', 'type': 'departure', 'color': 'green', 'diverted': None}, 'eventTime': {'utc': 1488386700, 'local': 1488406500}}}, 'time': {'scheduled': {'departure': 1488386700, 'arrival': 1488394500}, 'real': {'departure': None, 'arrival': None}, 'estimated': {'departure': 1488386700, 'arrival': None}, 'other': {'eta': None, 'updated': 1488342072, 'duration': 7500}}}\n"
     ]
    }
   ],
   "source": [
    "print(collection_1.find()[0])\n"
   ]
  },
  {
   "cell_type": "code",
   "execution_count": 2,
   "metadata": {
    "collapsed": false
   },
   "outputs": [],
   "source": [
    "from geopy.distance import vincenty\n",
    "#a=x['airport'][\"origin\"]['position']['latitude']\n",
    "#b=x['airport']['origin']['position']['longitude']\n",
    "#m=(a,b)\n",
    "#c=x['airport']['destination']['position']['latitude']\n",
    "#d=x['airport']['destination']['position']['longitude']\n",
    "#n=(c,d)\n",
    "#z=vincenty(m,n)\n",
    "#print(type(z))\n",
    "#print(z)\n"
   ]
  },
  {
   "cell_type": "code",
   "execution_count": 83,
   "metadata": {
    "collapsed": false
   },
   "outputs": [],
   "source": [
    "flight_number=[]\n",
    "status_text=[]\n",
    "origin=[]\n",
    "destination=[]\n",
    "scheduled_departure=[]\n",
    "scheduled_arrival=[]\n",
    "real_departure=[]\n",
    "real_arrival=[]\n",
    "estimated_departure=[]\n",
    "estimated_arrival=[]\n",
    "duration=[]\n",
    "timestamp=[]\n",
    "for item in collection_1.find()[0:50]:\n",
    "    if item['identification']['number']['default']==None:\n",
    "        flight_number.append(\"None\")\n",
    "    else:\n",
    "        flight_number.append(item['identification']['number']['default'])\n",
    "    if item['status']['text']==None:\n",
    "        status_text.append(\"None\")\n",
    "    else:\n",
    "        status_text.append(item['status']['text'])\n",
    "    if item['airport']['origin']==None:\n",
    "        origin.append(\"None\")\n",
    "    else:\n",
    "        origin.append(item['airport']['origin']['name'])\n",
    "    if item['airport']['destination']==None:\n",
    "        destination.append(\"None\")\n",
    "    else:\n",
    "        destination.append(item['airport']['destination']['name'])\n",
    "    if item['time']['estimated']['arrival']==None:\n",
    "        estimated_arrival.append(\"None\")\n",
    "    else:\n",
    "        estimated_arrival.append(item['time']['estimated']['arrival'])\n",
    "    if item['time']['estimated']['departure']==None:\n",
    "        estimated_departure.append(\"None\")\n",
    "    else:\n",
    "        estimated_departure.append(from_unix_timestamp(item['time']['estimated']['departure']))\n",
    "    if item['time']['scheduled']['arrival']==None:\n",
    "        scheduled_arrival.append('None')\n",
    "    else:\n",
    "        scheduled_arrival.append(from_unix_timestamp(item['time']['scheduled']['arrival']))\n",
    "    if item['time']['scheduled']['departure']==None:\n",
    "        scheduled_departure.append('None')\n",
    "    else:\n",
    "        scheduled_departure.append(from_unix_timestamp(item['time']['scheduled']['departure']))\n",
    "    if item['time']['real']['arrival']==None:\n",
    "        real_arrival.append('None')\n",
    "    else:\n",
    "        real_arrival.append(from_unix_timestamp(item['time']['real']['arrival']))\n",
    "    if item['time']['real']['departure']==None:\n",
    "        real_departure.append('None')\n",
    "    else:\n",
    "        real_departure.append(from_unix_timestamp(item['time']['real']['departure']))\n",
    "    if item['time']['other']['duration']==None:\n",
    "        duration.append(\"None\")\n",
    "    else:\n",
    "        duration.append(item['time']['other']['duration'])\n",
    "    timestamp.append(item['_id'].generation_time)\n",
    "        "
   ]
  },
  {
   "cell_type": "code",
   "execution_count": 84,
   "metadata": {
    "collapsed": false
   },
   "outputs": [],
   "source": [
    "import pandas as pd \n",
    "\n",
    "df=pd.DataFrame({\"timestamp\":timestamp,\"origin\":origin,\"destination\":destination,\"estimated_arrival\":estimated_arrival,\"estimated_departure\":\n",
    "                estimated_departure,\"real_arrival\":real_arrival,\"real_departure\":real_departure,\"scheduled_arrival\":scheduled_arrival,\"scheduled_departure\":\n",
    "                scheduled_departure,\"flight_number\":flight_number,\"status\":status_text,\"duration\":duration})\n",
    "\n",
    "df=df[[\"timestamp\",\"flight_number\",\"origin\",\"destination\",\"scheduled_departure\",\"scheduled_arrival\",\"estimated_departure\",\"estimated_arrival\",\n",
    "      \"real_departure\",\"real_arrival\",\"status\",\"duration\"]]"
   ]
  },
  {
   "cell_type": "markdown",
   "metadata": {},
   "source": [
    "# Preprocessing function"
   ]
  },
  {
   "cell_type": "code",
   "execution_count": 4,
   "metadata": {
    "collapsed": false
   },
   "outputs": [],
   "source": [
    "#Function for extracting useful information from the database \n",
    "\n",
    "def extract(collection):\n",
    "    from geopy.distance import vincenty\n",
    "    import pandas as pd \n",
    "    flight_number=[]\n",
    "    status_text=[]\n",
    "    origin=[]\n",
    "    destination=[]\n",
    "    scheduled_departure=[]\n",
    "    scheduled_arrival=[]\n",
    "    real_departure=[]\n",
    "    real_arrival=[]\n",
    "    estimated_departure=[]\n",
    "    estimated_arrival=[]\n",
    "    duration=[]\n",
    "    timestamp=[]\n",
    "    distance_travelled=[]\n",
    "    country_origin=[]\n",
    "    country_destination=[]\n",
    "    airline_name=[]\n",
    "    registration=[]\n",
    "    model=[]\n",
    "    model_text=[]\n",
    "    for item in collection:\n",
    "        if item['airport']['origin']==None or item['airport']['destination']==None:\n",
    "            distance_travelled.append(\"0 km\")\n",
    "        else:\n",
    "            n=(item['airport']['destination']['position']['latitude'],item['airport']['destination']['position']['longitude'])\n",
    "            m=(item['airport'][\"origin\"]['position']['latitude'],item['airport']['origin']['position']['longitude'])\n",
    "            distance_travelled.append((vincenty(m,n)))\n",
    "            #country.append(item['airport']['origin']['position']['country']['name'])\n",
    "            \n",
    "        if item['identification']['number']['default']==None:\n",
    "            flight_number.append(\"None\")\n",
    "        else:\n",
    "            flight_number.append(item['identification']['number']['default'])\n",
    "        if item['status']['text']==None:\n",
    "            status_text.append(\"None\")\n",
    "        else:\n",
    "            status_text.append(item['status']['text'])\n",
    "        if item['airport']['origin']==None:\n",
    "            origin.append(\"None\")\n",
    "            country_origin.append(\"None\")\n",
    "            #distance_travelled.append('None')\n",
    "        else:\n",
    "            origin.append(item['airport']['origin']['name'])\n",
    "            country_origin.append(item['airport']['origin']['position']['country']['name'])\n",
    "            #m=(item['airport'][\"origin\"]['position']['latitude'],item['airport']['origin']['position']['longitude'])\n",
    "            #n=(item['airport']['destination']['position']['latitude'],item['airport']['destination']['position']['longitude'])\n",
    "            #distance_travelled.append((vincenty(m,n)))\n",
    "            \n",
    "        if item['airport']['destination']==None:\n",
    "            destination.append(\"None\")\n",
    "            country_destination.append(\"None\")\n",
    "        else:\n",
    "            destination.append(item['airport']['destination']['name'])\n",
    "            country_destination.append(item['airport']['destination']['position']['country']['name'])\n",
    "        if item['time']['estimated']['arrival']==None:\n",
    "            estimated_arrival.append(\"None\")\n",
    "        else:\n",
    "            estimated_arrival.append(item['time']['estimated']['arrival'])\n",
    "        if item['time']['estimated']['departure']==None:\n",
    "            estimated_departure.append(\"None\")\n",
    "        else:\n",
    "            estimated_departure.append(from_unix_timestamp(item['time']['estimated']['departure']))\n",
    "        if item['time']['scheduled']['arrival']==None:\n",
    "            scheduled_arrival.append('None')\n",
    "        else:\n",
    "            scheduled_arrival.append(from_unix_timestamp(item['time']['scheduled']['arrival']))\n",
    "        if item['time']['scheduled']['departure']==None:\n",
    "            scheduled_departure.append('None')\n",
    "        else:\n",
    "            scheduled_departure.append(from_unix_timestamp(item['time']['scheduled']['departure']))\n",
    "        if item['time']['real']['arrival']==None:\n",
    "            real_arrival.append('None')\n",
    "        else:\n",
    "            real_arrival.append(from_unix_timestamp(item['time']['real']['arrival']))\n",
    "        if item['time']['real']['departure']==None:\n",
    "            real_departure.append('None')\n",
    "        else:\n",
    "            real_departure.append(from_unix_timestamp(item['time']['real']['departure']))\n",
    "        # New added code\n",
    "        if item['aircraft']['registration']==None:\n",
    "            registration.append(\"None\")\n",
    "            model.append(\"None\") # new code on 29th march\n",
    "            model_text.append(\"None\") #new code on 29th march \n",
    "        else:\n",
    "            registration.append(item['aircraft']['registration'])\n",
    "            model.append(item['aircraft']['model']['code'])      #new code\n",
    "            model_text.append(item['aircraft']['model']['text']) #new code\n",
    "        if item['airline']==None or item['airline']['name']==None:\n",
    "            airline_name.append(\"None\")\n",
    "        else:\n",
    "            airline_name.append(item['airline']['name'])\n",
    "        if item['time']['other']['duration']==None:\n",
    "            duration.append(\"None\")\n",
    "        else:\n",
    "            duration.append(item['time']['other']['duration'])\n",
    "        timestamp.append(item['_id'].generation_time)\n",
    "        \n",
    "    df=pd.DataFrame({\"timestamp\":timestamp,\"origin\":origin,\"destination\":destination,\"estimated_arrival\":estimated_arrival,\"estimated_departure\":\n",
    "                estimated_departure,\"real_arrival\":real_arrival,\"real_departure\":real_departure,\"scheduled_arrival\":scheduled_arrival,\"scheduled_departure\":\n",
    "                scheduled_departure,\"flight_number\":flight_number,\"status\":status_text,\"duration\":duration,\"distance_travelled\":distance_travelled,\n",
    "                    \"country_origin\":country_origin,\"country_dest\":country_destination,\"reg\":registration,\n",
    "                     \"airline_name\":airline_name,\"model\":model,\"model_text\":model_text})\n",
    "\n",
    "    df=df[[\"timestamp\",\"reg\",\"airline_name\",\"model\",\"model_text\",\"country_origin\",\"country_dest\",\"flight_number\",\"origin\",\"destination\",\"scheduled_departure\",\"scheduled_arrival\",\"estimated_departure\",\"estimated_arrival\",\n",
    "      \"real_departure\",\"real_arrival\",\"status\",\"duration\",\"distance_travelled\"]]\n",
    "    \n",
    "    return df\n",
    "        \n",
    "    "
   ]
  },
  {
   "cell_type": "code",
   "execution_count": 6,
   "metadata": {
    "collapsed": false
   },
   "outputs": [],
   "source": [
    "k=extract(collection_1.find())"
   ]
  },
  {
   "cell_type": "code",
   "execution_count": 6,
   "metadata": {
    "collapsed": true
   },
   "outputs": [],
   "source": [
    "#k.to_csv(\"data_3rd_april.csv\",sep=',')"
   ]
  },
  {
   "cell_type": "code",
   "execution_count": 90,
   "metadata": {
    "collapsed": false
   },
   "outputs": [],
   "source": [
    "#type(k.to_dict('records'))\n"
   ]
  },
  {
   "cell_type": "code",
   "execution_count": 7,
   "metadata": {
    "collapsed": false
   },
   "outputs": [
    {
     "data": {
      "text/plain": [
       "(434690, 19)"
      ]
     },
     "execution_count": 7,
     "metadata": {},
     "output_type": "execute_result"
    }
   ],
   "source": [
    "k.shape"
   ]
  },
  {
   "cell_type": "markdown",
   "metadata": {
    "collapsed": false
   },
   "source": [
    "## Data preprocessing - removing rows with missing values\n",
    "\n",
    "#####   we are excluding all those data points for which  there is \"None\" value  , as they are irrelevent for analysis."
   ]
  },
  {
   "cell_type": "code",
   "execution_count": 8,
   "metadata": {
    "collapsed": false
   },
   "outputs": [],
   "source": [
    "data=k[k.scheduled_arrival!=\"None\"]\n",
    "data=data[data.real_arrival!=\"None\"]\n",
    "data=data[data.real_departure!='None']\n",
    "data=data[data.scheduled_departure!='None']\n"
   ]
  },
  {
   "cell_type": "code",
   "execution_count": 9,
   "metadata": {
    "collapsed": false
   },
   "outputs": [],
   "source": [
    "new_data=data.drop_duplicates(subset=[\"flight_number\",\"origin\",\"destination\",\"scheduled_departure\",\"scheduled_arrival\",\n",
    "                                     \"real_departure\",\"real_arrival\",\"status\",\"country_origin\",\"country_dest\",\"reg\",\"airline_name\",\"model\",\"model_text\"])"
   ]
  },
  {
   "cell_type": "code",
   "execution_count": 10,
   "metadata": {
    "collapsed": false
   },
   "outputs": [
    {
     "data": {
      "text/plain": [
       "(107839, 19)"
      ]
     },
     "execution_count": 10,
     "metadata": {},
     "output_type": "execute_result"
    }
   ],
   "source": [
    "new_data.shape"
   ]
  },
  {
   "cell_type": "code",
   "execution_count": 11,
   "metadata": {
    "collapsed": false
   },
   "outputs": [
    {
     "data": {
      "text/html": [
       "<div>\n",
       "<table border=\"1\" class=\"dataframe\">\n",
       "  <thead>\n",
       "    <tr style=\"text-align: right;\">\n",
       "      <th></th>\n",
       "      <th>timestamp</th>\n",
       "      <th>reg</th>\n",
       "      <th>airline_name</th>\n",
       "      <th>model</th>\n",
       "      <th>model_text</th>\n",
       "      <th>country_origin</th>\n",
       "      <th>country_dest</th>\n",
       "      <th>flight_number</th>\n",
       "      <th>origin</th>\n",
       "      <th>destination</th>\n",
       "      <th>scheduled_departure</th>\n",
       "      <th>scheduled_arrival</th>\n",
       "      <th>estimated_departure</th>\n",
       "      <th>estimated_arrival</th>\n",
       "      <th>real_departure</th>\n",
       "      <th>real_arrival</th>\n",
       "      <th>status</th>\n",
       "      <th>duration</th>\n",
       "      <th>distance_travelled</th>\n",
       "    </tr>\n",
       "  </thead>\n",
       "  <tbody>\n",
       "    <tr>\n",
       "      <th>7</th>\n",
       "      <td>2017-03-01 04:26:38+00:00</td>\n",
       "      <td>VT-IAL</td>\n",
       "      <td>IndiGo</td>\n",
       "      <td>A320</td>\n",
       "      <td>Airbus A320-232</td>\n",
       "      <td>India</td>\n",
       "      <td>India</td>\n",
       "      <td>6E732</td>\n",
       "      <td>Hyderabad Rajiv Gandhi International Airport</td>\n",
       "      <td>Lucknow Chaudhary Charan Singh Airport</td>\n",
       "      <td>2017-03-01 06:25:00</td>\n",
       "      <td>2017-03-01 08:25:00</td>\n",
       "      <td>None</td>\n",
       "      <td>None</td>\n",
       "      <td>2017-03-01 06:31:37</td>\n",
       "      <td>2017-03-01 08:03:00</td>\n",
       "      <td>Landed 08:03</td>\n",
       "      <td>5524</td>\n",
       "      <td>1082.7558529029552 km</td>\n",
       "    </tr>\n",
       "    <tr>\n",
       "      <th>8</th>\n",
       "      <td>2017-03-01 04:26:38+00:00</td>\n",
       "      <td>VT-IAL</td>\n",
       "      <td>IndiGo</td>\n",
       "      <td>A320</td>\n",
       "      <td>Airbus A320-232</td>\n",
       "      <td>India</td>\n",
       "      <td>India</td>\n",
       "      <td>6E6216</td>\n",
       "      <td>Lucknow Chaudhary Charan Singh Airport</td>\n",
       "      <td>Hyderabad Rajiv Gandhi International Airport</td>\n",
       "      <td>2017-02-28 21:00:00</td>\n",
       "      <td>2017-02-28 22:55:00</td>\n",
       "      <td>None</td>\n",
       "      <td>None</td>\n",
       "      <td>2017-02-28 20:56:07</td>\n",
       "      <td>2017-02-28 22:31:00</td>\n",
       "      <td>Landed 22:32</td>\n",
       "      <td>5787</td>\n",
       "      <td>1082.7558529029552 km</td>\n",
       "    </tr>\n",
       "    <tr>\n",
       "      <th>9</th>\n",
       "      <td>2017-03-01 04:26:38+00:00</td>\n",
       "      <td>VT-IAL</td>\n",
       "      <td>IndiGo</td>\n",
       "      <td>A320</td>\n",
       "      <td>Airbus A320-232</td>\n",
       "      <td>India</td>\n",
       "      <td>India</td>\n",
       "      <td>6E5156</td>\n",
       "      <td>Delhi Indira Gandhi International Airport</td>\n",
       "      <td>Lucknow Chaudhary Charan Singh Airport</td>\n",
       "      <td>2017-02-28 19:20:00</td>\n",
       "      <td>2017-02-28 20:30:00</td>\n",
       "      <td>None</td>\n",
       "      <td>None</td>\n",
       "      <td>2017-02-28 19:29:33</td>\n",
       "      <td>2017-02-28 20:13:00</td>\n",
       "      <td>Landed 20:13</td>\n",
       "      <td>2665</td>\n",
       "      <td>423.7601185098625 km</td>\n",
       "    </tr>\n",
       "    <tr>\n",
       "      <th>10</th>\n",
       "      <td>2017-03-01 04:26:38+00:00</td>\n",
       "      <td>VT-IAL</td>\n",
       "      <td>IndiGo</td>\n",
       "      <td>A320</td>\n",
       "      <td>Airbus A320-232</td>\n",
       "      <td>India</td>\n",
       "      <td>India</td>\n",
       "      <td>6E174</td>\n",
       "      <td>Mumbai Chhatrapati Shivaji International Airport</td>\n",
       "      <td>Delhi Indira Gandhi International Airport</td>\n",
       "      <td>2017-02-28 16:30:00</td>\n",
       "      <td>2017-02-28 18:40:00</td>\n",
       "      <td>None</td>\n",
       "      <td>None</td>\n",
       "      <td>2017-02-28 16:49:10</td>\n",
       "      <td>2017-02-28 18:23:00</td>\n",
       "      <td>Landed 18:23</td>\n",
       "      <td>5660</td>\n",
       "      <td>1134.6651511087132 km</td>\n",
       "    </tr>\n",
       "    <tr>\n",
       "      <th>11</th>\n",
       "      <td>2017-03-01 04:26:38+00:00</td>\n",
       "      <td>VT-IAL</td>\n",
       "      <td>IndiGo</td>\n",
       "      <td>A320</td>\n",
       "      <td>Airbus A320-232</td>\n",
       "      <td>India</td>\n",
       "      <td>India</td>\n",
       "      <td>6E176</td>\n",
       "      <td>Trivandrum International Airport</td>\n",
       "      <td>Mumbai Chhatrapati Shivaji International Airport</td>\n",
       "      <td>2017-02-28 10:15:00</td>\n",
       "      <td>2017-02-28 12:15:00</td>\n",
       "      <td>None</td>\n",
       "      <td>None</td>\n",
       "      <td>2017-02-28 11:22:52</td>\n",
       "      <td>2017-02-28 13:11:00</td>\n",
       "      <td>Landed 13:11</td>\n",
       "      <td>6517</td>\n",
       "      <td>1252.3895747521426 km</td>\n",
       "    </tr>\n",
       "  </tbody>\n",
       "</table>\n",
       "</div>"
      ],
      "text/plain": [
       "                   timestamp     reg airline_name model       model_text  \\\n",
       "7  2017-03-01 04:26:38+00:00  VT-IAL       IndiGo  A320  Airbus A320-232   \n",
       "8  2017-03-01 04:26:38+00:00  VT-IAL       IndiGo  A320  Airbus A320-232   \n",
       "9  2017-03-01 04:26:38+00:00  VT-IAL       IndiGo  A320  Airbus A320-232   \n",
       "10 2017-03-01 04:26:38+00:00  VT-IAL       IndiGo  A320  Airbus A320-232   \n",
       "11 2017-03-01 04:26:38+00:00  VT-IAL       IndiGo  A320  Airbus A320-232   \n",
       "\n",
       "   country_origin country_dest flight_number  \\\n",
       "7           India        India         6E732   \n",
       "8           India        India        6E6216   \n",
       "9           India        India        6E5156   \n",
       "10          India        India         6E174   \n",
       "11          India        India         6E176   \n",
       "\n",
       "                                              origin  \\\n",
       "7       Hyderabad Rajiv Gandhi International Airport   \n",
       "8             Lucknow Chaudhary Charan Singh Airport   \n",
       "9          Delhi Indira Gandhi International Airport   \n",
       "10  Mumbai Chhatrapati Shivaji International Airport   \n",
       "11                  Trivandrum International Airport   \n",
       "\n",
       "                                         destination  scheduled_departure  \\\n",
       "7             Lucknow Chaudhary Charan Singh Airport  2017-03-01 06:25:00   \n",
       "8       Hyderabad Rajiv Gandhi International Airport  2017-02-28 21:00:00   \n",
       "9             Lucknow Chaudhary Charan Singh Airport  2017-02-28 19:20:00   \n",
       "10         Delhi Indira Gandhi International Airport  2017-02-28 16:30:00   \n",
       "11  Mumbai Chhatrapati Shivaji International Airport  2017-02-28 10:15:00   \n",
       "\n",
       "      scheduled_arrival estimated_departure estimated_arrival  \\\n",
       "7   2017-03-01 08:25:00                None              None   \n",
       "8   2017-02-28 22:55:00                None              None   \n",
       "9   2017-02-28 20:30:00                None              None   \n",
       "10  2017-02-28 18:40:00                None              None   \n",
       "11  2017-02-28 12:15:00                None              None   \n",
       "\n",
       "         real_departure         real_arrival        status duration  \\\n",
       "7   2017-03-01 06:31:37  2017-03-01 08:03:00  Landed 08:03     5524   \n",
       "8   2017-02-28 20:56:07  2017-02-28 22:31:00  Landed 22:32     5787   \n",
       "9   2017-02-28 19:29:33  2017-02-28 20:13:00  Landed 20:13     2665   \n",
       "10  2017-02-28 16:49:10  2017-02-28 18:23:00  Landed 18:23     5660   \n",
       "11  2017-02-28 11:22:52  2017-02-28 13:11:00  Landed 13:11     6517   \n",
       "\n",
       "       distance_travelled  \n",
       "7   1082.7558529029552 km  \n",
       "8   1082.7558529029552 km  \n",
       "9    423.7601185098625 km  \n",
       "10  1134.6651511087132 km  \n",
       "11  1252.3895747521426 km  "
      ]
     },
     "execution_count": 11,
     "metadata": {},
     "output_type": "execute_result"
    }
   ],
   "source": [
    "new_data.head()"
   ]
  },
  {
   "cell_type": "code",
   "execution_count": 12,
   "metadata": {
    "collapsed": true
   },
   "outputs": [],
   "source": [
    "# writing to csv , uncomment the code for the same \n",
    "#new_data.to_csv(\"domestic_refined.csv\")"
   ]
  },
  {
   "cell_type": "code",
   "execution_count": 11,
   "metadata": {
    "collapsed": false
   },
   "outputs": [
    {
     "data": {
      "text/plain": [
       "timestamp              datetime64[ns, <bson.tz_util.FixedOffset objec...\n",
       "reg                                                               object\n",
       "airline_name                                                      object\n",
       "model                                                             object\n",
       "model_text                                                        object\n",
       "country_origin                                                    object\n",
       "country_dest                                                      object\n",
       "flight_number                                                     object\n",
       "origin                                                            object\n",
       "destination                                                       object\n",
       "scheduled_departure                                               object\n",
       "scheduled_arrival                                                 object\n",
       "estimated_departure                                               object\n",
       "estimated_arrival                                                 object\n",
       "real_departure                                                    object\n",
       "real_arrival                                                      object\n",
       "status                                                            object\n",
       "duration                                                          object\n",
       "distance_travelled                                                object\n",
       "dtype: object"
      ]
     },
     "execution_count": 11,
     "metadata": {},
     "output_type": "execute_result"
    }
   ],
   "source": [
    "new_data.dtypes"
   ]
  },
  {
   "cell_type": "code",
   "execution_count": 12,
   "metadata": {
    "collapsed": false
   },
   "outputs": [
    {
     "name": "stderr",
     "output_type": "stream",
     "text": [
      "C:\\Users\\Vishal_Oben\\Anaconda3\\lib\\site-packages\\ipykernel\\__main__.py:1: SettingWithCopyWarning: \n",
      "A value is trying to be set on a copy of a slice from a DataFrame.\n",
      "Try using .loc[row_indexer,col_indexer] = value instead\n",
      "\n",
      "See the caveats in the documentation: http://pandas.pydata.org/pandas-docs/stable/indexing.html#indexing-view-versus-copy\n",
      "  if __name__ == '__main__':\n",
      "C:\\Users\\Vishal_Oben\\Anaconda3\\lib\\site-packages\\ipykernel\\__main__.py:2: SettingWithCopyWarning: \n",
      "A value is trying to be set on a copy of a slice from a DataFrame.\n",
      "Try using .loc[row_indexer,col_indexer] = value instead\n",
      "\n",
      "See the caveats in the documentation: http://pandas.pydata.org/pandas-docs/stable/indexing.html#indexing-view-versus-copy\n",
      "  from ipykernel import kernelapp as app\n",
      "C:\\Users\\Vishal_Oben\\Anaconda3\\lib\\site-packages\\ipykernel\\__main__.py:3: SettingWithCopyWarning: \n",
      "A value is trying to be set on a copy of a slice from a DataFrame.\n",
      "Try using .loc[row_indexer,col_indexer] = value instead\n",
      "\n",
      "See the caveats in the documentation: http://pandas.pydata.org/pandas-docs/stable/indexing.html#indexing-view-versus-copy\n",
      "  app.launch_new_instance()\n",
      "C:\\Users\\Vishal_Oben\\Anaconda3\\lib\\site-packages\\ipykernel\\__main__.py:4: SettingWithCopyWarning: \n",
      "A value is trying to be set on a copy of a slice from a DataFrame.\n",
      "Try using .loc[row_indexer,col_indexer] = value instead\n",
      "\n",
      "See the caveats in the documentation: http://pandas.pydata.org/pandas-docs/stable/indexing.html#indexing-view-versus-copy\n"
     ]
    }
   ],
   "source": [
    "new_data[\"scheduled_departure\"]=pd.to_datetime(new_data.scheduled_departure)\n",
    "new_data['scheduled_arrival']=pd.to_datetime(new_data.scheduled_arrival)\n",
    "new_data['real_arrival']=pd.to_datetime(new_data.real_arrival)\n",
    "new_data['real_departure']=pd.to_datetime(new_data.real_departure)"
   ]
  },
  {
   "cell_type": "code",
   "execution_count": 13,
   "metadata": {
    "collapsed": false,
    "scrolled": true
   },
   "outputs": [
    {
     "data": {
      "text/plain": [
       "timestamp              datetime64[ns, <bson.tz_util.FixedOffset objec...\n",
       "reg                                                               object\n",
       "airline_name                                                      object\n",
       "model                                                             object\n",
       "model_text                                                        object\n",
       "country_origin                                                    object\n",
       "country_dest                                                      object\n",
       "flight_number                                                     object\n",
       "origin                                                            object\n",
       "destination                                                       object\n",
       "scheduled_departure                                       datetime64[ns]\n",
       "scheduled_arrival                                         datetime64[ns]\n",
       "estimated_departure                                               object\n",
       "estimated_arrival                                                 object\n",
       "real_departure                                            datetime64[ns]\n",
       "real_arrival                                              datetime64[ns]\n",
       "status                                                            object\n",
       "duration                                                          object\n",
       "distance_travelled                                                object\n",
       "dtype: object"
      ]
     },
     "execution_count": 13,
     "metadata": {},
     "output_type": "execute_result"
    }
   ],
   "source": [
    "new_data.dtypes"
   ]
  },
  {
   "cell_type": "code",
   "execution_count": 14,
   "metadata": {
    "collapsed": false
   },
   "outputs": [
    {
     "name": "stderr",
     "output_type": "stream",
     "text": [
      "C:\\Users\\Vishal_Oben\\Anaconda3\\lib\\site-packages\\ipykernel\\__main__.py:1: SettingWithCopyWarning: \n",
      "A value is trying to be set on a copy of a slice from a DataFrame.\n",
      "Try using .loc[row_indexer,col_indexer] = value instead\n",
      "\n",
      "See the caveats in the documentation: http://pandas.pydata.org/pandas-docs/stable/indexing.html#indexing-view-versus-copy\n",
      "  if __name__ == '__main__':\n",
      "C:\\Users\\Vishal_Oben\\Anaconda3\\lib\\site-packages\\ipykernel\\__main__.py:2: SettingWithCopyWarning: \n",
      "A value is trying to be set on a copy of a slice from a DataFrame.\n",
      "Try using .loc[row_indexer,col_indexer] = value instead\n",
      "\n",
      "See the caveats in the documentation: http://pandas.pydata.org/pandas-docs/stable/indexing.html#indexing-view-versus-copy\n",
      "  from ipykernel import kernelapp as app\n"
     ]
    }
   ],
   "source": [
    "new_data[\"arrival_delay\"]=(new_data['real_arrival']-new_data['scheduled_arrival']).astype('timedelta64[m]')\n",
    "new_data['departure_delay']=(new_data['real_departure']-new_data['scheduled_departure']).astype('timedelta64[m]')"
   ]
  },
  {
   "cell_type": "code",
   "execution_count": 15,
   "metadata": {
    "collapsed": false
   },
   "outputs": [
    {
     "data": {
      "text/plain": [
       "(107839, 21)"
      ]
     },
     "execution_count": 15,
     "metadata": {},
     "output_type": "execute_result"
    }
   ],
   "source": [
    "new_data.shape"
   ]
  },
  {
   "cell_type": "code",
   "execution_count": 16,
   "metadata": {
    "collapsed": false
   },
   "outputs": [
    {
     "name": "stderr",
     "output_type": "stream",
     "text": [
      "C:\\Users\\Vishal_Oben\\Anaconda3\\lib\\site-packages\\ipykernel\\__main__.py:1: SettingWithCopyWarning: \n",
      "A value is trying to be set on a copy of a slice from a DataFrame.\n",
      "Try using .loc[row_indexer,col_indexer] = value instead\n",
      "\n",
      "See the caveats in the documentation: http://pandas.pydata.org/pandas-docs/stable/indexing.html#indexing-view-versus-copy\n",
      "  if __name__ == '__main__':\n",
      "C:\\Users\\Vishal_Oben\\Anaconda3\\lib\\site-packages\\ipykernel\\__main__.py:2: SettingWithCopyWarning: \n",
      "A value is trying to be set on a copy of a slice from a DataFrame.\n",
      "Try using .loc[row_indexer,col_indexer] = value instead\n",
      "\n",
      "See the caveats in the documentation: http://pandas.pydata.org/pandas-docs/stable/indexing.html#indexing-view-versus-copy\n",
      "  from ipykernel import kernelapp as app\n",
      "C:\\Users\\Vishal_Oben\\Anaconda3\\lib\\site-packages\\ipykernel\\__main__.py:3: SettingWithCopyWarning: \n",
      "A value is trying to be set on a copy of a slice from a DataFrame.\n",
      "Try using .loc[row_indexer,col_indexer] = value instead\n",
      "\n",
      "See the caveats in the documentation: http://pandas.pydata.org/pandas-docs/stable/indexing.html#indexing-view-versus-copy\n",
      "  app.launch_new_instance()\n"
     ]
    }
   ],
   "source": [
    "new_data[\"hour_dep\"]=new_data.scheduled_departure.dt.hour\n",
    "new_data[\"weekday_dep\"]=new_data.scheduled_departure.dt.weekday_name\n",
    "new_data[\"day_of_month_dep\"]=new_data.scheduled_departure.dt.day\n"
   ]
  },
  {
   "cell_type": "markdown",
   "metadata": {},
   "source": [
    "### Duration of collected dataset "
   ]
  },
  {
   "cell_type": "code",
   "execution_count": 17,
   "metadata": {
    "collapsed": false
   },
   "outputs": [
    {
     "name": "stdout",
     "output_type": "stream",
     "text": [
      "MAXIMUM TIMESTAMP IN DATASET:\n",
      "2017-04-03 09:55:00\n",
      "\n",
      "\n",
      "MINIMUM TIMESTAMP IN DATASET:\n",
      "2017-02-22 00:55:00\n"
     ]
    }
   ],
   "source": [
    "print(\"MAXIMUM TIMESTAMP IN DATASET:\")\n",
    "print(new_data.scheduled_departure.max())\n",
    "print(\"\\n\")\n",
    "print(\"MINIMUM TIMESTAMP IN DATASET:\")\n",
    "print(new_data.scheduled_departure.min())"
   ]
  },
  {
   "cell_type": "code",
   "execution_count": 18,
   "metadata": {
    "collapsed": false
   },
   "outputs": [
    {
     "data": {
      "text/plain": [
       "(107839, 24)"
      ]
     },
     "execution_count": 18,
     "metadata": {},
     "output_type": "execute_result"
    }
   ],
   "source": [
    "#Shape of datafarme\n",
    "new_data.shape\n",
    "#new_data.to_csv(\"refined_data.csv\")"
   ]
  },
  {
   "cell_type": "code",
   "execution_count": 19,
   "metadata": {
    "collapsed": false
   },
   "outputs": [
    {
     "data": {
      "text/html": [
       "<div>\n",
       "<table border=\"1\" class=\"dataframe\">\n",
       "  <thead>\n",
       "    <tr style=\"text-align: right;\">\n",
       "      <th></th>\n",
       "      <th>reg</th>\n",
       "      <th>airline_name</th>\n",
       "      <th>model</th>\n",
       "      <th>model_text</th>\n",
       "      <th>country_origin</th>\n",
       "      <th>country_dest</th>\n",
       "      <th>flight_number</th>\n",
       "      <th>origin</th>\n",
       "      <th>destination</th>\n",
       "      <th>estimated_departure</th>\n",
       "      <th>estimated_arrival</th>\n",
       "      <th>status</th>\n",
       "      <th>duration</th>\n",
       "      <th>distance_travelled</th>\n",
       "      <th>weekday_dep</th>\n",
       "    </tr>\n",
       "  </thead>\n",
       "  <tbody>\n",
       "    <tr>\n",
       "      <th>count</th>\n",
       "      <td>107839</td>\n",
       "      <td>107839</td>\n",
       "      <td>107839</td>\n",
       "      <td>107839</td>\n",
       "      <td>107839</td>\n",
       "      <td>107839</td>\n",
       "      <td>107839</td>\n",
       "      <td>107839</td>\n",
       "      <td>107839</td>\n",
       "      <td>107839</td>\n",
       "      <td>107839</td>\n",
       "      <td>107839</td>\n",
       "      <td>107839</td>\n",
       "      <td>107839</td>\n",
       "      <td>107839</td>\n",
       "    </tr>\n",
       "    <tr>\n",
       "      <th>unique</th>\n",
       "      <td>449</td>\n",
       "      <td>13</td>\n",
       "      <td>15</td>\n",
       "      <td>40</td>\n",
       "      <td>33</td>\n",
       "      <td>30</td>\n",
       "      <td>2637</td>\n",
       "      <td>109</td>\n",
       "      <td>104</td>\n",
       "      <td>1</td>\n",
       "      <td>1</td>\n",
       "      <td>1440</td>\n",
       "      <td>12283</td>\n",
       "      <td>107814</td>\n",
       "      <td>7</td>\n",
       "    </tr>\n",
       "    <tr>\n",
       "      <th>top</th>\n",
       "      <td>VT-JCR</td>\n",
       "      <td>IndiGo</td>\n",
       "      <td>A320</td>\n",
       "      <td>Airbus A320-232</td>\n",
       "      <td>India</td>\n",
       "      <td>India</td>\n",
       "      <td>6E339</td>\n",
       "      <td>Delhi Indira Gandhi International Airport</td>\n",
       "      <td>Delhi Indira Gandhi International Airport</td>\n",
       "      <td>None</td>\n",
       "      <td>None</td>\n",
       "      <td>Landed 21:00</td>\n",
       "      <td>2940</td>\n",
       "      <td>0 km</td>\n",
       "      <td>Friday</td>\n",
       "    </tr>\n",
       "    <tr>\n",
       "      <th>freq</th>\n",
       "      <td>372</td>\n",
       "      <td>38230</td>\n",
       "      <td>53087</td>\n",
       "      <td>34090</td>\n",
       "      <td>99575</td>\n",
       "      <td>99467</td>\n",
       "      <td>228</td>\n",
       "      <td>20568</td>\n",
       "      <td>20812</td>\n",
       "      <td>107839</td>\n",
       "      <td>107839</td>\n",
       "      <td>156</td>\n",
       "      <td>922</td>\n",
       "      <td>26</td>\n",
       "      <td>16856</td>\n",
       "    </tr>\n",
       "  </tbody>\n",
       "</table>\n",
       "</div>"
      ],
      "text/plain": [
       "           reg airline_name   model       model_text country_origin  \\\n",
       "count   107839       107839  107839           107839         107839   \n",
       "unique     449           13      15               40             33   \n",
       "top     VT-JCR       IndiGo    A320  Airbus A320-232          India   \n",
       "freq       372        38230   53087            34090          99575   \n",
       "\n",
       "       country_dest flight_number                                     origin  \\\n",
       "count        107839        107839                                     107839   \n",
       "unique           30          2637                                        109   \n",
       "top           India         6E339  Delhi Indira Gandhi International Airport   \n",
       "freq          99467           228                                      20568   \n",
       "\n",
       "                                      destination estimated_departure  \\\n",
       "count                                      107839              107839   \n",
       "unique                                        104                   1   \n",
       "top     Delhi Indira Gandhi International Airport                None   \n",
       "freq                                        20812              107839   \n",
       "\n",
       "       estimated_arrival        status  duration distance_travelled  \\\n",
       "count             107839        107839    107839             107839   \n",
       "unique                 1          1440     12283             107814   \n",
       "top                 None  Landed 21:00      2940               0 km   \n",
       "freq              107839           156       922                 26   \n",
       "\n",
       "       weekday_dep  \n",
       "count       107839  \n",
       "unique           7  \n",
       "top         Friday  \n",
       "freq         16856  "
      ]
     },
     "execution_count": 19,
     "metadata": {},
     "output_type": "execute_result"
    }
   ],
   "source": [
    "new_data.describe(include=[\"object\"])"
   ]
  },
  {
   "cell_type": "markdown",
   "metadata": {},
   "source": [
    "##  Filtering out domestic flights only"
   ]
  },
  {
   "cell_type": "code",
   "execution_count": 20,
   "metadata": {
    "collapsed": true
   },
   "outputs": [],
   "source": [
    "# removing international flights \n",
    "\n",
    "new_data_domestic=new_data[(new_data.country_origin==\"India\") & (new_data.country_dest==\"India\")]"
   ]
  },
  {
   "cell_type": "code",
   "execution_count": 21,
   "metadata": {
    "collapsed": false
   },
   "outputs": [
    {
     "data": {
      "text/plain": [
       "(91471, 24)"
      ]
     },
     "execution_count": 21,
     "metadata": {},
     "output_type": "execute_result"
    }
   ],
   "source": [
    "new_data_domestic.shape\n",
    "#del new_data_domestic[\"timestamp\"]\n",
    "#new_data_domestic.to_csv(\"all_domestic_29th_March.csv\")"
   ]
  },
  {
   "cell_type": "code",
   "execution_count": 22,
   "metadata": {
    "collapsed": false
   },
   "outputs": [],
   "source": [
    "qwe=new_data_domestic.drop_duplicates(subset=[\"flight_number\",\"origin\",\"destination\",\"scheduled_departure\",\"scheduled_arrival\",\n",
    "                                     \"real_departure\",\"real_arrival\",\"status\",\"reg\",\"airline_name\"])"
   ]
  },
  {
   "cell_type": "code",
   "execution_count": 23,
   "metadata": {
    "collapsed": false
   },
   "outputs": [
    {
     "data": {
      "text/plain": [
       "(91471, 24)"
      ]
     },
     "execution_count": 23,
     "metadata": {},
     "output_type": "execute_result"
    }
   ],
   "source": [
    "qwe.shape"
   ]
  },
  {
   "cell_type": "markdown",
   "metadata": {},
   "source": [
    "## Contribution of Individual domestic carriers"
   ]
  },
  {
   "cell_type": "code",
   "execution_count": 24,
   "metadata": {
    "collapsed": false
   },
   "outputs": [
    {
     "data": {
      "text/plain": [
       "<matplotlib.text.Text at 0x30b0aef0>"
      ]
     },
     "execution_count": 24,
     "metadata": {},
     "output_type": "execute_result"
    },
    {
     "data": {
      "image/png": "[encoded data removed]",
      "text/plain": [
       "<matplotlib.figure.Figure at 0x2dc10e10>"
      ]
     },
     "metadata": {},
     "output_type": "display_data"
    }
   ],
   "source": [
    "import matplotlib.pyplot as plt \n",
    "%matplotlib inline\n",
    "qwe.airline_name.value_counts(normalize=True).plot(kind=\"Bar\",figsize=(15,10),color=\"blue\")\n",
    "plt.ylabel(\" proportion  of  flights\")\n",
    "plt.xlabel(\"Name of carrier\")"
   ]
  },
  {
   "cell_type": "markdown",
   "metadata": {},
   "source": [
    "## Distribution of flights by day of the week "
   ]
  },
  {
   "cell_type": "code",
   "execution_count": 54,
   "metadata": {
    "collapsed": false
   },
   "outputs": [
    {
     "data": {
      "text/plain": [
       "<matplotlib.text.Text at 0x28f1a3c8>"
      ]
     },
     "execution_count": 54,
     "metadata": {},
     "output_type": "execute_result"
    },
    {
     "data": {
      "image/png": "[encoded data removed]",
      "text/plain": [
       "<matplotlib.figure.Figure at 0x246eedd8>"
      ]
     },
     "metadata": {},
     "output_type": "display_data"
    }
   ],
   "source": [
    "qwe.weekday_dep.value_counts(normalize=True).plot(kind=\"bar\",figsize=(12,8),color=\"b\")\n",
    "plt.ylabel(\"proportion  of flights\")\n",
    "plt.xlabel(\"Week Day\")"
   ]
  },
  {
   "cell_type": "markdown",
   "metadata": {},
   "source": [
    "## Distribution of flights by ORIGIN Airport "
   ]
  },
  {
   "cell_type": "code",
   "execution_count": 27,
   "metadata": {
    "collapsed": false
   },
   "outputs": [
    {
     "data": {
      "text/plain": [
       "<matplotlib.axes._subplots.AxesSubplot at 0x22eb3080>"
      ]
     },
     "execution_count": 27,
     "metadata": {},
     "output_type": "execute_result"
    },
    {
     "data": {
      "image/png": "[encoded data removed]",
      "text/plain": [
       "<matplotlib.figure.Figure at 0x22f1c2b0>"
      ]
     },
     "metadata": {},
     "output_type": "display_data"
    }
   ],
   "source": [
    "qwe.origin.value_counts(normalize=False,ascending=True).plot(kind=\"barh\",figsize=(20,15),color=\"orange\")"
   ]
  },
  {
   "cell_type": "code",
   "execution_count": 27,
   "metadata": {
    "collapsed": false
   },
   "outputs": [
    {
     "name": "stdout",
     "output_type": "stream",
     "text": [
      "Delhi Indira Gandhi International Airport              18318\n",
      "Mumbai Chhatrapati Shivaji International Airport       12856\n",
      "Bangalore Kempegowda International Airport              7322\n",
      "Kolkata International Airport                           6661\n",
      "Chennai International Airport                           6625\n",
      "Hyderabad Rajiv Gandhi International Airport            6287\n",
      "Pune Airport                                            2756\n",
      "Ahmedabad International Airport                         2684\n",
      "Goa International Airport                               2635\n",
      "Cochin International Airport                            1972\n",
      "Lucknow Chaudhary Charan Singh Airport                  1586\n",
      "Guwahati International Airport                          1584\n",
      "Jaipur Airport                                          1260\n",
      "Chandigarh Airport                                      1210\n",
      "Coimbatore International Airport                        1125\n",
      "Patna Jay Prakash Narayan International Airport         1125\n",
      "Bhubaneswar Biju Patnaik International Airport          1094\n",
      "Visakhapatnam Airport                                   1060\n",
      "Indore Devi Ahilyabai Holkar Airport                     953\n",
      "Siliguri Bagdogra Airport                                773\n",
      "Varanasi International Airport                           760\n",
      "Trivandrum International Airport                         722\n",
      "Raipur Swami Vivekananda Airport                         716\n",
      "Srinagar Airport                                         636\n",
      "Ranchi Birsa Munda Airport                               599\n",
      "Dehradun Jolly Grant Airport                             588\n",
      "Jammu Airport                                            583\n",
      "Madurai Airport                                          580\n",
      "Amritsar International Airport                           551\n",
      "Nagpur Dr. Babasaheb Ambedkar International Airport      525\n",
      "                                                       ...  \n",
      "Vadodara Airport                                         444\n",
      "Udaipur Maharana Pratap Airport                          426\n",
      "Port Blair Veer Savarkar International Airport           402\n",
      "Imphal Airport                                           360\n",
      "Kozhikode Calicut International Airport                  311\n",
      "Bhopal Raja Bhoj Airport                                 300\n",
      "Jodhpur Airport                                          219\n",
      "Vijayawada Airport                                       213\n",
      "Leh Kushok Bakula Rimpochee Airport                      169\n",
      "Aurangabad Airport                                       161\n",
      "Tiruchirappalli International Airport                    153\n",
      "Rajkot Airport                                           150\n",
      "Silchar Airport                                          143\n",
      "Aizawl Lengpui Airport                                   112\n",
      "Bhuj Airport                                              94\n",
      "Surat Airport                                             94\n",
      "Tirupati Airport                                          88\n",
      "Rajahmundry Airport                                       87\n",
      "Dibrugarh Airport                                         74\n",
      "Dimapur Airport                                           63\n",
      "Khajuraho Airport                                         48\n",
      "Jabalpur Airport                                          47\n",
      "Tuticorin Airport                                         47\n",
      "Dharamsala Gaggal Kangra Airport                          44\n",
      "Jamnagar Airport                                          38\n",
      "Gorakhpur Airport                                         37\n",
      "Gaya Airport                                              32\n",
      "Belgaum Airport                                            8\n",
      "Agra Airport                                               5\n",
      "Jorhat Airport                                             4\n",
      "Name: origin, dtype: int64\n"
     ]
    }
   ],
   "source": [
    "q=qwe.origin.value_counts()\n",
    "print(q)"
   ]
  },
  {
   "cell_type": "code",
   "execution_count": 98,
   "metadata": {
    "collapsed": false
   },
   "outputs": [
    {
     "name": "stdout",
     "output_type": "stream",
     "text": [
      "-5.0\n",
      "-1.161843644433755\n",
      "26.78270697853887\n",
      "60.0\n"
     ]
    }
   ],
   "source": [
    "print(qwe[\"arrival_delay\"].median())\n",
    "print(qwe[\"arrival_delay\"].mean())\n",
    "print(qwe[\"arrival_delay\"].std())\n",
    "print(qwe[\"arrival_delay\"].quantile(0.975))"
   ]
  },
  {
   "cell_type": "markdown",
   "metadata": {},
   "source": [
    "## Filtering out delayed flights ( arrival_delay >0 )"
   ]
  },
  {
   "cell_type": "code",
   "execution_count": 31,
   "metadata": {
    "collapsed": true
   },
   "outputs": [],
   "source": [
    "#filtering out delayed flights,if arrival_delay is greater than 0 , it is considered delayed \n",
    "\n",
    "delayed_flights_0_min=qwe[qwe.arrival_delay>0]\n",
    "delayed_flights_60_min=qwe[qwe.arrival_delay>60]\n",
    "delayed_flights_120_min=qwe[qwe.arrival_delay>120]\n",
    "#delayed_flights_0_min.to_csv(\"delayed_flight_final.csv\")"
   ]
  },
  {
   "cell_type": "code",
   "execution_count": 32,
   "metadata": {
    "collapsed": false
   },
   "outputs": [
    {
     "name": "stdout",
     "output_type": "stream",
     "text": [
      "(32645, 24)\n",
      "(2222, 24)\n",
      "(497, 24)\n"
     ]
    }
   ],
   "source": [
    "#Printing the shape of delayed flights dataframes\n",
    "\n",
    "\n",
    "print(delayed_flights_0_min.shape)\n",
    "print(delayed_flights_60_min.shape)\n",
    "print(delayed_flights_120_min.shape)\n"
   ]
  },
  {
   "cell_type": "code",
   "execution_count": 33,
   "metadata": {
    "collapsed": false
   },
   "outputs": [
    {
     "data": {
      "text/html": [
       "<div>\n",
       "<table border=\"1\" class=\"dataframe\">\n",
       "  <thead>\n",
       "    <tr style=\"text-align: right;\">\n",
       "      <th></th>\n",
       "      <th>timestamp</th>\n",
       "      <th>reg</th>\n",
       "      <th>airline_name</th>\n",
       "      <th>model</th>\n",
       "      <th>model_text</th>\n",
       "      <th>country_origin</th>\n",
       "      <th>country_dest</th>\n",
       "      <th>flight_number</th>\n",
       "      <th>origin</th>\n",
       "      <th>destination</th>\n",
       "      <th>...</th>\n",
       "      <th>real_departure</th>\n",
       "      <th>real_arrival</th>\n",
       "      <th>status</th>\n",
       "      <th>duration</th>\n",
       "      <th>distance_travelled</th>\n",
       "      <th>arrival_delay</th>\n",
       "      <th>departure_delay</th>\n",
       "      <th>hour_dep</th>\n",
       "      <th>weekday_dep</th>\n",
       "      <th>day_of_month_dep</th>\n",
       "    </tr>\n",
       "  </thead>\n",
       "  <tbody>\n",
       "    <tr>\n",
       "      <th>595</th>\n",
       "      <td>2017-03-01 04:28:52+00:00</td>\n",
       "      <td>VT-IDB</td>\n",
       "      <td>IndiGo</td>\n",
       "      <td>A320</td>\n",
       "      <td>Airbus A320-232</td>\n",
       "      <td>India</td>\n",
       "      <td>India</td>\n",
       "      <td>6E6698</td>\n",
       "      <td>Pune Airport</td>\n",
       "      <td>Delhi Indira Gandhi International Airport</td>\n",
       "      <td>...</td>\n",
       "      <td>2017-02-25 03:32:04</td>\n",
       "      <td>2017-02-25 05:16:00</td>\n",
       "      <td>Landed 05:17</td>\n",
       "      <td>6316</td>\n",
       "      <td>1152.3896833564875 km</td>\n",
       "      <td>151.0</td>\n",
       "      <td>172.0</td>\n",
       "      <td>0</td>\n",
       "      <td>Saturday</td>\n",
       "      <td>25</td>\n",
       "    </tr>\n",
       "    <tr>\n",
       "      <th>1186</th>\n",
       "      <td>2017-03-01 04:31:05+00:00</td>\n",
       "      <td>VT-IDN</td>\n",
       "      <td>IndiGo</td>\n",
       "      <td>A320</td>\n",
       "      <td>Airbus A320-232</td>\n",
       "      <td>India</td>\n",
       "      <td>India</td>\n",
       "      <td>6E314</td>\n",
       "      <td>Bhubaneswar Biju Patnaik International Airport</td>\n",
       "      <td>Delhi Indira Gandhi International Airport</td>\n",
       "      <td>...</td>\n",
       "      <td>2017-02-27 22:08:57</td>\n",
       "      <td>2017-02-28 00:12:00</td>\n",
       "      <td>Landed 00:13</td>\n",
       "      <td>7455</td>\n",
       "      <td>1276.1613617046855 km</td>\n",
       "      <td>172.0</td>\n",
       "      <td>203.0</td>\n",
       "      <td>18</td>\n",
       "      <td>Monday</td>\n",
       "      <td>27</td>\n",
       "    </tr>\n",
       "    <tr>\n",
       "      <th>1843</th>\n",
       "      <td>2017-03-01 04:33:09+00:00</td>\n",
       "      <td>VT-IDY</td>\n",
       "      <td>IndiGo</td>\n",
       "      <td>A320</td>\n",
       "      <td>Airbus A320-214</td>\n",
       "      <td>India</td>\n",
       "      <td>India</td>\n",
       "      <td>6E865</td>\n",
       "      <td>Chandigarh Airport</td>\n",
       "      <td>Delhi Indira Gandhi International Airport</td>\n",
       "      <td>...</td>\n",
       "      <td>2017-02-22 10:25:10</td>\n",
       "      <td>2017-02-22 11:07:00</td>\n",
       "      <td>Landed 11:07</td>\n",
       "      <td>2556</td>\n",
       "      <td>235.5263291167312 km</td>\n",
       "      <td>122.0</td>\n",
       "      <td>135.0</td>\n",
       "      <td>8</td>\n",
       "      <td>Wednesday</td>\n",
       "      <td>22</td>\n",
       "    </tr>\n",
       "    <tr>\n",
       "      <th>1913</th>\n",
       "      <td>2017-03-01 04:33:32+00:00</td>\n",
       "      <td>VT-IEA</td>\n",
       "      <td>IndiGo</td>\n",
       "      <td>A320</td>\n",
       "      <td>Airbus A320-232</td>\n",
       "      <td>India</td>\n",
       "      <td>India</td>\n",
       "      <td>6E819</td>\n",
       "      <td>Hyderabad Rajiv Gandhi International Airport</td>\n",
       "      <td>Mumbai Chhatrapati Shivaji International Airport</td>\n",
       "      <td>...</td>\n",
       "      <td>2017-02-27 14:10:32</td>\n",
       "      <td>2017-02-27 15:58:00</td>\n",
       "      <td>Landed 15:59</td>\n",
       "      <td>6509</td>\n",
       "      <td>622.5796308496787 km</td>\n",
       "      <td>133.0</td>\n",
       "      <td>115.0</td>\n",
       "      <td>12</td>\n",
       "      <td>Monday</td>\n",
       "      <td>27</td>\n",
       "    </tr>\n",
       "    <tr>\n",
       "      <th>2243</th>\n",
       "      <td>2017-03-01 04:34:51+00:00</td>\n",
       "      <td>VT-IEH</td>\n",
       "      <td>IndiGo</td>\n",
       "      <td>A320</td>\n",
       "      <td>Airbus A320-232</td>\n",
       "      <td>India</td>\n",
       "      <td>India</td>\n",
       "      <td>6E3646</td>\n",
       "      <td>Siliguri Bagdogra Airport</td>\n",
       "      <td>Delhi Indira Gandhi International Airport</td>\n",
       "      <td>...</td>\n",
       "      <td>2017-02-27 14:48:45</td>\n",
       "      <td>2017-02-27 16:56:00</td>\n",
       "      <td>Landed 16:57</td>\n",
       "      <td>7703</td>\n",
       "      <td>1127.0288675949193 km</td>\n",
       "      <td>151.0</td>\n",
       "      <td>158.0</td>\n",
       "      <td>12</td>\n",
       "      <td>Monday</td>\n",
       "      <td>27</td>\n",
       "    </tr>\n",
       "  </tbody>\n",
       "</table>\n",
       "<p>5 rows × 24 columns</p>\n",
       "</div>"
      ],
      "text/plain": [
       "                     timestamp     reg airline_name model       model_text  \\\n",
       "595  2017-03-01 04:28:52+00:00  VT-IDB       IndiGo  A320  Airbus A320-232   \n",
       "1186 2017-03-01 04:31:05+00:00  VT-IDN       IndiGo  A320  Airbus A320-232   \n",
       "1843 2017-03-01 04:33:09+00:00  VT-IDY       IndiGo  A320  Airbus A320-214   \n",
       "1913 2017-03-01 04:33:32+00:00  VT-IEA       IndiGo  A320  Airbus A320-232   \n",
       "2243 2017-03-01 04:34:51+00:00  VT-IEH       IndiGo  A320  Airbus A320-232   \n",
       "\n",
       "     country_origin country_dest flight_number  \\\n",
       "595           India        India        6E6698   \n",
       "1186          India        India         6E314   \n",
       "1843          India        India         6E865   \n",
       "1913          India        India         6E819   \n",
       "2243          India        India        6E3646   \n",
       "\n",
       "                                              origin  \\\n",
       "595                                     Pune Airport   \n",
       "1186  Bhubaneswar Biju Patnaik International Airport   \n",
       "1843                              Chandigarh Airport   \n",
       "1913    Hyderabad Rajiv Gandhi International Airport   \n",
       "2243                       Siliguri Bagdogra Airport   \n",
       "\n",
       "                                           destination        ...         \\\n",
       "595          Delhi Indira Gandhi International Airport        ...          \n",
       "1186         Delhi Indira Gandhi International Airport        ...          \n",
       "1843         Delhi Indira Gandhi International Airport        ...          \n",
       "1913  Mumbai Chhatrapati Shivaji International Airport        ...          \n",
       "2243         Delhi Indira Gandhi International Airport        ...          \n",
       "\n",
       "          real_departure        real_arrival        status duration  \\\n",
       "595  2017-02-25 03:32:04 2017-02-25 05:16:00  Landed 05:17     6316   \n",
       "1186 2017-02-27 22:08:57 2017-02-28 00:12:00  Landed 00:13     7455   \n",
       "1843 2017-02-22 10:25:10 2017-02-22 11:07:00  Landed 11:07     2556   \n",
       "1913 2017-02-27 14:10:32 2017-02-27 15:58:00  Landed 15:59     6509   \n",
       "2243 2017-02-27 14:48:45 2017-02-27 16:56:00  Landed 16:57     7703   \n",
       "\n",
       "         distance_travelled arrival_delay departure_delay hour_dep  \\\n",
       "595   1152.3896833564875 km         151.0           172.0        0   \n",
       "1186  1276.1613617046855 km         172.0           203.0       18   \n",
       "1843   235.5263291167312 km         122.0           135.0        8   \n",
       "1913   622.5796308496787 km         133.0           115.0       12   \n",
       "2243  1127.0288675949193 km         151.0           158.0       12   \n",
       "\n",
       "     weekday_dep  day_of_month_dep  \n",
       "595     Saturday                25  \n",
       "1186      Monday                27  \n",
       "1843   Wednesday                22  \n",
       "1913      Monday                27  \n",
       "2243      Monday                27  \n",
       "\n",
       "[5 rows x 24 columns]"
      ]
     },
     "execution_count": 33,
     "metadata": {},
     "output_type": "execute_result"
    }
   ],
   "source": [
    "delayed_flights_120_min.head()"
   ]
  },
  {
   "cell_type": "code",
   "execution_count": 56,
   "metadata": {
    "collapsed": false
   },
   "outputs": [
    {
     "data": {
      "text/plain": [
       "<matplotlib.axes._subplots.AxesSubplot at 0x1cd0ee48>"
      ]
     },
     "execution_count": 56,
     "metadata": {},
     "output_type": "execute_result"
    },
    {
     "data": {
      "image/png": "[encoded data removed]",
      "text/plain": [
       "<matplotlib.figure.Figure at 0x30cd3710>"
      ]
     },
     "metadata": {},
     "output_type": "display_data"
    }
   ],
   "source": [
    "delayed_flights_120_min[\"airline_name\"].value_counts(normalize=False,ascending=True).plot(kind=\"bar\",figsize=(15,10),color=\"green\")"
   ]
  },
  {
   "cell_type": "code",
   "execution_count": 61,
   "metadata": {
    "collapsed": false
   },
   "outputs": [
    {
     "data": {
      "text/html": [
       "<div>\n",
       "<table border=\"1\" class=\"dataframe\">\n",
       "  <thead>\n",
       "    <tr style=\"text-align: right;\">\n",
       "      <th></th>\n",
       "      <th>timestamp</th>\n",
       "      <th>reg</th>\n",
       "      <th>airline_name</th>\n",
       "      <th>model</th>\n",
       "      <th>model_text</th>\n",
       "      <th>country_origin</th>\n",
       "      <th>country_dest</th>\n",
       "      <th>flight_number</th>\n",
       "      <th>origin</th>\n",
       "      <th>destination</th>\n",
       "      <th>...</th>\n",
       "      <th>real_departure</th>\n",
       "      <th>real_arrival</th>\n",
       "      <th>status</th>\n",
       "      <th>duration</th>\n",
       "      <th>distance_travelled</th>\n",
       "      <th>arrival_delay</th>\n",
       "      <th>departure_delay</th>\n",
       "      <th>hour_dep</th>\n",
       "      <th>weekday_dep</th>\n",
       "      <th>day_of_month_dep</th>\n",
       "    </tr>\n",
       "  </thead>\n",
       "  <tbody>\n",
       "    <tr>\n",
       "      <th>595</th>\n",
       "      <td>2017-03-01 04:28:52+00:00</td>\n",
       "      <td>VT-IDB</td>\n",
       "      <td>IndiGo</td>\n",
       "      <td>A320</td>\n",
       "      <td>Airbus A320-232</td>\n",
       "      <td>India</td>\n",
       "      <td>India</td>\n",
       "      <td>6E6698</td>\n",
       "      <td>Pune Airport</td>\n",
       "      <td>Delhi Indira Gandhi International Airport</td>\n",
       "      <td>...</td>\n",
       "      <td>2017-02-25 03:32:04</td>\n",
       "      <td>2017-02-25 05:16:00</td>\n",
       "      <td>Landed 05:17</td>\n",
       "      <td>6316</td>\n",
       "      <td>1152.3896833564875 km</td>\n",
       "      <td>151.0</td>\n",
       "      <td>172.0</td>\n",
       "      <td>0</td>\n",
       "      <td>Saturday</td>\n",
       "      <td>25</td>\n",
       "    </tr>\n",
       "    <tr>\n",
       "      <th>1186</th>\n",
       "      <td>2017-03-01 04:31:05+00:00</td>\n",
       "      <td>VT-IDN</td>\n",
       "      <td>IndiGo</td>\n",
       "      <td>A320</td>\n",
       "      <td>Airbus A320-232</td>\n",
       "      <td>India</td>\n",
       "      <td>India</td>\n",
       "      <td>6E314</td>\n",
       "      <td>Bhubaneswar Biju Patnaik International Airport</td>\n",
       "      <td>Delhi Indira Gandhi International Airport</td>\n",
       "      <td>...</td>\n",
       "      <td>2017-02-27 22:08:57</td>\n",
       "      <td>2017-02-28 00:12:00</td>\n",
       "      <td>Landed 00:13</td>\n",
       "      <td>7455</td>\n",
       "      <td>1276.1613617046855 km</td>\n",
       "      <td>172.0</td>\n",
       "      <td>203.0</td>\n",
       "      <td>18</td>\n",
       "      <td>Monday</td>\n",
       "      <td>27</td>\n",
       "    </tr>\n",
       "    <tr>\n",
       "      <th>1843</th>\n",
       "      <td>2017-03-01 04:33:09+00:00</td>\n",
       "      <td>VT-IDY</td>\n",
       "      <td>IndiGo</td>\n",
       "      <td>A320</td>\n",
       "      <td>Airbus A320-214</td>\n",
       "      <td>India</td>\n",
       "      <td>India</td>\n",
       "      <td>6E865</td>\n",
       "      <td>Chandigarh Airport</td>\n",
       "      <td>Delhi Indira Gandhi International Airport</td>\n",
       "      <td>...</td>\n",
       "      <td>2017-02-22 10:25:10</td>\n",
       "      <td>2017-02-22 11:07:00</td>\n",
       "      <td>Landed 11:07</td>\n",
       "      <td>2556</td>\n",
       "      <td>235.5263291167312 km</td>\n",
       "      <td>122.0</td>\n",
       "      <td>135.0</td>\n",
       "      <td>8</td>\n",
       "      <td>Wednesday</td>\n",
       "      <td>22</td>\n",
       "    </tr>\n",
       "    <tr>\n",
       "      <th>1913</th>\n",
       "      <td>2017-03-01 04:33:32+00:00</td>\n",
       "      <td>VT-IEA</td>\n",
       "      <td>IndiGo</td>\n",
       "      <td>A320</td>\n",
       "      <td>Airbus A320-232</td>\n",
       "      <td>India</td>\n",
       "      <td>India</td>\n",
       "      <td>6E819</td>\n",
       "      <td>Hyderabad Rajiv Gandhi International Airport</td>\n",
       "      <td>Mumbai Chhatrapati Shivaji International Airport</td>\n",
       "      <td>...</td>\n",
       "      <td>2017-02-27 14:10:32</td>\n",
       "      <td>2017-02-27 15:58:00</td>\n",
       "      <td>Landed 15:59</td>\n",
       "      <td>6509</td>\n",
       "      <td>622.5796308496787 km</td>\n",
       "      <td>133.0</td>\n",
       "      <td>115.0</td>\n",
       "      <td>12</td>\n",
       "      <td>Monday</td>\n",
       "      <td>27</td>\n",
       "    </tr>\n",
       "    <tr>\n",
       "      <th>2243</th>\n",
       "      <td>2017-03-01 04:34:51+00:00</td>\n",
       "      <td>VT-IEH</td>\n",
       "      <td>IndiGo</td>\n",
       "      <td>A320</td>\n",
       "      <td>Airbus A320-232</td>\n",
       "      <td>India</td>\n",
       "      <td>India</td>\n",
       "      <td>6E3646</td>\n",
       "      <td>Siliguri Bagdogra Airport</td>\n",
       "      <td>Delhi Indira Gandhi International Airport</td>\n",
       "      <td>...</td>\n",
       "      <td>2017-02-27 14:48:45</td>\n",
       "      <td>2017-02-27 16:56:00</td>\n",
       "      <td>Landed 16:57</td>\n",
       "      <td>7703</td>\n",
       "      <td>1127.0288675949193 km</td>\n",
       "      <td>151.0</td>\n",
       "      <td>158.0</td>\n",
       "      <td>12</td>\n",
       "      <td>Monday</td>\n",
       "      <td>27</td>\n",
       "    </tr>\n",
       "    <tr>\n",
       "      <th>2244</th>\n",
       "      <td>2017-03-01 04:34:51+00:00</td>\n",
       "      <td>VT-IEH</td>\n",
       "      <td>IndiGo</td>\n",
       "      <td>A320</td>\n",
       "      <td>Airbus A320-232</td>\n",
       "      <td>India</td>\n",
       "      <td>India</td>\n",
       "      <td>6E797</td>\n",
       "      <td>Kolkata International Airport</td>\n",
       "      <td>Siliguri Bagdogra Airport</td>\n",
       "      <td>...</td>\n",
       "      <td>2017-02-27 13:10:05</td>\n",
       "      <td>2017-02-27 14:09:00</td>\n",
       "      <td>Landed 14:09</td>\n",
       "      <td>3557</td>\n",
       "      <td>446.16531989483883 km</td>\n",
       "      <td>149.0</td>\n",
       "      <td>155.0</td>\n",
       "      <td>10</td>\n",
       "      <td>Monday</td>\n",
       "      <td>27</td>\n",
       "    </tr>\n",
       "    <tr>\n",
       "      <th>2245</th>\n",
       "      <td>2017-03-01 04:34:51+00:00</td>\n",
       "      <td>VT-IEH</td>\n",
       "      <td>IndiGo</td>\n",
       "      <td>A320</td>\n",
       "      <td>Airbus A320-232</td>\n",
       "      <td>India</td>\n",
       "      <td>India</td>\n",
       "      <td>6E797</td>\n",
       "      <td>Chennai International Airport</td>\n",
       "      <td>Kolkata International Airport</td>\n",
       "      <td>...</td>\n",
       "      <td>2017-02-27 10:18:19</td>\n",
       "      <td>2017-02-27 12:16:00</td>\n",
       "      <td>Landed 12:16</td>\n",
       "      <td>7110</td>\n",
       "      <td>1381.519359039848 km</td>\n",
       "      <td>136.0</td>\n",
       "      <td>148.0</td>\n",
       "      <td>7</td>\n",
       "      <td>Monday</td>\n",
       "      <td>27</td>\n",
       "    </tr>\n",
       "    <tr>\n",
       "      <th>2246</th>\n",
       "      <td>2017-03-01 04:34:51+00:00</td>\n",
       "      <td>VT-IEH</td>\n",
       "      <td>IndiGo</td>\n",
       "      <td>A320</td>\n",
       "      <td>Airbus A320-232</td>\n",
       "      <td>India</td>\n",
       "      <td>India</td>\n",
       "      <td>6E233</td>\n",
       "      <td>Bangalore Kempegowda International Airport</td>\n",
       "      <td>Chennai International Airport</td>\n",
       "      <td>...</td>\n",
       "      <td>2017-02-27 08:30:59</td>\n",
       "      <td>2017-02-27 09:21:00</td>\n",
       "      <td>Landed 09:26</td>\n",
       "      <td>3341</td>\n",
       "      <td>269.3407262208813 km</td>\n",
       "      <td>121.0</td>\n",
       "      <td>130.0</td>\n",
       "      <td>6</td>\n",
       "      <td>Monday</td>\n",
       "      <td>27</td>\n",
       "    </tr>\n",
       "    <tr>\n",
       "      <th>2446</th>\n",
       "      <td>2017-03-01 04:35:37+00:00</td>\n",
       "      <td>VT-IEL</td>\n",
       "      <td>IndiGo</td>\n",
       "      <td>A320</td>\n",
       "      <td>Airbus A320-232</td>\n",
       "      <td>India</td>\n",
       "      <td>India</td>\n",
       "      <td>6E4651</td>\n",
       "      <td>Mumbai Chhatrapati Shivaji International Airport</td>\n",
       "      <td>Indore Devi Ahilyabai Holkar Airport</td>\n",
       "      <td>...</td>\n",
       "      <td>2017-02-27 17:13:01</td>\n",
       "      <td>2017-02-27 18:12:00</td>\n",
       "      <td>Landed 18:11</td>\n",
       "      <td>3513</td>\n",
       "      <td>504.84767891268876 km</td>\n",
       "      <td>122.0</td>\n",
       "      <td>148.0</td>\n",
       "      <td>14</td>\n",
       "      <td>Monday</td>\n",
       "      <td>27</td>\n",
       "    </tr>\n",
       "    <tr>\n",
       "      <th>3085</th>\n",
       "      <td>2017-03-01 04:37:54+00:00</td>\n",
       "      <td>VT-IEX</td>\n",
       "      <td>IndiGo</td>\n",
       "      <td>A320</td>\n",
       "      <td>Airbus A320-232</td>\n",
       "      <td>India</td>\n",
       "      <td>India</td>\n",
       "      <td>6E711</td>\n",
       "      <td>Varanasi International Airport</td>\n",
       "      <td>Mumbai Chhatrapati Shivaji International Airport</td>\n",
       "      <td>...</td>\n",
       "      <td>2017-02-27 12:31:28</td>\n",
       "      <td>2017-02-27 15:03:00</td>\n",
       "      <td>Landed 15:06</td>\n",
       "      <td>9276</td>\n",
       "      <td>1246.9846863567861 km</td>\n",
       "      <td>143.0</td>\n",
       "      <td>131.0</td>\n",
       "      <td>10</td>\n",
       "      <td>Monday</td>\n",
       "      <td>27</td>\n",
       "    </tr>\n",
       "    <tr>\n",
       "      <th>3086</th>\n",
       "      <td>2017-03-01 04:37:54+00:00</td>\n",
       "      <td>VT-IEX</td>\n",
       "      <td>IndiGo</td>\n",
       "      <td>A320</td>\n",
       "      <td>Airbus A320-232</td>\n",
       "      <td>India</td>\n",
       "      <td>India</td>\n",
       "      <td>6E713</td>\n",
       "      <td>Kolkata International Airport</td>\n",
       "      <td>Varanasi International Airport</td>\n",
       "      <td>...</td>\n",
       "      <td>2017-02-27 10:45:45</td>\n",
       "      <td>2017-02-27 11:51:00</td>\n",
       "      <td>Landed 11:51</td>\n",
       "      <td>3949</td>\n",
       "      <td>647.1656717896195 km</td>\n",
       "      <td>121.0</td>\n",
       "      <td>140.0</td>\n",
       "      <td>8</td>\n",
       "      <td>Monday</td>\n",
       "      <td>27</td>\n",
       "    </tr>\n",
       "    <tr>\n",
       "      <th>4015</th>\n",
       "      <td>2017-03-01 04:40:59+00:00</td>\n",
       "      <td>VT-IFN</td>\n",
       "      <td>IndiGo</td>\n",
       "      <td>A320</td>\n",
       "      <td>Airbus A320-232</td>\n",
       "      <td>India</td>\n",
       "      <td>India</td>\n",
       "      <td>6E243</td>\n",
       "      <td>Mumbai Chhatrapati Shivaji International Airport</td>\n",
       "      <td>Ahmedabad International Airport</td>\n",
       "      <td>...</td>\n",
       "      <td>2017-02-27 20:39:21</td>\n",
       "      <td>2017-02-27 21:44:46</td>\n",
       "      <td>Landed 21:44</td>\n",
       "      <td>3925</td>\n",
       "      <td>442.2714680235996 km</td>\n",
       "      <td>124.0</td>\n",
       "      <td>134.0</td>\n",
       "      <td>18</td>\n",
       "      <td>Monday</td>\n",
       "      <td>27</td>\n",
       "    </tr>\n",
       "    <tr>\n",
       "      <th>4631</th>\n",
       "      <td>2017-03-01 04:43:07+00:00</td>\n",
       "      <td>VT-IFY</td>\n",
       "      <td>IndiGo</td>\n",
       "      <td>A320</td>\n",
       "      <td>Airbus A320-232</td>\n",
       "      <td>India</td>\n",
       "      <td>India</td>\n",
       "      <td>6E4062</td>\n",
       "      <td>Delhi Indira Gandhi International Airport</td>\n",
       "      <td>Jammu Airport</td>\n",
       "      <td>...</td>\n",
       "      <td>2017-02-23 12:07:57</td>\n",
       "      <td>2017-02-23 13:22:00</td>\n",
       "      <td>Landed 13:23</td>\n",
       "      <td>4527</td>\n",
       "      <td>505.99948258427105 km</td>\n",
       "      <td>137.0</td>\n",
       "      <td>142.0</td>\n",
       "      <td>9</td>\n",
       "      <td>Thursday</td>\n",
       "      <td>23</td>\n",
       "    </tr>\n",
       "    <tr>\n",
       "      <th>4714</th>\n",
       "      <td>2017-03-01 04:43:30+00:00</td>\n",
       "      <td>VT-IGH</td>\n",
       "      <td>IndiGo</td>\n",
       "      <td>A320</td>\n",
       "      <td>Airbus A320-232</td>\n",
       "      <td>India</td>\n",
       "      <td>India</td>\n",
       "      <td>6E422</td>\n",
       "      <td>Cochin International Airport</td>\n",
       "      <td>Hyderabad Rajiv Gandhi International Airport</td>\n",
       "      <td>...</td>\n",
       "      <td>2017-02-27 12:45:42</td>\n",
       "      <td>2017-02-27 14:01:00</td>\n",
       "      <td>Landed 14:02</td>\n",
       "      <td>4623</td>\n",
       "      <td>815.7870005140779 km</td>\n",
       "      <td>121.0</td>\n",
       "      <td>135.0</td>\n",
       "      <td>10</td>\n",
       "      <td>Monday</td>\n",
       "      <td>27</td>\n",
       "    </tr>\n",
       "    <tr>\n",
       "      <th>4715</th>\n",
       "      <td>2017-03-01 04:43:30+00:00</td>\n",
       "      <td>VT-IGH</td>\n",
       "      <td>IndiGo</td>\n",
       "      <td>A320</td>\n",
       "      <td>Airbus A320-232</td>\n",
       "      <td>India</td>\n",
       "      <td>India</td>\n",
       "      <td>6E413</td>\n",
       "      <td>Bangalore Kempegowda International Airport</td>\n",
       "      <td>Cochin International Airport</td>\n",
       "      <td>...</td>\n",
       "      <td>2017-02-27 11:19:59</td>\n",
       "      <td>2017-02-27 12:01:00</td>\n",
       "      <td>Landed 12:02</td>\n",
       "      <td>2525</td>\n",
       "      <td>365.78622979394265 km</td>\n",
       "      <td>131.0</td>\n",
       "      <td>154.0</td>\n",
       "      <td>8</td>\n",
       "      <td>Monday</td>\n",
       "      <td>27</td>\n",
       "    </tr>\n",
       "    <tr>\n",
       "      <th>5060</th>\n",
       "      <td>2017-03-01 04:44:41+00:00</td>\n",
       "      <td>VT-IGT</td>\n",
       "      <td>IndiGo</td>\n",
       "      <td>A320</td>\n",
       "      <td>Airbus A320-232</td>\n",
       "      <td>India</td>\n",
       "      <td>India</td>\n",
       "      <td>6E132</td>\n",
       "      <td>Bangalore Kempegowda International Airport</td>\n",
       "      <td>Delhi Indira Gandhi International Airport</td>\n",
       "      <td>...</td>\n",
       "      <td>2017-02-27 08:09:28</td>\n",
       "      <td>2017-02-27 10:42:00</td>\n",
       "      <td>Landed 10:43</td>\n",
       "      <td>9229</td>\n",
       "      <td>1702.6538858818208 km</td>\n",
       "      <td>122.0</td>\n",
       "      <td>129.0</td>\n",
       "      <td>6</td>\n",
       "      <td>Monday</td>\n",
       "      <td>27</td>\n",
       "    </tr>\n",
       "    <tr>\n",
       "      <th>5084</th>\n",
       "      <td>2017-03-01 04:44:41+00:00</td>\n",
       "      <td>VT-IGT</td>\n",
       "      <td>IndiGo</td>\n",
       "      <td>A320</td>\n",
       "      <td>Airbus A320-232</td>\n",
       "      <td>India</td>\n",
       "      <td>India</td>\n",
       "      <td>6E3813</td>\n",
       "      <td>Jaipur Airport</td>\n",
       "      <td>Delhi Indira Gandhi International Airport</td>\n",
       "      <td>...</td>\n",
       "      <td>2017-02-23 22:33:56</td>\n",
       "      <td>2017-02-23 23:28:00</td>\n",
       "      <td>Landed 23:28</td>\n",
       "      <td>3285</td>\n",
       "      <td>231.2760345555949 km</td>\n",
       "      <td>123.0</td>\n",
       "      <td>128.0</td>\n",
       "      <td>20</td>\n",
       "      <td>Thursday</td>\n",
       "      <td>23</td>\n",
       "    </tr>\n",
       "    <tr>\n",
       "      <th>5085</th>\n",
       "      <td>2017-03-01 04:44:41+00:00</td>\n",
       "      <td>VT-IGT</td>\n",
       "      <td>IndiGo</td>\n",
       "      <td>A320</td>\n",
       "      <td>Airbus A320-232</td>\n",
       "      <td>India</td>\n",
       "      <td>India</td>\n",
       "      <td>6E696</td>\n",
       "      <td>Mumbai Chhatrapati Shivaji International Airport</td>\n",
       "      <td>Jaipur Airport</td>\n",
       "      <td>...</td>\n",
       "      <td>2017-02-23 20:18:28</td>\n",
       "      <td>2017-02-23 21:40:00</td>\n",
       "      <td>Landed 21:39</td>\n",
       "      <td>4866</td>\n",
       "      <td>908.2032835428321 km</td>\n",
       "      <td>125.0</td>\n",
       "      <td>153.0</td>\n",
       "      <td>17</td>\n",
       "      <td>Thursday</td>\n",
       "      <td>23</td>\n",
       "    </tr>\n",
       "    <tr>\n",
       "      <th>5170</th>\n",
       "      <td>2017-03-01 04:45:04+00:00</td>\n",
       "      <td>VT-IGV</td>\n",
       "      <td>IndiGo</td>\n",
       "      <td>A320</td>\n",
       "      <td>Airbus A320-232</td>\n",
       "      <td>India</td>\n",
       "      <td>India</td>\n",
       "      <td>6E247</td>\n",
       "      <td>Hyderabad Rajiv Gandhi International Airport</td>\n",
       "      <td>Mumbai Chhatrapati Shivaji International Airport</td>\n",
       "      <td>...</td>\n",
       "      <td>2017-02-27 09:41:29</td>\n",
       "      <td>2017-02-27 11:08:00</td>\n",
       "      <td>Landed 11:08</td>\n",
       "      <td>5244</td>\n",
       "      <td>622.5796308496787 km</td>\n",
       "      <td>148.0</td>\n",
       "      <td>151.0</td>\n",
       "      <td>7</td>\n",
       "      <td>Monday</td>\n",
       "      <td>27</td>\n",
       "    </tr>\n",
       "    <tr>\n",
       "      <th>5171</th>\n",
       "      <td>2017-03-01 04:45:04+00:00</td>\n",
       "      <td>VT-IGV</td>\n",
       "      <td>IndiGo</td>\n",
       "      <td>A320</td>\n",
       "      <td>Airbus A320-232</td>\n",
       "      <td>India</td>\n",
       "      <td>India</td>\n",
       "      <td>6E602</td>\n",
       "      <td>Bangalore Kempegowda International Airport</td>\n",
       "      <td>Hyderabad Rajiv Gandhi International Airport</td>\n",
       "      <td>...</td>\n",
       "      <td>2017-02-27 08:06:01</td>\n",
       "      <td>2017-02-27 08:50:00</td>\n",
       "      <td>Landed 08:50</td>\n",
       "      <td>2671</td>\n",
       "      <td>455.41854744926184 km</td>\n",
       "      <td>130.0</td>\n",
       "      <td>151.0</td>\n",
       "      <td>5</td>\n",
       "      <td>Monday</td>\n",
       "      <td>27</td>\n",
       "    </tr>\n",
       "    <tr>\n",
       "      <th>5456</th>\n",
       "      <td>2017-03-01 04:46:02+00:00</td>\n",
       "      <td>VT-IHA</td>\n",
       "      <td>IndiGo</td>\n",
       "      <td>A320</td>\n",
       "      <td>Airbus A320-232</td>\n",
       "      <td>India</td>\n",
       "      <td>India</td>\n",
       "      <td>6E834</td>\n",
       "      <td>Mumbai Chhatrapati Shivaji International Airport</td>\n",
       "      <td>Hyderabad Rajiv Gandhi International Airport</td>\n",
       "      <td>...</td>\n",
       "      <td>2017-02-27 19:23:04</td>\n",
       "      <td>2017-02-27 20:22:00</td>\n",
       "      <td>Landed 20:22</td>\n",
       "      <td>3592</td>\n",
       "      <td>622.5796308496787 km</td>\n",
       "      <td>127.0</td>\n",
       "      <td>163.0</td>\n",
       "      <td>16</td>\n",
       "      <td>Monday</td>\n",
       "      <td>27</td>\n",
       "    </tr>\n",
       "    <tr>\n",
       "      <th>5691</th>\n",
       "      <td>2017-03-01 04:46:50+00:00</td>\n",
       "      <td>VT-INR</td>\n",
       "      <td>IndiGo</td>\n",
       "      <td>A320</td>\n",
       "      <td>Airbus A320-232</td>\n",
       "      <td>India</td>\n",
       "      <td>India</td>\n",
       "      <td>6E288</td>\n",
       "      <td>Bangalore Kempegowda International Airport</td>\n",
       "      <td>Visakhapatnam Airport</td>\n",
       "      <td>...</td>\n",
       "      <td>2017-02-27 08:02:35</td>\n",
       "      <td>2017-02-27 09:26:00</td>\n",
       "      <td>Landed 09:26</td>\n",
       "      <td>5038</td>\n",
       "      <td>775.211729477412 km</td>\n",
       "      <td>121.0</td>\n",
       "      <td>127.0</td>\n",
       "      <td>5</td>\n",
       "      <td>Monday</td>\n",
       "      <td>27</td>\n",
       "    </tr>\n",
       "    <tr>\n",
       "      <th>5792</th>\n",
       "      <td>2017-03-01 05:30:58+00:00</td>\n",
       "      <td>VT-INT</td>\n",
       "      <td>IndiGo</td>\n",
       "      <td>A320</td>\n",
       "      <td>Airbus A320-232</td>\n",
       "      <td>India</td>\n",
       "      <td>India</td>\n",
       "      <td>6E963</td>\n",
       "      <td>Delhi Indira Gandhi International Airport</td>\n",
       "      <td>Bangalore Kempegowda International Airport</td>\n",
       "      <td>...</td>\n",
       "      <td>2017-02-28 00:03:42</td>\n",
       "      <td>2017-02-28 02:26:00</td>\n",
       "      <td>Landed 02:26</td>\n",
       "      <td>8578</td>\n",
       "      <td>1702.6538858818212 km</td>\n",
       "      <td>236.0</td>\n",
       "      <td>258.0</td>\n",
       "      <td>19</td>\n",
       "      <td>Monday</td>\n",
       "      <td>27</td>\n",
       "    </tr>\n",
       "    <tr>\n",
       "      <th>5794</th>\n",
       "      <td>2017-03-01 05:30:58+00:00</td>\n",
       "      <td>VT-INT</td>\n",
       "      <td>IndiGo</td>\n",
       "      <td>A320</td>\n",
       "      <td>Airbus A320-232</td>\n",
       "      <td>India</td>\n",
       "      <td>India</td>\n",
       "      <td>6E963</td>\n",
       "      <td>Dehradun Jolly Grant Airport</td>\n",
       "      <td>Delhi Indira Gandhi International Airport</td>\n",
       "      <td>...</td>\n",
       "      <td>2017-02-27 22:13:25</td>\n",
       "      <td>2017-02-27 22:56:00</td>\n",
       "      <td>Landed 22:57</td>\n",
       "      <td>2636</td>\n",
       "      <td>208.0967034369633 km</td>\n",
       "      <td>226.0</td>\n",
       "      <td>248.0</td>\n",
       "      <td>18</td>\n",
       "      <td>Monday</td>\n",
       "      <td>27</td>\n",
       "    </tr>\n",
       "    <tr>\n",
       "      <th>5796</th>\n",
       "      <td>2017-03-01 05:30:58+00:00</td>\n",
       "      <td>VT-INT</td>\n",
       "      <td>IndiGo</td>\n",
       "      <td>A320</td>\n",
       "      <td>Airbus A320-232</td>\n",
       "      <td>India</td>\n",
       "      <td>India</td>\n",
       "      <td>6E246</td>\n",
       "      <td>Delhi Indira Gandhi International Airport</td>\n",
       "      <td>Dehradun Jolly Grant Airport</td>\n",
       "      <td>...</td>\n",
       "      <td>2017-02-27 21:09:10</td>\n",
       "      <td>2017-02-27 21:36:00</td>\n",
       "      <td>Landed 21:38</td>\n",
       "      <td>1769</td>\n",
       "      <td>208.0967034369633 km</td>\n",
       "      <td>246.0</td>\n",
       "      <td>274.0</td>\n",
       "      <td>16</td>\n",
       "      <td>Monday</td>\n",
       "      <td>27</td>\n",
       "    </tr>\n",
       "    <tr>\n",
       "      <th>15118</th>\n",
       "      <td>2017-03-01 06:33:33+00:00</td>\n",
       "      <td>VT-INU</td>\n",
       "      <td>IndiGo</td>\n",
       "      <td>A320</td>\n",
       "      <td>Airbus A320-232</td>\n",
       "      <td>India</td>\n",
       "      <td>India</td>\n",
       "      <td>6E402</td>\n",
       "      <td>Pune Airport</td>\n",
       "      <td>Delhi Indira Gandhi International Airport</td>\n",
       "      <td>...</td>\n",
       "      <td>2017-02-23 23:25:05</td>\n",
       "      <td>2017-02-24 01:08:00</td>\n",
       "      <td>Landed 01:09</td>\n",
       "      <td>6269</td>\n",
       "      <td>1152.3896833564875 km</td>\n",
       "      <td>148.0</td>\n",
       "      <td>175.0</td>\n",
       "      <td>20</td>\n",
       "      <td>Thursday</td>\n",
       "      <td>23</td>\n",
       "    </tr>\n",
       "    <tr>\n",
       "      <th>15119</th>\n",
       "      <td>2017-03-01 06:33:33+00:00</td>\n",
       "      <td>VT-INU</td>\n",
       "      <td>IndiGo</td>\n",
       "      <td>A320</td>\n",
       "      <td>Airbus A320-232</td>\n",
       "      <td>India</td>\n",
       "      <td>India</td>\n",
       "      <td>6E763</td>\n",
       "      <td>Delhi Indira Gandhi International Airport</td>\n",
       "      <td>Pune Airport</td>\n",
       "      <td>...</td>\n",
       "      <td>2017-02-23 20:53:51</td>\n",
       "      <td>2017-02-23 22:34:00</td>\n",
       "      <td>Landed 22:38</td>\n",
       "      <td>6271</td>\n",
       "      <td>1152.3896833564872 km</td>\n",
       "      <td>159.0</td>\n",
       "      <td>183.0</td>\n",
       "      <td>17</td>\n",
       "      <td>Thursday</td>\n",
       "      <td>23</td>\n",
       "    </tr>\n",
       "    <tr>\n",
       "      <th>16052</th>\n",
       "      <td>2017-03-01 06:39:29+00:00</td>\n",
       "      <td>VT-ITO</td>\n",
       "      <td>IndiGo</td>\n",
       "      <td>A320</td>\n",
       "      <td>Airbus A320-271N</td>\n",
       "      <td>India</td>\n",
       "      <td>India</td>\n",
       "      <td>6E543</td>\n",
       "      <td>Mumbai Chhatrapati Shivaji International Airport</td>\n",
       "      <td>Nagpur Dr. Babasaheb Ambedkar International Ai...</td>\n",
       "      <td>...</td>\n",
       "      <td>2017-02-27 10:53:36</td>\n",
       "      <td>2017-02-27 11:56:00</td>\n",
       "      <td>Landed 11:54</td>\n",
       "      <td>3624</td>\n",
       "      <td>683.1951566330916 km</td>\n",
       "      <td>126.0</td>\n",
       "      <td>143.0</td>\n",
       "      <td>8</td>\n",
       "      <td>Monday</td>\n",
       "      <td>27</td>\n",
       "    </tr>\n",
       "    <tr>\n",
       "      <th>16053</th>\n",
       "      <td>2017-03-01 06:39:29+00:00</td>\n",
       "      <td>VT-ITO</td>\n",
       "      <td>IndiGo</td>\n",
       "      <td>A320</td>\n",
       "      <td>Airbus A320-271N</td>\n",
       "      <td>India</td>\n",
       "      <td>India</td>\n",
       "      <td>6E482</td>\n",
       "      <td>Bangalore Kempegowda International Airport</td>\n",
       "      <td>Mumbai Chhatrapati Shivaji International Airport</td>\n",
       "      <td>...</td>\n",
       "      <td>2017-02-27 08:21:27</td>\n",
       "      <td>2017-02-27 09:46:00</td>\n",
       "      <td>Landed 09:47</td>\n",
       "      <td>5155</td>\n",
       "      <td>832.00012041973 km</td>\n",
       "      <td>121.0</td>\n",
       "      <td>136.0</td>\n",
       "      <td>6</td>\n",
       "      <td>Monday</td>\n",
       "      <td>27</td>\n",
       "    </tr>\n",
       "    <tr>\n",
       "      <th>70635</th>\n",
       "      <td>2017-03-02 07:00:44+00:00</td>\n",
       "      <td>VT-IDU</td>\n",
       "      <td>IndiGo</td>\n",
       "      <td>A320</td>\n",
       "      <td>Airbus A320-232</td>\n",
       "      <td>India</td>\n",
       "      <td>India</td>\n",
       "      <td>6E462</td>\n",
       "      <td>Kolkata International Airport</td>\n",
       "      <td>Mumbai Chhatrapati Shivaji International Airport</td>\n",
       "      <td>...</td>\n",
       "      <td>2017-03-02 09:40:28</td>\n",
       "      <td>2017-03-02 12:13:00</td>\n",
       "      <td>Landed 12:14</td>\n",
       "      <td>9229</td>\n",
       "      <td>1667.5153960298821 km</td>\n",
       "      <td>133.0</td>\n",
       "      <td>150.0</td>\n",
       "      <td>7</td>\n",
       "      <td>Thursday</td>\n",
       "      <td>2</td>\n",
       "    </tr>\n",
       "    <tr>\n",
       "      <th>...</th>\n",
       "      <td>...</td>\n",
       "      <td>...</td>\n",
       "      <td>...</td>\n",
       "      <td>...</td>\n",
       "      <td>...</td>\n",
       "      <td>...</td>\n",
       "      <td>...</td>\n",
       "      <td>...</td>\n",
       "      <td>...</td>\n",
       "      <td>...</td>\n",
       "      <td>...</td>\n",
       "      <td>...</td>\n",
       "      <td>...</td>\n",
       "      <td>...</td>\n",
       "      <td>...</td>\n",
       "      <td>...</td>\n",
       "      <td>...</td>\n",
       "      <td>...</td>\n",
       "      <td>...</td>\n",
       "      <td>...</td>\n",
       "      <td>...</td>\n",
       "    </tr>\n",
       "    <tr>\n",
       "      <th>323357</th>\n",
       "      <td>2017-03-15 05:26:43+00:00</td>\n",
       "      <td>VT-IGH</td>\n",
       "      <td>IndiGo</td>\n",
       "      <td>A320</td>\n",
       "      <td>Airbus A320-232</td>\n",
       "      <td>India</td>\n",
       "      <td>India</td>\n",
       "      <td>6E542</td>\n",
       "      <td>Bangalore Kempegowda International Airport</td>\n",
       "      <td>Lucknow Chaudhary Charan Singh Airport</td>\n",
       "      <td>...</td>\n",
       "      <td>2017-03-14 21:55:36</td>\n",
       "      <td>2017-03-15 00:00:00</td>\n",
       "      <td>Landed 00:00</td>\n",
       "      <td>7500</td>\n",
       "      <td>1537.6847511974754 km</td>\n",
       "      <td>160.0</td>\n",
       "      <td>180.0</td>\n",
       "      <td>18</td>\n",
       "      <td>Tuesday</td>\n",
       "      <td>14</td>\n",
       "    </tr>\n",
       "    <tr>\n",
       "      <th>344152</th>\n",
       "      <td>2017-03-16 06:44:07+00:00</td>\n",
       "      <td>VT-INT</td>\n",
       "      <td>IndiGo</td>\n",
       "      <td>A320</td>\n",
       "      <td>Airbus A320-232</td>\n",
       "      <td>India</td>\n",
       "      <td>India</td>\n",
       "      <td>6E462</td>\n",
       "      <td>Kolkata International Airport</td>\n",
       "      <td>Mumbai Chhatrapati Shivaji International Airport</td>\n",
       "      <td>...</td>\n",
       "      <td>2017-03-09 11:29:44</td>\n",
       "      <td>2017-03-09 14:14:00</td>\n",
       "      <td>Landed 14:14</td>\n",
       "      <td>9840</td>\n",
       "      <td>1667.5153960298821 km</td>\n",
       "      <td>254.0</td>\n",
       "      <td>259.0</td>\n",
       "      <td>7</td>\n",
       "      <td>Thursday</td>\n",
       "      <td>9</td>\n",
       "    </tr>\n",
       "    <tr>\n",
       "      <th>344346</th>\n",
       "      <td>2017-03-16 06:44:07+00:00</td>\n",
       "      <td>VT-INY</td>\n",
       "      <td>IndiGo</td>\n",
       "      <td>A320</td>\n",
       "      <td>Airbus A320-232</td>\n",
       "      <td>India</td>\n",
       "      <td>India</td>\n",
       "      <td>6E478</td>\n",
       "      <td>Chandigarh Airport</td>\n",
       "      <td>Bangalore Kempegowda International Airport</td>\n",
       "      <td>...</td>\n",
       "      <td>2017-03-10 23:37:45</td>\n",
       "      <td>2017-03-11 02:15:00</td>\n",
       "      <td>Landed 02:15</td>\n",
       "      <td>9420</td>\n",
       "      <td>1937.3486237944683 km</td>\n",
       "      <td>400.0</td>\n",
       "      <td>422.0</td>\n",
       "      <td>16</td>\n",
       "      <td>Friday</td>\n",
       "      <td>10</td>\n",
       "    </tr>\n",
       "    <tr>\n",
       "      <th>357153</th>\n",
       "      <td>2017-03-20 07:16:16+00:00</td>\n",
       "      <td>VT-IAL</td>\n",
       "      <td>IndiGo</td>\n",
       "      <td>A320</td>\n",
       "      <td>Airbus A320-232</td>\n",
       "      <td>India</td>\n",
       "      <td>India</td>\n",
       "      <td>6E858</td>\n",
       "      <td>Port Blair Veer Savarkar International Airport</td>\n",
       "      <td>Chennai International Airport</td>\n",
       "      <td>...</td>\n",
       "      <td>2017-03-15 15:26:00</td>\n",
       "      <td>2017-03-15 17:27:00</td>\n",
       "      <td>Landed 17:27</td>\n",
       "      <td>7260</td>\n",
       "      <td>1373.0467068088433 km</td>\n",
       "      <td>202.0</td>\n",
       "      <td>221.0</td>\n",
       "      <td>11</td>\n",
       "      <td>Wednesday</td>\n",
       "      <td>15</td>\n",
       "    </tr>\n",
       "    <tr>\n",
       "      <th>358436</th>\n",
       "      <td>2017-03-20 07:16:16+00:00</td>\n",
       "      <td>VT-IDR</td>\n",
       "      <td>IndiGo</td>\n",
       "      <td>A320</td>\n",
       "      <td>Airbus A320-232</td>\n",
       "      <td>India</td>\n",
       "      <td>India</td>\n",
       "      <td>6E495</td>\n",
       "      <td>Chennai International Airport</td>\n",
       "      <td>Mumbai Chhatrapati Shivaji International Airport</td>\n",
       "      <td>...</td>\n",
       "      <td>2017-03-17 10:37:03</td>\n",
       "      <td>2017-03-17 12:15:03</td>\n",
       "      <td>Landed 12:15</td>\n",
       "      <td>5880</td>\n",
       "      <td>1032.660503754848 km</td>\n",
       "      <td>200.0</td>\n",
       "      <td>217.0</td>\n",
       "      <td>7</td>\n",
       "      <td>Friday</td>\n",
       "      <td>17</td>\n",
       "    </tr>\n",
       "    <tr>\n",
       "      <th>358978</th>\n",
       "      <td>2017-03-20 07:16:16+00:00</td>\n",
       "      <td>VT-IEC</td>\n",
       "      <td>IndiGo</td>\n",
       "      <td>A320</td>\n",
       "      <td>Airbus A320-232</td>\n",
       "      <td>India</td>\n",
       "      <td>India</td>\n",
       "      <td>6E103</td>\n",
       "      <td>Pune Airport</td>\n",
       "      <td>Bangalore Kempegowda International Airport</td>\n",
       "      <td>...</td>\n",
       "      <td>2017-03-19 00:50:59</td>\n",
       "      <td>2017-03-19 01:54:52</td>\n",
       "      <td>Landed 01:54</td>\n",
       "      <td>3840</td>\n",
       "      <td>720.473005286707 km</td>\n",
       "      <td>134.0</td>\n",
       "      <td>155.0</td>\n",
       "      <td>22</td>\n",
       "      <td>Saturday</td>\n",
       "      <td>18</td>\n",
       "    </tr>\n",
       "    <tr>\n",
       "      <th>358979</th>\n",
       "      <td>2017-03-20 07:16:16+00:00</td>\n",
       "      <td>VT-IEC</td>\n",
       "      <td>IndiGo</td>\n",
       "      <td>A320</td>\n",
       "      <td>Airbus A320-232</td>\n",
       "      <td>India</td>\n",
       "      <td>India</td>\n",
       "      <td>6E718</td>\n",
       "      <td>Bangalore Kempegowda International Airport</td>\n",
       "      <td>Pune Airport</td>\n",
       "      <td>...</td>\n",
       "      <td>2017-03-18 22:46:31</td>\n",
       "      <td>2017-03-18 23:55:08</td>\n",
       "      <td>Landed 23:55</td>\n",
       "      <td>4140</td>\n",
       "      <td>720.4730052867071 km</td>\n",
       "      <td>130.0</td>\n",
       "      <td>141.0</td>\n",
       "      <td>20</td>\n",
       "      <td>Saturday</td>\n",
       "      <td>18</td>\n",
       "    </tr>\n",
       "    <tr>\n",
       "      <th>358980</th>\n",
       "      <td>2017-03-20 07:16:16+00:00</td>\n",
       "      <td>VT-IEC</td>\n",
       "      <td>IndiGo</td>\n",
       "      <td>A320</td>\n",
       "      <td>Airbus A320-232</td>\n",
       "      <td>India</td>\n",
       "      <td>India</td>\n",
       "      <td>6E481</td>\n",
       "      <td>Delhi Indira Gandhi International Airport</td>\n",
       "      <td>Bangalore Kempegowda International Airport</td>\n",
       "      <td>...</td>\n",
       "      <td>2017-03-18 19:32:31</td>\n",
       "      <td>2017-03-18 21:52:03</td>\n",
       "      <td>Landed 21:52</td>\n",
       "      <td>8400</td>\n",
       "      <td>1702.6538858818212 km</td>\n",
       "      <td>127.0</td>\n",
       "      <td>147.0</td>\n",
       "      <td>17</td>\n",
       "      <td>Saturday</td>\n",
       "      <td>18</td>\n",
       "    </tr>\n",
       "    <tr>\n",
       "      <th>361376</th>\n",
       "      <td>2017-03-20 07:16:16+00:00</td>\n",
       "      <td>VT-IGI</td>\n",
       "      <td>IndiGo</td>\n",
       "      <td>A320</td>\n",
       "      <td>Airbus A320-232</td>\n",
       "      <td>India</td>\n",
       "      <td>India</td>\n",
       "      <td>6E724</td>\n",
       "      <td>Goa International Airport</td>\n",
       "      <td>Delhi Indira Gandhi International Airport</td>\n",
       "      <td>...</td>\n",
       "      <td>2017-03-18 21:41:38</td>\n",
       "      <td>2017-03-19 00:00:20</td>\n",
       "      <td>Landed 00:00</td>\n",
       "      <td>8340</td>\n",
       "      <td>1498.4324378205667 km</td>\n",
       "      <td>210.0</td>\n",
       "      <td>231.0</td>\n",
       "      <td>17</td>\n",
       "      <td>Saturday</td>\n",
       "      <td>18</td>\n",
       "    </tr>\n",
       "    <tr>\n",
       "      <th>363312</th>\n",
       "      <td>2017-03-20 07:16:16+00:00</td>\n",
       "      <td>VT-ITO</td>\n",
       "      <td>IndiGo</td>\n",
       "      <td>A320</td>\n",
       "      <td>Airbus A320-271N</td>\n",
       "      <td>India</td>\n",
       "      <td>India</td>\n",
       "      <td>6E787</td>\n",
       "      <td>Ranchi Birsa Munda Airport</td>\n",
       "      <td>Mumbai Chhatrapati Shivaji International Airport</td>\n",
       "      <td>...</td>\n",
       "      <td>2017-03-19 19:29:04</td>\n",
       "      <td>2017-03-19 21:42:22</td>\n",
       "      <td>Landed 21:42</td>\n",
       "      <td>7980</td>\n",
       "      <td>1374.3991824376656 km</td>\n",
       "      <td>152.0</td>\n",
       "      <td>164.0</td>\n",
       "      <td>16</td>\n",
       "      <td>Sunday</td>\n",
       "      <td>19</td>\n",
       "    </tr>\n",
       "    <tr>\n",
       "      <th>363314</th>\n",
       "      <td>2017-03-20 07:16:16+00:00</td>\n",
       "      <td>VT-ITO</td>\n",
       "      <td>IndiGo</td>\n",
       "      <td>A320</td>\n",
       "      <td>Airbus A320-271N</td>\n",
       "      <td>India</td>\n",
       "      <td>India</td>\n",
       "      <td>6E787</td>\n",
       "      <td>Patna Jay Prakash Narayan International Airport</td>\n",
       "      <td>Ranchi Birsa Munda Airport</td>\n",
       "      <td>...</td>\n",
       "      <td>2017-03-19 18:14:27</td>\n",
       "      <td>2017-03-19 18:48:13</td>\n",
       "      <td>Landed 18:48</td>\n",
       "      <td>2040</td>\n",
       "      <td>253.32853707830043 km</td>\n",
       "      <td>153.0</td>\n",
       "      <td>159.0</td>\n",
       "      <td>15</td>\n",
       "      <td>Sunday</td>\n",
       "      <td>19</td>\n",
       "    </tr>\n",
       "    <tr>\n",
       "      <th>376792</th>\n",
       "      <td>2017-03-23 05:51:37+00:00</td>\n",
       "      <td>VT-IDM</td>\n",
       "      <td>IndiGo</td>\n",
       "      <td>A320</td>\n",
       "      <td>Airbus A320-232</td>\n",
       "      <td>India</td>\n",
       "      <td>India</td>\n",
       "      <td>6E542</td>\n",
       "      <td>Bangalore Kempegowda International Airport</td>\n",
       "      <td>Lucknow Chaudhary Charan Singh Airport</td>\n",
       "      <td>...</td>\n",
       "      <td>2017-03-20 21:45:47</td>\n",
       "      <td>2017-03-20 23:55:00</td>\n",
       "      <td>Landed 23:55</td>\n",
       "      <td>7740</td>\n",
       "      <td>1537.6847511974754 km</td>\n",
       "      <td>155.0</td>\n",
       "      <td>170.0</td>\n",
       "      <td>18</td>\n",
       "      <td>Monday</td>\n",
       "      <td>20</td>\n",
       "    </tr>\n",
       "    <tr>\n",
       "      <th>376793</th>\n",
       "      <td>2017-03-23 05:51:37+00:00</td>\n",
       "      <td>VT-IDM</td>\n",
       "      <td>IndiGo</td>\n",
       "      <td>A320</td>\n",
       "      <td>Airbus A320-232</td>\n",
       "      <td>India</td>\n",
       "      <td>India</td>\n",
       "      <td>6E542</td>\n",
       "      <td>Chennai International Airport</td>\n",
       "      <td>Bangalore Kempegowda International Airport</td>\n",
       "      <td>...</td>\n",
       "      <td>2017-03-20 19:54:03</td>\n",
       "      <td>2017-03-20 20:34:00</td>\n",
       "      <td>Landed 20:34</td>\n",
       "      <td>2400</td>\n",
       "      <td>269.3407262208813 km</td>\n",
       "      <td>134.0</td>\n",
       "      <td>149.0</td>\n",
       "      <td>17</td>\n",
       "      <td>Monday</td>\n",
       "      <td>20</td>\n",
       "    </tr>\n",
       "    <tr>\n",
       "      <th>380673</th>\n",
       "      <td>2017-03-23 05:51:37+00:00</td>\n",
       "      <td>VT-IGX</td>\n",
       "      <td>IndiGo</td>\n",
       "      <td>A320</td>\n",
       "      <td>Airbus A320-232</td>\n",
       "      <td>India</td>\n",
       "      <td>India</td>\n",
       "      <td>6E375</td>\n",
       "      <td>Kolkata International Airport</td>\n",
       "      <td>Bhubaneswar Biju Patnaik International Airport</td>\n",
       "      <td>...</td>\n",
       "      <td>2017-03-23 09:55:59</td>\n",
       "      <td>2017-03-23 10:39:29</td>\n",
       "      <td>Landed 10:39</td>\n",
       "      <td>2640</td>\n",
       "      <td>381.4025418182413 km</td>\n",
       "      <td>139.0</td>\n",
       "      <td>160.0</td>\n",
       "      <td>7</td>\n",
       "      <td>Thursday</td>\n",
       "      <td>23</td>\n",
       "    </tr>\n",
       "    <tr>\n",
       "      <th>380674</th>\n",
       "      <td>2017-03-23 05:51:37+00:00</td>\n",
       "      <td>VT-IGX</td>\n",
       "      <td>IndiGo</td>\n",
       "      <td>A320</td>\n",
       "      <td>Airbus A320-232</td>\n",
       "      <td>India</td>\n",
       "      <td>India</td>\n",
       "      <td>6E312</td>\n",
       "      <td>Bhubaneswar Biju Patnaik International Airport</td>\n",
       "      <td>Kolkata International Airport</td>\n",
       "      <td>...</td>\n",
       "      <td>2017-03-23 08:03:45</td>\n",
       "      <td>2017-03-23 09:02:10</td>\n",
       "      <td>Landed 09:02</td>\n",
       "      <td>3480</td>\n",
       "      <td>381.40254181824116 km</td>\n",
       "      <td>142.0</td>\n",
       "      <td>143.0</td>\n",
       "      <td>5</td>\n",
       "      <td>Thursday</td>\n",
       "      <td>23</td>\n",
       "    </tr>\n",
       "    <tr>\n",
       "      <th>382273</th>\n",
       "      <td>2017-03-23 05:51:37+00:00</td>\n",
       "      <td>VT-ITO</td>\n",
       "      <td>IndiGo</td>\n",
       "      <td>A320</td>\n",
       "      <td>Airbus A320-271N</td>\n",
       "      <td>India</td>\n",
       "      <td>India</td>\n",
       "      <td>6E787</td>\n",
       "      <td>Ranchi Birsa Munda Airport</td>\n",
       "      <td>Mumbai Chhatrapati Shivaji International Airport</td>\n",
       "      <td>...</td>\n",
       "      <td>2017-03-19 19:29:04</td>\n",
       "      <td>2017-03-19 21:40:00</td>\n",
       "      <td>Landed 21:40</td>\n",
       "      <td>7860</td>\n",
       "      <td>1374.3991824376656 km</td>\n",
       "      <td>150.0</td>\n",
       "      <td>164.0</td>\n",
       "      <td>16</td>\n",
       "      <td>Sunday</td>\n",
       "      <td>19</td>\n",
       "    </tr>\n",
       "    <tr>\n",
       "      <th>382275</th>\n",
       "      <td>2017-03-23 05:51:37+00:00</td>\n",
       "      <td>VT-ITO</td>\n",
       "      <td>IndiGo</td>\n",
       "      <td>A320</td>\n",
       "      <td>Airbus A320-271N</td>\n",
       "      <td>India</td>\n",
       "      <td>India</td>\n",
       "      <td>6E787</td>\n",
       "      <td>Patna Jay Prakash Narayan International Airport</td>\n",
       "      <td>Ranchi Birsa Munda Airport</td>\n",
       "      <td>...</td>\n",
       "      <td>2017-03-19 18:14:27</td>\n",
       "      <td>2017-03-19 18:49:00</td>\n",
       "      <td>Landed 18:49</td>\n",
       "      <td>2100</td>\n",
       "      <td>253.32853707830043 km</td>\n",
       "      <td>154.0</td>\n",
       "      <td>159.0</td>\n",
       "      <td>15</td>\n",
       "      <td>Sunday</td>\n",
       "      <td>19</td>\n",
       "    </tr>\n",
       "    <tr>\n",
       "      <th>395774</th>\n",
       "      <td>2017-03-29 04:54:55+00:00</td>\n",
       "      <td>VT-IAO</td>\n",
       "      <td>IndiGo</td>\n",
       "      <td>A320</td>\n",
       "      <td>Airbus A320-232</td>\n",
       "      <td>India</td>\n",
       "      <td>India</td>\n",
       "      <td>6E684</td>\n",
       "      <td>Hyderabad Rajiv Gandhi International Airport</td>\n",
       "      <td>Delhi Indira Gandhi International Airport</td>\n",
       "      <td>...</td>\n",
       "      <td>2017-03-24 21:36:25</td>\n",
       "      <td>2017-03-24 23:46:00</td>\n",
       "      <td>Landed 23:46</td>\n",
       "      <td>7800</td>\n",
       "      <td>1260.1544894312096 km</td>\n",
       "      <td>181.0</td>\n",
       "      <td>186.0</td>\n",
       "      <td>18</td>\n",
       "      <td>Friday</td>\n",
       "      <td>24</td>\n",
       "    </tr>\n",
       "    <tr>\n",
       "      <th>396821</th>\n",
       "      <td>2017-03-29 04:54:55+00:00</td>\n",
       "      <td>VT-IDM</td>\n",
       "      <td>IndiGo</td>\n",
       "      <td>A320</td>\n",
       "      <td>Airbus A320-232</td>\n",
       "      <td>India</td>\n",
       "      <td>India</td>\n",
       "      <td>6E5405</td>\n",
       "      <td>Bhubaneswar Biju Patnaik International Airport</td>\n",
       "      <td>Delhi Indira Gandhi International Airport</td>\n",
       "      <td>...</td>\n",
       "      <td>2017-03-23 23:34:07</td>\n",
       "      <td>2017-03-24 01:22:00</td>\n",
       "      <td>Landed 01:22</td>\n",
       "      <td>6480</td>\n",
       "      <td>1276.1613617046855 km</td>\n",
       "      <td>122.0</td>\n",
       "      <td>149.0</td>\n",
       "      <td>21</td>\n",
       "      <td>Thursday</td>\n",
       "      <td>23</td>\n",
       "    </tr>\n",
       "    <tr>\n",
       "      <th>397872</th>\n",
       "      <td>2017-03-29 04:54:55+00:00</td>\n",
       "      <td>VT-IEF</td>\n",
       "      <td>IndiGo</td>\n",
       "      <td>A320</td>\n",
       "      <td>Airbus A320-232</td>\n",
       "      <td>India</td>\n",
       "      <td>India</td>\n",
       "      <td>6E3173</td>\n",
       "      <td>Chennai International Airport</td>\n",
       "      <td>Hyderabad Rajiv Gandhi International Airport</td>\n",
       "      <td>...</td>\n",
       "      <td>2017-03-25 20:03:32</td>\n",
       "      <td>2017-03-25 20:55:00</td>\n",
       "      <td>Landed 20:55</td>\n",
       "      <td>3060</td>\n",
       "      <td>507.4355584602117 km</td>\n",
       "      <td>145.0</td>\n",
       "      <td>168.0</td>\n",
       "      <td>17</td>\n",
       "      <td>Saturday</td>\n",
       "      <td>25</td>\n",
       "    </tr>\n",
       "    <tr>\n",
       "      <th>398068</th>\n",
       "      <td>2017-03-29 04:54:55+00:00</td>\n",
       "      <td>VT-IEJ</td>\n",
       "      <td>IndiGo</td>\n",
       "      <td>A320</td>\n",
       "      <td>Airbus A320-232</td>\n",
       "      <td>India</td>\n",
       "      <td>India</td>\n",
       "      <td>6E842</td>\n",
       "      <td>Chandigarh Airport</td>\n",
       "      <td>Delhi Indira Gandhi International Airport</td>\n",
       "      <td>...</td>\n",
       "      <td>2017-03-25 14:31:32</td>\n",
       "      <td>2017-03-25 15:14:00</td>\n",
       "      <td>Landed 15:14</td>\n",
       "      <td>2520</td>\n",
       "      <td>235.5263291167312 km</td>\n",
       "      <td>139.0</td>\n",
       "      <td>151.0</td>\n",
       "      <td>12</td>\n",
       "      <td>Saturday</td>\n",
       "      <td>25</td>\n",
       "    </tr>\n",
       "    <tr>\n",
       "      <th>399189</th>\n",
       "      <td>2017-03-29 04:54:55+00:00</td>\n",
       "      <td>VT-IFF</td>\n",
       "      <td>IndiGo</td>\n",
       "      <td>A320</td>\n",
       "      <td>Airbus A320-232</td>\n",
       "      <td>India</td>\n",
       "      <td>India</td>\n",
       "      <td>6E3174</td>\n",
       "      <td>Hyderabad Rajiv Gandhi International Airport</td>\n",
       "      <td>Chennai International Airport</td>\n",
       "      <td>...</td>\n",
       "      <td>2017-03-25 21:51:02</td>\n",
       "      <td>2017-03-25 22:47:00</td>\n",
       "      <td>Landed 22:47</td>\n",
       "      <td>3360</td>\n",
       "      <td>507.4355584602119 km</td>\n",
       "      <td>152.0</td>\n",
       "      <td>171.0</td>\n",
       "      <td>19</td>\n",
       "      <td>Saturday</td>\n",
       "      <td>25</td>\n",
       "    </tr>\n",
       "    <tr>\n",
       "      <th>399351</th>\n",
       "      <td>2017-03-29 04:54:55+00:00</td>\n",
       "      <td>VT-IFI</td>\n",
       "      <td>IndiGo</td>\n",
       "      <td>A320</td>\n",
       "      <td>Airbus A320-232</td>\n",
       "      <td>India</td>\n",
       "      <td>India</td>\n",
       "      <td>6E657</td>\n",
       "      <td>Indore Devi Ahilyabai Holkar Airport</td>\n",
       "      <td>Delhi Indira Gandhi International Airport</td>\n",
       "      <td>...</td>\n",
       "      <td>2017-03-24 01:11:18</td>\n",
       "      <td>2017-03-24 02:13:00</td>\n",
       "      <td>Landed 02:13</td>\n",
       "      <td>3720</td>\n",
       "      <td>660.5455919180987 km</td>\n",
       "      <td>198.0</td>\n",
       "      <td>231.0</td>\n",
       "      <td>21</td>\n",
       "      <td>Thursday</td>\n",
       "      <td>23</td>\n",
       "    </tr>\n",
       "    <tr>\n",
       "      <th>399353</th>\n",
       "      <td>2017-03-29 04:54:55+00:00</td>\n",
       "      <td>VT-IFI</td>\n",
       "      <td>IndiGo</td>\n",
       "      <td>A320</td>\n",
       "      <td>Airbus A320-232</td>\n",
       "      <td>India</td>\n",
       "      <td>India</td>\n",
       "      <td>6E5285</td>\n",
       "      <td>Mumbai Chhatrapati Shivaji International Airport</td>\n",
       "      <td>Indore Devi Ahilyabai Holkar Airport</td>\n",
       "      <td>...</td>\n",
       "      <td>2017-03-23 23:36:41</td>\n",
       "      <td>2017-03-24 00:29:00</td>\n",
       "      <td>Landed 00:29</td>\n",
       "      <td>3120</td>\n",
       "      <td>504.84767891268876 km</td>\n",
       "      <td>219.0</td>\n",
       "      <td>241.0</td>\n",
       "      <td>19</td>\n",
       "      <td>Thursday</td>\n",
       "      <td>23</td>\n",
       "    </tr>\n",
       "    <tr>\n",
       "      <th>399492</th>\n",
       "      <td>2017-03-29 04:54:55+00:00</td>\n",
       "      <td>VT-IFL</td>\n",
       "      <td>IndiGo</td>\n",
       "      <td>A320</td>\n",
       "      <td>Airbus A320-232</td>\n",
       "      <td>India</td>\n",
       "      <td>India</td>\n",
       "      <td>6E252</td>\n",
       "      <td>Raipur Swami Vivekananda Airport</td>\n",
       "      <td>Kolkata International Airport</td>\n",
       "      <td>...</td>\n",
       "      <td>2017-03-28 21:48:57</td>\n",
       "      <td>2017-03-28 22:51:00</td>\n",
       "      <td>Landed 22:51</td>\n",
       "      <td>3720</td>\n",
       "      <td>711.9645457564316 km</td>\n",
       "      <td>131.0</td>\n",
       "      <td>153.0</td>\n",
       "      <td>19</td>\n",
       "      <td>Tuesday</td>\n",
       "      <td>28</td>\n",
       "    </tr>\n",
       "    <tr>\n",
       "      <th>399493</th>\n",
       "      <td>2017-03-29 04:54:55+00:00</td>\n",
       "      <td>VT-IFL</td>\n",
       "      <td>IndiGo</td>\n",
       "      <td>A320</td>\n",
       "      <td>Airbus A320-232</td>\n",
       "      <td>India</td>\n",
       "      <td>India</td>\n",
       "      <td>6E252</td>\n",
       "      <td>Indore Devi Ahilyabai Holkar Airport</td>\n",
       "      <td>Raipur Swami Vivekananda Airport</td>\n",
       "      <td>...</td>\n",
       "      <td>2017-03-28 20:18:50</td>\n",
       "      <td>2017-03-28 21:16:00</td>\n",
       "      <td>Landed 21:16</td>\n",
       "      <td>3420</td>\n",
       "      <td>636.5873645196151 km</td>\n",
       "      <td>151.0</td>\n",
       "      <td>173.0</td>\n",
       "      <td>17</td>\n",
       "      <td>Tuesday</td>\n",
       "      <td>28</td>\n",
       "    </tr>\n",
       "    <tr>\n",
       "      <th>399494</th>\n",
       "      <td>2017-03-29 04:54:55+00:00</td>\n",
       "      <td>VT-IFL</td>\n",
       "      <td>IndiGo</td>\n",
       "      <td>A320</td>\n",
       "      <td>Airbus A320-232</td>\n",
       "      <td>India</td>\n",
       "      <td>India</td>\n",
       "      <td>6E252</td>\n",
       "      <td>Goa International Airport</td>\n",
       "      <td>Indore Devi Ahilyabai Holkar Airport</td>\n",
       "      <td>...</td>\n",
       "      <td>2017-03-28 18:01:30</td>\n",
       "      <td>2017-03-28 19:20:00</td>\n",
       "      <td>Landed 19:20</td>\n",
       "      <td>4740</td>\n",
       "      <td>838.5821005179611 km</td>\n",
       "      <td>155.0</td>\n",
       "      <td>181.0</td>\n",
       "      <td>15</td>\n",
       "      <td>Tuesday</td>\n",
       "      <td>28</td>\n",
       "    </tr>\n",
       "    <tr>\n",
       "      <th>400823</th>\n",
       "      <td>2017-03-29 04:54:55+00:00</td>\n",
       "      <td>VT-IGX</td>\n",
       "      <td>IndiGo</td>\n",
       "      <td>A320</td>\n",
       "      <td>Airbus A320-232</td>\n",
       "      <td>India</td>\n",
       "      <td>India</td>\n",
       "      <td>6E375</td>\n",
       "      <td>Bhubaneswar Biju Patnaik International Airport</td>\n",
       "      <td>Mumbai Chhatrapati Shivaji International Airport</td>\n",
       "      <td>...</td>\n",
       "      <td>2017-03-23 11:22:29</td>\n",
       "      <td>2017-03-23 13:30:00</td>\n",
       "      <td>Landed 13:30</td>\n",
       "      <td>7680</td>\n",
       "      <td>1363.6507121828347 km</td>\n",
       "      <td>130.0</td>\n",
       "      <td>152.0</td>\n",
       "      <td>8</td>\n",
       "      <td>Thursday</td>\n",
       "      <td>23</td>\n",
       "    </tr>\n",
       "    <tr>\n",
       "      <th>400824</th>\n",
       "      <td>2017-03-29 04:54:55+00:00</td>\n",
       "      <td>VT-IGX</td>\n",
       "      <td>IndiGo</td>\n",
       "      <td>A320</td>\n",
       "      <td>Airbus A320-232</td>\n",
       "      <td>India</td>\n",
       "      <td>India</td>\n",
       "      <td>6E375</td>\n",
       "      <td>Kolkata International Airport</td>\n",
       "      <td>Bhubaneswar Biju Patnaik International Airport</td>\n",
       "      <td>...</td>\n",
       "      <td>2017-03-23 09:55:59</td>\n",
       "      <td>2017-03-23 10:40:00</td>\n",
       "      <td>Landed 10:40</td>\n",
       "      <td>2640</td>\n",
       "      <td>381.4025418182413 km</td>\n",
       "      <td>140.0</td>\n",
       "      <td>160.0</td>\n",
       "      <td>7</td>\n",
       "      <td>Thursday</td>\n",
       "      <td>23</td>\n",
       "    </tr>\n",
       "    <tr>\n",
       "      <th>418365</th>\n",
       "      <td>2017-04-03 04:56:13+00:00</td>\n",
       "      <td>VT-IFA</td>\n",
       "      <td>IndiGo</td>\n",
       "      <td>A320</td>\n",
       "      <td>Airbus A320-232</td>\n",
       "      <td>India</td>\n",
       "      <td>India</td>\n",
       "      <td>6E302</td>\n",
       "      <td>Hyderabad Rajiv Gandhi International Airport</td>\n",
       "      <td>Delhi Indira Gandhi International Airport</td>\n",
       "      <td>...</td>\n",
       "      <td>2017-04-02 20:13:49</td>\n",
       "      <td>2017-04-02 22:07:00</td>\n",
       "      <td>Landed 22:07</td>\n",
       "      <td>6780</td>\n",
       "      <td>1260.1544894312096 km</td>\n",
       "      <td>127.0</td>\n",
       "      <td>153.0</td>\n",
       "      <td>17</td>\n",
       "      <td>Sunday</td>\n",
       "      <td>2</td>\n",
       "    </tr>\n",
       "  </tbody>\n",
       "</table>\n",
       "<p>128 rows × 24 columns</p>\n",
       "</div>"
      ],
      "text/plain": [
       "                       timestamp     reg airline_name model        model_text  \\\n",
       "595    2017-03-01 04:28:52+00:00  VT-IDB       IndiGo  A320   Airbus A320-232   \n",
       "1186   2017-03-01 04:31:05+00:00  VT-IDN       IndiGo  A320   Airbus A320-232   \n",
       "1843   2017-03-01 04:33:09+00:00  VT-IDY       IndiGo  A320   Airbus A320-214   \n",
       "1913   2017-03-01 04:33:32+00:00  VT-IEA       IndiGo  A320   Airbus A320-232   \n",
       "2243   2017-03-01 04:34:51+00:00  VT-IEH       IndiGo  A320   Airbus A320-232   \n",
       "2244   2017-03-01 04:34:51+00:00  VT-IEH       IndiGo  A320   Airbus A320-232   \n",
       "2245   2017-03-01 04:34:51+00:00  VT-IEH       IndiGo  A320   Airbus A320-232   \n",
       "2246   2017-03-01 04:34:51+00:00  VT-IEH       IndiGo  A320   Airbus A320-232   \n",
       "2446   2017-03-01 04:35:37+00:00  VT-IEL       IndiGo  A320   Airbus A320-232   \n",
       "3085   2017-03-01 04:37:54+00:00  VT-IEX       IndiGo  A320   Airbus A320-232   \n",
       "3086   2017-03-01 04:37:54+00:00  VT-IEX       IndiGo  A320   Airbus A320-232   \n",
       "4015   2017-03-01 04:40:59+00:00  VT-IFN       IndiGo  A320   Airbus A320-232   \n",
       "4631   2017-03-01 04:43:07+00:00  VT-IFY       IndiGo  A320   Airbus A320-232   \n",
       "4714   2017-03-01 04:43:30+00:00  VT-IGH       IndiGo  A320   Airbus A320-232   \n",
       "4715   2017-03-01 04:43:30+00:00  VT-IGH       IndiGo  A320   Airbus A320-232   \n",
       "5060   2017-03-01 04:44:41+00:00  VT-IGT       IndiGo  A320   Airbus A320-232   \n",
       "5084   2017-03-01 04:44:41+00:00  VT-IGT       IndiGo  A320   Airbus A320-232   \n",
       "5085   2017-03-01 04:44:41+00:00  VT-IGT       IndiGo  A320   Airbus A320-232   \n",
       "5170   2017-03-01 04:45:04+00:00  VT-IGV       IndiGo  A320   Airbus A320-232   \n",
       "5171   2017-03-01 04:45:04+00:00  VT-IGV       IndiGo  A320   Airbus A320-232   \n",
       "5456   2017-03-01 04:46:02+00:00  VT-IHA       IndiGo  A320   Airbus A320-232   \n",
       "5691   2017-03-01 04:46:50+00:00  VT-INR       IndiGo  A320   Airbus A320-232   \n",
       "5792   2017-03-01 05:30:58+00:00  VT-INT       IndiGo  A320   Airbus A320-232   \n",
       "5794   2017-03-01 05:30:58+00:00  VT-INT       IndiGo  A320   Airbus A320-232   \n",
       "5796   2017-03-01 05:30:58+00:00  VT-INT       IndiGo  A320   Airbus A320-232   \n",
       "15118  2017-03-01 06:33:33+00:00  VT-INU       IndiGo  A320   Airbus A320-232   \n",
       "15119  2017-03-01 06:33:33+00:00  VT-INU       IndiGo  A320   Airbus A320-232   \n",
       "16052  2017-03-01 06:39:29+00:00  VT-ITO       IndiGo  A320  Airbus A320-271N   \n",
       "16053  2017-03-01 06:39:29+00:00  VT-ITO       IndiGo  A320  Airbus A320-271N   \n",
       "70635  2017-03-02 07:00:44+00:00  VT-IDU       IndiGo  A320   Airbus A320-232   \n",
       "...                          ...     ...          ...   ...               ...   \n",
       "323357 2017-03-15 05:26:43+00:00  VT-IGH       IndiGo  A320   Airbus A320-232   \n",
       "344152 2017-03-16 06:44:07+00:00  VT-INT       IndiGo  A320   Airbus A320-232   \n",
       "344346 2017-03-16 06:44:07+00:00  VT-INY       IndiGo  A320   Airbus A320-232   \n",
       "357153 2017-03-20 07:16:16+00:00  VT-IAL       IndiGo  A320   Airbus A320-232   \n",
       "358436 2017-03-20 07:16:16+00:00  VT-IDR       IndiGo  A320   Airbus A320-232   \n",
       "358978 2017-03-20 07:16:16+00:00  VT-IEC       IndiGo  A320   Airbus A320-232   \n",
       "358979 2017-03-20 07:16:16+00:00  VT-IEC       IndiGo  A320   Airbus A320-232   \n",
       "358980 2017-03-20 07:16:16+00:00  VT-IEC       IndiGo  A320   Airbus A320-232   \n",
       "361376 2017-03-20 07:16:16+00:00  VT-IGI       IndiGo  A320   Airbus A320-232   \n",
       "363312 2017-03-20 07:16:16+00:00  VT-ITO       IndiGo  A320  Airbus A320-271N   \n",
       "363314 2017-03-20 07:16:16+00:00  VT-ITO       IndiGo  A320  Airbus A320-271N   \n",
       "376792 2017-03-23 05:51:37+00:00  VT-IDM       IndiGo  A320   Airbus A320-232   \n",
       "376793 2017-03-23 05:51:37+00:00  VT-IDM       IndiGo  A320   Airbus A320-232   \n",
       "380673 2017-03-23 05:51:37+00:00  VT-IGX       IndiGo  A320   Airbus A320-232   \n",
       "380674 2017-03-23 05:51:37+00:00  VT-IGX       IndiGo  A320   Airbus A320-232   \n",
       "382273 2017-03-23 05:51:37+00:00  VT-ITO       IndiGo  A320  Airbus A320-271N   \n",
       "382275 2017-03-23 05:51:37+00:00  VT-ITO       IndiGo  A320  Airbus A320-271N   \n",
       "395774 2017-03-29 04:54:55+00:00  VT-IAO       IndiGo  A320   Airbus A320-232   \n",
       "396821 2017-03-29 04:54:55+00:00  VT-IDM       IndiGo  A320   Airbus A320-232   \n",
       "397872 2017-03-29 04:54:55+00:00  VT-IEF       IndiGo  A320   Airbus A320-232   \n",
       "398068 2017-03-29 04:54:55+00:00  VT-IEJ       IndiGo  A320   Airbus A320-232   \n",
       "399189 2017-03-29 04:54:55+00:00  VT-IFF       IndiGo  A320   Airbus A320-232   \n",
       "399351 2017-03-29 04:54:55+00:00  VT-IFI       IndiGo  A320   Airbus A320-232   \n",
       "399353 2017-03-29 04:54:55+00:00  VT-IFI       IndiGo  A320   Airbus A320-232   \n",
       "399492 2017-03-29 04:54:55+00:00  VT-IFL       IndiGo  A320   Airbus A320-232   \n",
       "399493 2017-03-29 04:54:55+00:00  VT-IFL       IndiGo  A320   Airbus A320-232   \n",
       "399494 2017-03-29 04:54:55+00:00  VT-IFL       IndiGo  A320   Airbus A320-232   \n",
       "400823 2017-03-29 04:54:55+00:00  VT-IGX       IndiGo  A320   Airbus A320-232   \n",
       "400824 2017-03-29 04:54:55+00:00  VT-IGX       IndiGo  A320   Airbus A320-232   \n",
       "418365 2017-04-03 04:56:13+00:00  VT-IFA       IndiGo  A320   Airbus A320-232   \n",
       "\n",
       "       country_origin country_dest flight_number  \\\n",
       "595             India        India        6E6698   \n",
       "1186            India        India         6E314   \n",
       "1843            India        India         6E865   \n",
       "1913            India        India         6E819   \n",
       "2243            India        India        6E3646   \n",
       "2244            India        India         6E797   \n",
       "2245            India        India         6E797   \n",
       "2246            India        India         6E233   \n",
       "2446            India        India        6E4651   \n",
       "3085            India        India         6E711   \n",
       "3086            India        India         6E713   \n",
       "4015            India        India         6E243   \n",
       "4631            India        India        6E4062   \n",
       "4714            India        India         6E422   \n",
       "4715            India        India         6E413   \n",
       "5060            India        India         6E132   \n",
       "5084            India        India        6E3813   \n",
       "5085            India        India         6E696   \n",
       "5170            India        India         6E247   \n",
       "5171            India        India         6E602   \n",
       "5456            India        India         6E834   \n",
       "5691            India        India         6E288   \n",
       "5792            India        India         6E963   \n",
       "5794            India        India         6E963   \n",
       "5796            India        India         6E246   \n",
       "15118           India        India         6E402   \n",
       "15119           India        India         6E763   \n",
       "16052           India        India         6E543   \n",
       "16053           India        India         6E482   \n",
       "70635           India        India         6E462   \n",
       "...               ...          ...           ...   \n",
       "323357          India        India         6E542   \n",
       "344152          India        India         6E462   \n",
       "344346          India        India         6E478   \n",
       "357153          India        India         6E858   \n",
       "358436          India        India         6E495   \n",
       "358978          India        India         6E103   \n",
       "358979          India        India         6E718   \n",
       "358980          India        India         6E481   \n",
       "361376          India        India         6E724   \n",
       "363312          India        India         6E787   \n",
       "363314          India        India         6E787   \n",
       "376792          India        India         6E542   \n",
       "376793          India        India         6E542   \n",
       "380673          India        India         6E375   \n",
       "380674          India        India         6E312   \n",
       "382273          India        India         6E787   \n",
       "382275          India        India         6E787   \n",
       "395774          India        India         6E684   \n",
       "396821          India        India        6E5405   \n",
       "397872          India        India        6E3173   \n",
       "398068          India        India         6E842   \n",
       "399189          India        India        6E3174   \n",
       "399351          India        India         6E657   \n",
       "399353          India        India        6E5285   \n",
       "399492          India        India         6E252   \n",
       "399493          India        India         6E252   \n",
       "399494          India        India         6E252   \n",
       "400823          India        India         6E375   \n",
       "400824          India        India         6E375   \n",
       "418365          India        India         6E302   \n",
       "\n",
       "                                                  origin  \\\n",
       "595                                         Pune Airport   \n",
       "1186      Bhubaneswar Biju Patnaik International Airport   \n",
       "1843                                  Chandigarh Airport   \n",
       "1913        Hyderabad Rajiv Gandhi International Airport   \n",
       "2243                           Siliguri Bagdogra Airport   \n",
       "2244                       Kolkata International Airport   \n",
       "2245                       Chennai International Airport   \n",
       "2246          Bangalore Kempegowda International Airport   \n",
       "2446    Mumbai Chhatrapati Shivaji International Airport   \n",
       "3085                      Varanasi International Airport   \n",
       "3086                       Kolkata International Airport   \n",
       "4015    Mumbai Chhatrapati Shivaji International Airport   \n",
       "4631           Delhi Indira Gandhi International Airport   \n",
       "4714                        Cochin International Airport   \n",
       "4715          Bangalore Kempegowda International Airport   \n",
       "5060          Bangalore Kempegowda International Airport   \n",
       "5084                                      Jaipur Airport   \n",
       "5085    Mumbai Chhatrapati Shivaji International Airport   \n",
       "5170        Hyderabad Rajiv Gandhi International Airport   \n",
       "5171          Bangalore Kempegowda International Airport   \n",
       "5456    Mumbai Chhatrapati Shivaji International Airport   \n",
       "5691          Bangalore Kempegowda International Airport   \n",
       "5792           Delhi Indira Gandhi International Airport   \n",
       "5794                        Dehradun Jolly Grant Airport   \n",
       "5796           Delhi Indira Gandhi International Airport   \n",
       "15118                                       Pune Airport   \n",
       "15119          Delhi Indira Gandhi International Airport   \n",
       "16052   Mumbai Chhatrapati Shivaji International Airport   \n",
       "16053         Bangalore Kempegowda International Airport   \n",
       "70635                      Kolkata International Airport   \n",
       "...                                                  ...   \n",
       "323357        Bangalore Kempegowda International Airport   \n",
       "344152                     Kolkata International Airport   \n",
       "344346                                Chandigarh Airport   \n",
       "357153    Port Blair Veer Savarkar International Airport   \n",
       "358436                     Chennai International Airport   \n",
       "358978                                      Pune Airport   \n",
       "358979        Bangalore Kempegowda International Airport   \n",
       "358980         Delhi Indira Gandhi International Airport   \n",
       "361376                         Goa International Airport   \n",
       "363312                        Ranchi Birsa Munda Airport   \n",
       "363314   Patna Jay Prakash Narayan International Airport   \n",
       "376792        Bangalore Kempegowda International Airport   \n",
       "376793                     Chennai International Airport   \n",
       "380673                     Kolkata International Airport   \n",
       "380674    Bhubaneswar Biju Patnaik International Airport   \n",
       "382273                        Ranchi Birsa Munda Airport   \n",
       "382275   Patna Jay Prakash Narayan International Airport   \n",
       "395774      Hyderabad Rajiv Gandhi International Airport   \n",
       "396821    Bhubaneswar Biju Patnaik International Airport   \n",
       "397872                     Chennai International Airport   \n",
       "398068                                Chandigarh Airport   \n",
       "399189      Hyderabad Rajiv Gandhi International Airport   \n",
       "399351              Indore Devi Ahilyabai Holkar Airport   \n",
       "399353  Mumbai Chhatrapati Shivaji International Airport   \n",
       "399492                  Raipur Swami Vivekananda Airport   \n",
       "399493              Indore Devi Ahilyabai Holkar Airport   \n",
       "399494                         Goa International Airport   \n",
       "400823    Bhubaneswar Biju Patnaik International Airport   \n",
       "400824                     Kolkata International Airport   \n",
       "418365      Hyderabad Rajiv Gandhi International Airport   \n",
       "\n",
       "                                              destination        ...         \\\n",
       "595             Delhi Indira Gandhi International Airport        ...          \n",
       "1186            Delhi Indira Gandhi International Airport        ...          \n",
       "1843            Delhi Indira Gandhi International Airport        ...          \n",
       "1913     Mumbai Chhatrapati Shivaji International Airport        ...          \n",
       "2243            Delhi Indira Gandhi International Airport        ...          \n",
       "2244                            Siliguri Bagdogra Airport        ...          \n",
       "2245                        Kolkata International Airport        ...          \n",
       "2246                        Chennai International Airport        ...          \n",
       "2446                 Indore Devi Ahilyabai Holkar Airport        ...          \n",
       "3085     Mumbai Chhatrapati Shivaji International Airport        ...          \n",
       "3086                       Varanasi International Airport        ...          \n",
       "4015                      Ahmedabad International Airport        ...          \n",
       "4631                                        Jammu Airport        ...          \n",
       "4714         Hyderabad Rajiv Gandhi International Airport        ...          \n",
       "4715                         Cochin International Airport        ...          \n",
       "5060            Delhi Indira Gandhi International Airport        ...          \n",
       "5084            Delhi Indira Gandhi International Airport        ...          \n",
       "5085                                       Jaipur Airport        ...          \n",
       "5170     Mumbai Chhatrapati Shivaji International Airport        ...          \n",
       "5171         Hyderabad Rajiv Gandhi International Airport        ...          \n",
       "5456         Hyderabad Rajiv Gandhi International Airport        ...          \n",
       "5691                                Visakhapatnam Airport        ...          \n",
       "5792           Bangalore Kempegowda International Airport        ...          \n",
       "5794            Delhi Indira Gandhi International Airport        ...          \n",
       "5796                         Dehradun Jolly Grant Airport        ...          \n",
       "15118           Delhi Indira Gandhi International Airport        ...          \n",
       "15119                                        Pune Airport        ...          \n",
       "16052   Nagpur Dr. Babasaheb Ambedkar International Ai...        ...          \n",
       "16053    Mumbai Chhatrapati Shivaji International Airport        ...          \n",
       "70635    Mumbai Chhatrapati Shivaji International Airport        ...          \n",
       "...                                                   ...        ...          \n",
       "323357             Lucknow Chaudhary Charan Singh Airport        ...          \n",
       "344152   Mumbai Chhatrapati Shivaji International Airport        ...          \n",
       "344346         Bangalore Kempegowda International Airport        ...          \n",
       "357153                      Chennai International Airport        ...          \n",
       "358436   Mumbai Chhatrapati Shivaji International Airport        ...          \n",
       "358978         Bangalore Kempegowda International Airport        ...          \n",
       "358979                                       Pune Airport        ...          \n",
       "358980         Bangalore Kempegowda International Airport        ...          \n",
       "361376          Delhi Indira Gandhi International Airport        ...          \n",
       "363312   Mumbai Chhatrapati Shivaji International Airport        ...          \n",
       "363314                         Ranchi Birsa Munda Airport        ...          \n",
       "376792             Lucknow Chaudhary Charan Singh Airport        ...          \n",
       "376793         Bangalore Kempegowda International Airport        ...          \n",
       "380673     Bhubaneswar Biju Patnaik International Airport        ...          \n",
       "380674                      Kolkata International Airport        ...          \n",
       "382273   Mumbai Chhatrapati Shivaji International Airport        ...          \n",
       "382275                         Ranchi Birsa Munda Airport        ...          \n",
       "395774          Delhi Indira Gandhi International Airport        ...          \n",
       "396821          Delhi Indira Gandhi International Airport        ...          \n",
       "397872       Hyderabad Rajiv Gandhi International Airport        ...          \n",
       "398068          Delhi Indira Gandhi International Airport        ...          \n",
       "399189                      Chennai International Airport        ...          \n",
       "399351          Delhi Indira Gandhi International Airport        ...          \n",
       "399353               Indore Devi Ahilyabai Holkar Airport        ...          \n",
       "399492                      Kolkata International Airport        ...          \n",
       "399493                   Raipur Swami Vivekananda Airport        ...          \n",
       "399494               Indore Devi Ahilyabai Holkar Airport        ...          \n",
       "400823   Mumbai Chhatrapati Shivaji International Airport        ...          \n",
       "400824     Bhubaneswar Biju Patnaik International Airport        ...          \n",
       "418365          Delhi Indira Gandhi International Airport        ...          \n",
       "\n",
       "            real_departure        real_arrival        status duration  \\\n",
       "595    2017-02-25 03:32:04 2017-02-25 05:16:00  Landed 05:17     6316   \n",
       "1186   2017-02-27 22:08:57 2017-02-28 00:12:00  Landed 00:13     7455   \n",
       "1843   2017-02-22 10:25:10 2017-02-22 11:07:00  Landed 11:07     2556   \n",
       "1913   2017-02-27 14:10:32 2017-02-27 15:58:00  Landed 15:59     6509   \n",
       "2243   2017-02-27 14:48:45 2017-02-27 16:56:00  Landed 16:57     7703   \n",
       "2244   2017-02-27 13:10:05 2017-02-27 14:09:00  Landed 14:09     3557   \n",
       "2245   2017-02-27 10:18:19 2017-02-27 12:16:00  Landed 12:16     7110   \n",
       "2246   2017-02-27 08:30:59 2017-02-27 09:21:00  Landed 09:26     3341   \n",
       "2446   2017-02-27 17:13:01 2017-02-27 18:12:00  Landed 18:11     3513   \n",
       "3085   2017-02-27 12:31:28 2017-02-27 15:03:00  Landed 15:06     9276   \n",
       "3086   2017-02-27 10:45:45 2017-02-27 11:51:00  Landed 11:51     3949   \n",
       "4015   2017-02-27 20:39:21 2017-02-27 21:44:46  Landed 21:44     3925   \n",
       "4631   2017-02-23 12:07:57 2017-02-23 13:22:00  Landed 13:23     4527   \n",
       "4714   2017-02-27 12:45:42 2017-02-27 14:01:00  Landed 14:02     4623   \n",
       "4715   2017-02-27 11:19:59 2017-02-27 12:01:00  Landed 12:02     2525   \n",
       "5060   2017-02-27 08:09:28 2017-02-27 10:42:00  Landed 10:43     9229   \n",
       "5084   2017-02-23 22:33:56 2017-02-23 23:28:00  Landed 23:28     3285   \n",
       "5085   2017-02-23 20:18:28 2017-02-23 21:40:00  Landed 21:39     4866   \n",
       "5170   2017-02-27 09:41:29 2017-02-27 11:08:00  Landed 11:08     5244   \n",
       "5171   2017-02-27 08:06:01 2017-02-27 08:50:00  Landed 08:50     2671   \n",
       "5456   2017-02-27 19:23:04 2017-02-27 20:22:00  Landed 20:22     3592   \n",
       "5691   2017-02-27 08:02:35 2017-02-27 09:26:00  Landed 09:26     5038   \n",
       "5792   2017-02-28 00:03:42 2017-02-28 02:26:00  Landed 02:26     8578   \n",
       "5794   2017-02-27 22:13:25 2017-02-27 22:56:00  Landed 22:57     2636   \n",
       "5796   2017-02-27 21:09:10 2017-02-27 21:36:00  Landed 21:38     1769   \n",
       "15118  2017-02-23 23:25:05 2017-02-24 01:08:00  Landed 01:09     6269   \n",
       "15119  2017-02-23 20:53:51 2017-02-23 22:34:00  Landed 22:38     6271   \n",
       "16052  2017-02-27 10:53:36 2017-02-27 11:56:00  Landed 11:54     3624   \n",
       "16053  2017-02-27 08:21:27 2017-02-27 09:46:00  Landed 09:47     5155   \n",
       "70635  2017-03-02 09:40:28 2017-03-02 12:13:00  Landed 12:14     9229   \n",
       "...                    ...                 ...           ...      ...   \n",
       "323357 2017-03-14 21:55:36 2017-03-15 00:00:00  Landed 00:00     7500   \n",
       "344152 2017-03-09 11:29:44 2017-03-09 14:14:00  Landed 14:14     9840   \n",
       "344346 2017-03-10 23:37:45 2017-03-11 02:15:00  Landed 02:15     9420   \n",
       "357153 2017-03-15 15:26:00 2017-03-15 17:27:00  Landed 17:27     7260   \n",
       "358436 2017-03-17 10:37:03 2017-03-17 12:15:03  Landed 12:15     5880   \n",
       "358978 2017-03-19 00:50:59 2017-03-19 01:54:52  Landed 01:54     3840   \n",
       "358979 2017-03-18 22:46:31 2017-03-18 23:55:08  Landed 23:55     4140   \n",
       "358980 2017-03-18 19:32:31 2017-03-18 21:52:03  Landed 21:52     8400   \n",
       "361376 2017-03-18 21:41:38 2017-03-19 00:00:20  Landed 00:00     8340   \n",
       "363312 2017-03-19 19:29:04 2017-03-19 21:42:22  Landed 21:42     7980   \n",
       "363314 2017-03-19 18:14:27 2017-03-19 18:48:13  Landed 18:48     2040   \n",
       "376792 2017-03-20 21:45:47 2017-03-20 23:55:00  Landed 23:55     7740   \n",
       "376793 2017-03-20 19:54:03 2017-03-20 20:34:00  Landed 20:34     2400   \n",
       "380673 2017-03-23 09:55:59 2017-03-23 10:39:29  Landed 10:39     2640   \n",
       "380674 2017-03-23 08:03:45 2017-03-23 09:02:10  Landed 09:02     3480   \n",
       "382273 2017-03-19 19:29:04 2017-03-19 21:40:00  Landed 21:40     7860   \n",
       "382275 2017-03-19 18:14:27 2017-03-19 18:49:00  Landed 18:49     2100   \n",
       "395774 2017-03-24 21:36:25 2017-03-24 23:46:00  Landed 23:46     7800   \n",
       "396821 2017-03-23 23:34:07 2017-03-24 01:22:00  Landed 01:22     6480   \n",
       "397872 2017-03-25 20:03:32 2017-03-25 20:55:00  Landed 20:55     3060   \n",
       "398068 2017-03-25 14:31:32 2017-03-25 15:14:00  Landed 15:14     2520   \n",
       "399189 2017-03-25 21:51:02 2017-03-25 22:47:00  Landed 22:47     3360   \n",
       "399351 2017-03-24 01:11:18 2017-03-24 02:13:00  Landed 02:13     3720   \n",
       "399353 2017-03-23 23:36:41 2017-03-24 00:29:00  Landed 00:29     3120   \n",
       "399492 2017-03-28 21:48:57 2017-03-28 22:51:00  Landed 22:51     3720   \n",
       "399493 2017-03-28 20:18:50 2017-03-28 21:16:00  Landed 21:16     3420   \n",
       "399494 2017-03-28 18:01:30 2017-03-28 19:20:00  Landed 19:20     4740   \n",
       "400823 2017-03-23 11:22:29 2017-03-23 13:30:00  Landed 13:30     7680   \n",
       "400824 2017-03-23 09:55:59 2017-03-23 10:40:00  Landed 10:40     2640   \n",
       "418365 2017-04-02 20:13:49 2017-04-02 22:07:00  Landed 22:07     6780   \n",
       "\n",
       "           distance_travelled arrival_delay departure_delay hour_dep  \\\n",
       "595     1152.3896833564875 km         151.0           172.0        0   \n",
       "1186    1276.1613617046855 km         172.0           203.0       18   \n",
       "1843     235.5263291167312 km         122.0           135.0        8   \n",
       "1913     622.5796308496787 km         133.0           115.0       12   \n",
       "2243    1127.0288675949193 km         151.0           158.0       12   \n",
       "2244    446.16531989483883 km         149.0           155.0       10   \n",
       "2245     1381.519359039848 km         136.0           148.0        7   \n",
       "2246     269.3407262208813 km         121.0           130.0        6   \n",
       "2446    504.84767891268876 km         122.0           148.0       14   \n",
       "3085    1246.9846863567861 km         143.0           131.0       10   \n",
       "3086     647.1656717896195 km         121.0           140.0        8   \n",
       "4015     442.2714680235996 km         124.0           134.0       18   \n",
       "4631    505.99948258427105 km         137.0           142.0        9   \n",
       "4714     815.7870005140779 km         121.0           135.0       10   \n",
       "4715    365.78622979394265 km         131.0           154.0        8   \n",
       "5060    1702.6538858818208 km         122.0           129.0        6   \n",
       "5084     231.2760345555949 km         123.0           128.0       20   \n",
       "5085     908.2032835428321 km         125.0           153.0       17   \n",
       "5170     622.5796308496787 km         148.0           151.0        7   \n",
       "5171    455.41854744926184 km         130.0           151.0        5   \n",
       "5456     622.5796308496787 km         127.0           163.0       16   \n",
       "5691      775.211729477412 km         121.0           127.0        5   \n",
       "5792    1702.6538858818212 km         236.0           258.0       19   \n",
       "5794     208.0967034369633 km         226.0           248.0       18   \n",
       "5796     208.0967034369633 km         246.0           274.0       16   \n",
       "15118   1152.3896833564875 km         148.0           175.0       20   \n",
       "15119   1152.3896833564872 km         159.0           183.0       17   \n",
       "16052    683.1951566330916 km         126.0           143.0        8   \n",
       "16053      832.00012041973 km         121.0           136.0        6   \n",
       "70635   1667.5153960298821 km         133.0           150.0        7   \n",
       "...                       ...           ...             ...      ...   \n",
       "323357  1537.6847511974754 km         160.0           180.0       18   \n",
       "344152  1667.5153960298821 km         254.0           259.0        7   \n",
       "344346  1937.3486237944683 km         400.0           422.0       16   \n",
       "357153  1373.0467068088433 km         202.0           221.0       11   \n",
       "358436   1032.660503754848 km         200.0           217.0        7   \n",
       "358978    720.473005286707 km         134.0           155.0       22   \n",
       "358979   720.4730052867071 km         130.0           141.0       20   \n",
       "358980  1702.6538858818212 km         127.0           147.0       17   \n",
       "361376  1498.4324378205667 km         210.0           231.0       17   \n",
       "363312  1374.3991824376656 km         152.0           164.0       16   \n",
       "363314  253.32853707830043 km         153.0           159.0       15   \n",
       "376792  1537.6847511974754 km         155.0           170.0       18   \n",
       "376793   269.3407262208813 km         134.0           149.0       17   \n",
       "380673   381.4025418182413 km         139.0           160.0        7   \n",
       "380674  381.40254181824116 km         142.0           143.0        5   \n",
       "382273  1374.3991824376656 km         150.0           164.0       16   \n",
       "382275  253.32853707830043 km         154.0           159.0       15   \n",
       "395774  1260.1544894312096 km         181.0           186.0       18   \n",
       "396821  1276.1613617046855 km         122.0           149.0       21   \n",
       "397872   507.4355584602117 km         145.0           168.0       17   \n",
       "398068   235.5263291167312 km         139.0           151.0       12   \n",
       "399189   507.4355584602119 km         152.0           171.0       19   \n",
       "399351   660.5455919180987 km         198.0           231.0       21   \n",
       "399353  504.84767891268876 km         219.0           241.0       19   \n",
       "399492   711.9645457564316 km         131.0           153.0       19   \n",
       "399493   636.5873645196151 km         151.0           173.0       17   \n",
       "399494   838.5821005179611 km         155.0           181.0       15   \n",
       "400823  1363.6507121828347 km         130.0           152.0        8   \n",
       "400824   381.4025418182413 km         140.0           160.0        7   \n",
       "418365  1260.1544894312096 km         127.0           153.0       17   \n",
       "\n",
       "       weekday_dep  day_of_month_dep  \n",
       "595       Saturday                25  \n",
       "1186        Monday                27  \n",
       "1843     Wednesday                22  \n",
       "1913        Monday                27  \n",
       "2243        Monday                27  \n",
       "2244        Monday                27  \n",
       "2245        Monday                27  \n",
       "2246        Monday                27  \n",
       "2446        Monday                27  \n",
       "3085        Monday                27  \n",
       "3086        Monday                27  \n",
       "4015        Monday                27  \n",
       "4631      Thursday                23  \n",
       "4714        Monday                27  \n",
       "4715        Monday                27  \n",
       "5060        Monday                27  \n",
       "5084      Thursday                23  \n",
       "5085      Thursday                23  \n",
       "5170        Monday                27  \n",
       "5171        Monday                27  \n",
       "5456        Monday                27  \n",
       "5691        Monday                27  \n",
       "5792        Monday                27  \n",
       "5794        Monday                27  \n",
       "5796        Monday                27  \n",
       "15118     Thursday                23  \n",
       "15119     Thursday                23  \n",
       "16052       Monday                27  \n",
       "16053       Monday                27  \n",
       "70635     Thursday                 2  \n",
       "...            ...               ...  \n",
       "323357     Tuesday                14  \n",
       "344152    Thursday                 9  \n",
       "344346      Friday                10  \n",
       "357153   Wednesday                15  \n",
       "358436      Friday                17  \n",
       "358978    Saturday                18  \n",
       "358979    Saturday                18  \n",
       "358980    Saturday                18  \n",
       "361376    Saturday                18  \n",
       "363312      Sunday                19  \n",
       "363314      Sunday                19  \n",
       "376792      Monday                20  \n",
       "376793      Monday                20  \n",
       "380673    Thursday                23  \n",
       "380674    Thursday                23  \n",
       "382273      Sunday                19  \n",
       "382275      Sunday                19  \n",
       "395774      Friday                24  \n",
       "396821    Thursday                23  \n",
       "397872    Saturday                25  \n",
       "398068    Saturday                25  \n",
       "399189    Saturday                25  \n",
       "399351    Thursday                23  \n",
       "399353    Thursday                23  \n",
       "399492     Tuesday                28  \n",
       "399493     Tuesday                28  \n",
       "399494     Tuesday                28  \n",
       "400823    Thursday                23  \n",
       "400824    Thursday                23  \n",
       "418365      Sunday                 2  \n",
       "\n",
       "[128 rows x 24 columns]"
      ]
     },
     "execution_count": 61,
     "metadata": {},
     "output_type": "execute_result"
    }
   ],
   "source": [
    "delayed_flights_120_min[delayed_flights_120_min[\"airline_name\"]==\"IndiGo\"]"
   ]
  },
  {
   "cell_type": "code",
   "execution_count": 34,
   "metadata": {
    "collapsed": false
   },
   "outputs": [
    {
     "data": {
      "text/plain": [
       "<matplotlib.axes._subplots.AxesSubplot at 0x30bd4208>"
      ]
     },
     "execution_count": 34,
     "metadata": {},
     "output_type": "execute_result"
    },
    {
     "data": {
      "image/png": "[encoded data removed]",
      "text/plain": [
       "<matplotlib.figure.Figure at 0x30bb1710>"
      ]
     },
     "metadata": {},
     "output_type": "display_data"
    }
   ],
   "source": [
    "delayed_flights_120_min.groupby(\"airline_name\").arrival_delay.mean().plot(kind=\"bar\")"
   ]
  },
  {
   "cell_type": "markdown",
   "metadata": {},
   "source": [
    "## Analysing flights delayed by more than zero mins"
   ]
  },
  {
   "cell_type": "code",
   "execution_count": 62,
   "metadata": {
    "collapsed": false
   },
   "outputs": [],
   "source": [
    "# importing libraries for plotting \n",
    "\n",
    "import matplotlib.pyplot as plt \n",
    "%matplotlib inline\n",
    "del delayed_flights_0_min['timestamp']"
   ]
  },
  {
   "cell_type": "code",
   "execution_count": 63,
   "metadata": {
    "collapsed": false
   },
   "outputs": [
    {
     "data": {
      "text/html": [
       "<div>\n",
       "<table border=\"1\" class=\"dataframe\">\n",
       "  <thead>\n",
       "    <tr style=\"text-align: right;\">\n",
       "      <th></th>\n",
       "      <th>reg</th>\n",
       "      <th>airline_name</th>\n",
       "      <th>model</th>\n",
       "      <th>model_text</th>\n",
       "      <th>country_origin</th>\n",
       "      <th>country_dest</th>\n",
       "      <th>flight_number</th>\n",
       "      <th>origin</th>\n",
       "      <th>destination</th>\n",
       "      <th>scheduled_departure</th>\n",
       "      <th>...</th>\n",
       "      <th>real_departure</th>\n",
       "      <th>real_arrival</th>\n",
       "      <th>status</th>\n",
       "      <th>duration</th>\n",
       "      <th>distance_travelled</th>\n",
       "      <th>arrival_delay</th>\n",
       "      <th>departure_delay</th>\n",
       "      <th>hour_dep</th>\n",
       "      <th>weekday_dep</th>\n",
       "      <th>day_of_month_dep</th>\n",
       "    </tr>\n",
       "  </thead>\n",
       "  <tbody>\n",
       "    <tr>\n",
       "      <th>11</th>\n",
       "      <td>VT-IAL</td>\n",
       "      <td>IndiGo</td>\n",
       "      <td>A320</td>\n",
       "      <td>Airbus A320-232</td>\n",
       "      <td>India</td>\n",
       "      <td>India</td>\n",
       "      <td>6E176</td>\n",
       "      <td>Trivandrum International Airport</td>\n",
       "      <td>Mumbai Chhatrapati Shivaji International Airport</td>\n",
       "      <td>2017-02-28 10:15:00</td>\n",
       "      <td>...</td>\n",
       "      <td>2017-02-28 11:22:52</td>\n",
       "      <td>2017-02-28 13:11:00</td>\n",
       "      <td>Landed 13:11</td>\n",
       "      <td>6517</td>\n",
       "      <td>1252.3895747521426 km</td>\n",
       "      <td>56.0</td>\n",
       "      <td>67.0</td>\n",
       "      <td>10</td>\n",
       "      <td>Tuesday</td>\n",
       "      <td>28</td>\n",
       "    </tr>\n",
       "    <tr>\n",
       "      <th>18</th>\n",
       "      <td>VT-IAL</td>\n",
       "      <td>IndiGo</td>\n",
       "      <td>A320</td>\n",
       "      <td>Airbus A320-232</td>\n",
       "      <td>India</td>\n",
       "      <td>India</td>\n",
       "      <td>6E238</td>\n",
       "      <td>Ahmedabad International Airport</td>\n",
       "      <td>Chennai International Airport</td>\n",
       "      <td>2017-02-27 09:55:00</td>\n",
       "      <td>...</td>\n",
       "      <td>2017-02-27 10:18:32</td>\n",
       "      <td>2017-02-27 12:24:00</td>\n",
       "      <td>Landed 12:24</td>\n",
       "      <td>7564</td>\n",
       "      <td>1371.7036839622774 km</td>\n",
       "      <td>14.0</td>\n",
       "      <td>23.0</td>\n",
       "      <td>9</td>\n",
       "      <td>Monday</td>\n",
       "      <td>27</td>\n",
       "    </tr>\n",
       "    <tr>\n",
       "      <th>20</th>\n",
       "      <td>VT-IAL</td>\n",
       "      <td>IndiGo</td>\n",
       "      <td>A320</td>\n",
       "      <td>Airbus A320-232</td>\n",
       "      <td>India</td>\n",
       "      <td>India</td>\n",
       "      <td>6E238</td>\n",
       "      <td>Kolkata International Airport</td>\n",
       "      <td>Jaipur Airport</td>\n",
       "      <td>2017-02-27 05:20:00</td>\n",
       "      <td>...</td>\n",
       "      <td>2017-02-27 05:23:10</td>\n",
       "      <td>2017-02-27 07:35:00</td>\n",
       "      <td>Landed 07:44</td>\n",
       "      <td>8474</td>\n",
       "      <td>1358.1577783850107 km</td>\n",
       "      <td>10.0</td>\n",
       "      <td>3.0</td>\n",
       "      <td>5</td>\n",
       "      <td>Monday</td>\n",
       "      <td>27</td>\n",
       "    </tr>\n",
       "    <tr>\n",
       "      <th>30</th>\n",
       "      <td>VT-IAL</td>\n",
       "      <td>IndiGo</td>\n",
       "      <td>A320</td>\n",
       "      <td>Airbus A320-232</td>\n",
       "      <td>India</td>\n",
       "      <td>India</td>\n",
       "      <td>6E6493</td>\n",
       "      <td>Bangalore Kempegowda International Airport</td>\n",
       "      <td>Kolkata International Airport</td>\n",
       "      <td>2017-02-25 18:15:00</td>\n",
       "      <td>...</td>\n",
       "      <td>2017-02-25 18:46:18</td>\n",
       "      <td>2017-02-25 20:57:00</td>\n",
       "      <td>Landed 21:00</td>\n",
       "      <td>8076</td>\n",
       "      <td>1544.731830735519 km</td>\n",
       "      <td>17.0</td>\n",
       "      <td>31.0</td>\n",
       "      <td>18</td>\n",
       "      <td>Saturday</td>\n",
       "      <td>25</td>\n",
       "    </tr>\n",
       "    <tr>\n",
       "      <th>36</th>\n",
       "      <td>VT-IAL</td>\n",
       "      <td>IndiGo</td>\n",
       "      <td>A320</td>\n",
       "      <td>Airbus A320-232</td>\n",
       "      <td>India</td>\n",
       "      <td>India</td>\n",
       "      <td>6E963</td>\n",
       "      <td>Delhi Indira Gandhi International Airport</td>\n",
       "      <td>Bangalore Kempegowda International Airport</td>\n",
       "      <td>2017-02-24 19:45:00</td>\n",
       "      <td>...</td>\n",
       "      <td>2017-02-24 19:59:29</td>\n",
       "      <td>2017-02-24 22:32:33</td>\n",
       "      <td>Landed 22:32</td>\n",
       "      <td>9184</td>\n",
       "      <td>1702.6538858818212 km</td>\n",
       "      <td>2.0</td>\n",
       "      <td>14.0</td>\n",
       "      <td>19</td>\n",
       "      <td>Friday</td>\n",
       "      <td>24</td>\n",
       "    </tr>\n",
       "  </tbody>\n",
       "</table>\n",
       "<p>5 rows × 23 columns</p>\n",
       "</div>"
      ],
      "text/plain": [
       "       reg airline_name model       model_text country_origin country_dest  \\\n",
       "11  VT-IAL       IndiGo  A320  Airbus A320-232          India        India   \n",
       "18  VT-IAL       IndiGo  A320  Airbus A320-232          India        India   \n",
       "20  VT-IAL       IndiGo  A320  Airbus A320-232          India        India   \n",
       "30  VT-IAL       IndiGo  A320  Airbus A320-232          India        India   \n",
       "36  VT-IAL       IndiGo  A320  Airbus A320-232          India        India   \n",
       "\n",
       "   flight_number                                      origin  \\\n",
       "11         6E176            Trivandrum International Airport   \n",
       "18         6E238             Ahmedabad International Airport   \n",
       "20         6E238               Kolkata International Airport   \n",
       "30        6E6493  Bangalore Kempegowda International Airport   \n",
       "36         6E963   Delhi Indira Gandhi International Airport   \n",
       "\n",
       "                                         destination scheduled_departure  \\\n",
       "11  Mumbai Chhatrapati Shivaji International Airport 2017-02-28 10:15:00   \n",
       "18                     Chennai International Airport 2017-02-27 09:55:00   \n",
       "20                                    Jaipur Airport 2017-02-27 05:20:00   \n",
       "30                     Kolkata International Airport 2017-02-25 18:15:00   \n",
       "36        Bangalore Kempegowda International Airport 2017-02-24 19:45:00   \n",
       "\n",
       "          ...             real_departure        real_arrival        status  \\\n",
       "11        ...        2017-02-28 11:22:52 2017-02-28 13:11:00  Landed 13:11   \n",
       "18        ...        2017-02-27 10:18:32 2017-02-27 12:24:00  Landed 12:24   \n",
       "20        ...        2017-02-27 05:23:10 2017-02-27 07:35:00  Landed 07:44   \n",
       "30        ...        2017-02-25 18:46:18 2017-02-25 20:57:00  Landed 21:00   \n",
       "36        ...        2017-02-24 19:59:29 2017-02-24 22:32:33  Landed 22:32   \n",
       "\n",
       "   duration     distance_travelled arrival_delay departure_delay hour_dep  \\\n",
       "11     6517  1252.3895747521426 km          56.0            67.0       10   \n",
       "18     7564  1371.7036839622774 km          14.0            23.0        9   \n",
       "20     8474  1358.1577783850107 km          10.0             3.0        5   \n",
       "30     8076   1544.731830735519 km          17.0            31.0       18   \n",
       "36     9184  1702.6538858818212 km           2.0            14.0       19   \n",
       "\n",
       "    weekday_dep  day_of_month_dep  \n",
       "11      Tuesday                28  \n",
       "18       Monday                27  \n",
       "20       Monday                27  \n",
       "30     Saturday                25  \n",
       "36       Friday                24  \n",
       "\n",
       "[5 rows x 23 columns]"
      ]
     },
     "execution_count": 63,
     "metadata": {},
     "output_type": "execute_result"
    }
   ],
   "source": [
    "# Checking the structure of dataset \n",
    "\n",
    "delayed_flights_0_min.head()"
   ]
  },
  {
   "cell_type": "markdown",
   "metadata": {},
   "source": [
    "## Descriptive statistics for \"arrival_delay\" variable"
   ]
  },
  {
   "cell_type": "code",
   "execution_count": 95,
   "metadata": {
    "collapsed": false
   },
   "outputs": [
    {
     "name": "stdout",
     "output_type": "stream",
     "text": [
      "Average arrival delay across all airports when delayed by>0 min :22.52822790626436\n",
      "Median arrival delay across all airports when delayed by >0 min:14.0\n",
      "Standard deviation of the arrival delay when delayed by >0 min  :30.456388013423393\n",
      "97th percentile  of the arrival delay when delayed by >0 min  :90.0\n"
     ]
    }
   ],
   "source": [
    "print(\"Average arrival delay across all airports when delayed by>0 min :{}\".format(delayed_flights_0_min.arrival_delay.mean()))\n",
    "print(\"Median arrival delay across all airports when delayed by >0 min:{}\".format(delayed_flights_0_min.arrival_delay.median()))\n",
    "print(\"Standard deviation of the arrival delay when delayed by >0 min  :{}\".format(delayed_flights_0_min.arrival_delay.std()))\n",
    "print(\"97th percentile  of the arrival delay when delayed by >0 min  :{}\".format(delayed_flights_0_min.arrival_delay.quantile(0.97)))"
   ]
  },
  {
   "cell_type": "code",
   "execution_count": 36,
   "metadata": {
    "collapsed": false
   },
   "outputs": [
    {
     "data": {
      "text/plain": [
       "<matplotlib.axes._subplots.AxesSubplot at 0x1cbc6c50>"
      ]
     },
     "execution_count": 36,
     "metadata": {},
     "output_type": "execute_result"
    },
    {
     "data": {
      "image/png": "[encoded data removed]",
      "text/plain": [
       "<matplotlib.figure.Figure at 0x1cbf04a8>"
      ]
     },
     "metadata": {},
     "output_type": "display_data"
    }
   ],
   "source": [
    "delayed_flights_0_min.groupby(\"origin\").arrival_delay.mean().plot(kind=\"barh\",figsize=(10,20))\n"
   ]
  },
  {
   "cell_type": "markdown",
   "metadata": {},
   "source": [
    "# Average arrival delay on hourly basis"
   ]
  },
  {
   "cell_type": "code",
   "execution_count": 37,
   "metadata": {
    "collapsed": false
   },
   "outputs": [
    {
     "data": {
      "text/plain": [
       "<matplotlib.text.Text at 0x238f9f60>"
      ]
     },
     "execution_count": 37,
     "metadata": {},
     "output_type": "execute_result"
    },
    {
     "data": {
      "image/png": "[encoded data removed]",
      "text/plain": [
       "<matplotlib.figure.Figure at 0x30cfc400>"
      ]
     },
     "metadata": {},
     "output_type": "display_data"
    }
   ],
   "source": [
    "delayed_flights_0_min.groupby(\"hour_dep\").arrival_delay.mean().plot(kind=\"bar\",figsize=(15,10))\n",
    "plt.xlabel(\"Hour of departure\")\n",
    "plt.ylabel(\" Average delay in miniutes\")"
   ]
  },
  {
   "cell_type": "markdown",
   "metadata": {},
   "source": [
    "# Average arrival delay based on weekdays"
   ]
  },
  {
   "cell_type": "code",
   "execution_count": 46,
   "metadata": {
    "collapsed": false
   },
   "outputs": [
    {
     "data": {
      "text/plain": [
       "<matplotlib.text.Text at 0x247113c8>"
      ]
     },
     "execution_count": 46,
     "metadata": {},
     "output_type": "execute_result"
    },
    {
     "data": {
      "image/png": "[encoded data removed]",
      "text/plain": [
       "<matplotlib.figure.Figure at 0x24653b00>"
      ]
     },
     "metadata": {},
     "output_type": "display_data"
    }
   ],
   "source": [
    "import numpy as np\n",
    "delayed_flights_0_min.groupby(\"weekday_dep\").arrival_delay.mean().plot(kind=\"bar\",figsize=(12,8),color=\"r\")\n",
    "plt.ylabel(\"Average arrival delay (in minutes)\")\n",
    "#plt.yticks(np.array([\"Friday\",\"Sataurday\",\"Sunday\",\"Monday\",\"Tuesday\",\"Wednesday\",\"Thursday\"]))\n",
    "plt.xlabel(\"Weekdays\")"
   ]
  },
  {
   "cell_type": "code",
   "execution_count": 43,
   "metadata": {
    "collapsed": false
   },
   "outputs": [],
   "source": [
    "delayed_stats=delayed_flights_0_min.groupby('airline_name').arrival_delay.agg([\"mean\",\"median\"])"
   ]
  },
  {
   "cell_type": "code",
   "execution_count": 44,
   "metadata": {
    "collapsed": false
   },
   "outputs": [
    {
     "data": {
      "text/plain": [
       "<matplotlib.axes._subplots.AxesSubplot at 0x24623470>"
      ]
     },
     "execution_count": 44,
     "metadata": {},
     "output_type": "execute_result"
    },
    {
     "data": {
      "image/png": "[encoded data removed]",
      "text/plain": [
       "<matplotlib.figure.Figure at 0x23a39198>"
      ]
     },
     "metadata": {},
     "output_type": "display_data"
    }
   ],
   "source": [
    "\n",
    "delayed_stats.plot(kind='barh',figsize=(20,15))"
   ]
  },
  {
   "cell_type": "markdown",
   "metadata": {},
   "source": [
    "### Average delay by  registration number "
   ]
  },
  {
   "cell_type": "code",
   "execution_count": 45,
   "metadata": {
    "collapsed": false
   },
   "outputs": [
    {
     "data": {
      "text/plain": [
       "<matplotlib.text.Text at 0x28df65c0>"
      ]
     },
     "execution_count": 45,
     "metadata": {},
     "output_type": "execute_result"
    },
    {
     "data": {
      "image/png": "[encoded data removed]",
      "text/plain": [
       "<matplotlib.figure.Figure at 0x245a5a90>"
      ]
     },
     "metadata": {},
     "output_type": "display_data"
    }
   ],
   "source": [
    "delayed_flights_0_min.groupby(\"reg\").arrival_delay.mean().sort_values(ascending=False)[0:10].plot(kind=\"bar\",color=\"g\",\n",
    "                                                                                                  figsize=(12,8))\n",
    "plt.xlabel(\"Registration Number \")\n",
    "plt.ylabel(\"Average arrival delay \")"
   ]
  },
  {
   "cell_type": "code",
   "execution_count": 45,
   "metadata": {
    "collapsed": false
   },
   "outputs": [
    {
     "data": {
      "text/plain": [
       "<matplotlib.text.Text at 0x23e110b8>"
      ]
     },
     "execution_count": 45,
     "metadata": {},
     "output_type": "execute_result"
    },
    {
     "data": {
      "image/png": "[encoded data removed]",
      "text/plain": [
       "<matplotlib.figure.Figure at 0x23dc5518>"
      ]
     },
     "metadata": {},
     "output_type": "display_data"
    }
   ],
   "source": [
    "delayed_flights_0_min.groupby(\"reg\").arrival_delay.mean().sort_values(ascending=False)[0:20].plot(kind=\"bar\",figsize=(18,12))\n",
    "plt.xlabel(\"Registration (tail_id)\")\n",
    "plt.ylabel(\"Average delay ( minutes)\")"
   ]
  },
  {
   "cell_type": "markdown",
   "metadata": {},
   "source": [
    "# Distribution of flight delays\n",
    "\n",
    "### 1.Percentage of flights with  Less than  or equal to 15 minutes delay "
   ]
  },
  {
   "cell_type": "code",
   "execution_count": 47,
   "metadata": {
    "collapsed": false
   },
   "outputs": [
    {
     "data": {
      "text/plain": [
       "54.6331750650942"
      ]
     },
     "execution_count": 47,
     "metadata": {},
     "output_type": "execute_result"
    }
   ],
   "source": [
    "    (delayed_flights_0_min[delayed_flights_0_min.arrival_delay<=15].arrival_delay.count()/len(delayed_flights_0_min[\"arrival_delay\"]))*100"
   ]
  },
  {
   "cell_type": "markdown",
   "metadata": {},
   "source": [
    "### 2.Percentage of  flights with  arrival delay greater than 15 min but less than or equal 30 min"
   ]
  },
  {
   "cell_type": "code",
   "execution_count": 48,
   "metadata": {
    "collapsed": false
   },
   "outputs": [
    {
     "name": "stdout",
     "output_type": "stream",
     "text": [
      "23.8780824016\n"
     ]
    },
    {
     "name": "stderr",
     "output_type": "stream",
     "text": [
      "C:\\Users\\Vishal_Oben\\Anaconda3\\lib\\site-packages\\ipykernel\\__main__.py:1: UserWarning: Boolean Series key will be reindexed to match DataFrame index.\n",
      "  if __name__ == '__main__':\n"
     ]
    }
   ],
   "source": [
    "x=(delayed_flights_0_min[delayed_flights_0_min.arrival_delay>15][delayed_flights_0_min.arrival_delay<=30]).arrival_delay.count()/len(delayed_flights_0_min[\"arrival_delay\"])\n",
    "print(x*100)"
   ]
  },
  {
   "cell_type": "markdown",
   "metadata": {},
   "source": [
    "### 3. Percentage of flights with arrival delay greater than 30 min  but less than or equal to 60 min"
   ]
  },
  {
   "cell_type": "code",
   "execution_count": 50,
   "metadata": {
    "collapsed": false
   },
   "outputs": [
    {
     "name": "stdout",
     "output_type": "stream",
     "text": [
      "14.682187165\n"
     ]
    },
    {
     "name": "stderr",
     "output_type": "stream",
     "text": [
      "C:\\Users\\Vishal_Oben\\Anaconda3\\lib\\site-packages\\ipykernel\\__main__.py:1: UserWarning: Boolean Series key will be reindexed to match DataFrame index.\n",
      "  if __name__ == '__main__':\n"
     ]
    }
   ],
   "source": [
    "y=(delayed_flights_0_min[delayed_flights_0_min.arrival_delay>30][delayed_flights_0_min.arrival_delay<=60]).arrival_delay.count()/len(delayed_flights_0_min[\"arrival_delay\"])\n",
    "print(y*100)"
   ]
  },
  {
   "cell_type": "markdown",
   "metadata": {},
   "source": [
    "### 4. Percentage of flights with arrival delay greater than 60 min but less than or equal to 2 hours"
   ]
  },
  {
   "cell_type": "code",
   "execution_count": 51,
   "metadata": {
    "collapsed": false
   },
   "outputs": [
    {
     "name": "stdout",
     "output_type": "stream",
     "text": [
      "5.28411701639\n"
     ]
    },
    {
     "name": "stderr",
     "output_type": "stream",
     "text": [
      "C:\\Users\\Vishal_Oben\\Anaconda3\\lib\\site-packages\\ipykernel\\__main__.py:1: UserWarning: Boolean Series key will be reindexed to match DataFrame index.\n",
      "  if __name__ == '__main__':\n"
     ]
    }
   ],
   "source": [
    "z=(delayed_flights_0_min[delayed_flights_0_min.arrival_delay>60][delayed_flights_0_min.arrival_delay<=120]).arrival_delay.count()/len(delayed_flights_0_min[\"arrival_delay\"])\n",
    "print(z*100)"
   ]
  },
  {
   "cell_type": "markdown",
   "metadata": {},
   "source": [
    "### 5.Percentage of  flight with arrival delay greater than 2 hour"
   ]
  },
  {
   "cell_type": "code",
   "execution_count": 52,
   "metadata": {
    "collapsed": false
   },
   "outputs": [
    {
     "name": "stdout",
     "output_type": "stream",
     "text": [
      "1.52243835197\n"
     ]
    }
   ],
   "source": [
    "p=(delayed_flights_0_min[delayed_flights_0_min.arrival_delay>120]).arrival_delay.count()/len(delayed_flights_0_min[\"arrival_delay\"])\n",
    "print(p*100)"
   ]
  },
  {
   "cell_type": "code",
   "execution_count": 51,
   "metadata": {
    "collapsed": false
   },
   "outputs": [],
   "source": [
    "q=delayed_flights_0_min.groupby(\"flight_number\").arrival_delay.mean()"
   ]
  },
  {
   "cell_type": "code",
   "execution_count": 52,
   "metadata": {
    "collapsed": false
   },
   "outputs": [
    {
     "data": {
      "text/plain": [
       "pandas.core.series.Series"
      ]
     },
     "execution_count": 52,
     "metadata": {},
     "output_type": "execute_result"
    }
   ],
   "source": [
    "type(q)"
   ]
  },
  {
   "cell_type": "code",
   "execution_count": 53,
   "metadata": {
    "collapsed": false
   },
   "outputs": [
    {
     "data": {
      "text/plain": [
       "flight_number\n",
       "2S102     268.444444\n",
       "6E523     238.000000\n",
       "9W2760    203.000000\n",
       "G8702     199.666667\n",
       "SG170     196.500000\n",
       "Name: arrival_delay, dtype: float64"
      ]
     },
     "execution_count": 53,
     "metadata": {},
     "output_type": "execute_result"
    }
   ],
   "source": [
    "q[q>30].sort_values(ascending=False)[0:5]\n"
   ]
  },
  {
   "cell_type": "code",
   "execution_count": 60,
   "metadata": {
    "collapsed": false
   },
   "outputs": [],
   "source": [
    "#print(\"flight {} flown  {} number of times\".format(\"SG999\",new_data[new_data.flight_number==\"SG999\"].origin.count()))\n",
    "\n"
   ]
  },
  {
   "cell_type": "code",
   "execution_count": 24,
   "metadata": {
    "collapsed": false
   },
   "outputs": [
    {
     "data": {
      "text/plain": [
       "(80907, 24)"
      ]
     },
     "execution_count": 24,
     "metadata": {},
     "output_type": "execute_result"
    }
   ],
   "source": [
    "qwe.shape"
   ]
  },
  {
   "cell_type": "code",
   "execution_count": 83,
   "metadata": {
    "collapsed": true
   },
   "outputs": [],
   "source": [
    "from bokeh.plotting import figure, output_notebook, show"
   ]
  },
  {
   "cell_type": "code",
   "execution_count": 84,
   "metadata": {
    "collapsed": false
   },
   "outputs": [
    {
     "data": {
      "text/html": [
       "\n",
       "    <div class=\"bk-root\">\n",
       "        <a href=\"http://bokeh.pydata.org\" target=\"_blank\" class=\"bk-logo bk-logo-small bk-logo-notebook\"></a>\n",
       "        <span id=\"e3ee11a0-9428-4d3a-8e31-8f5a2bffe166\">Loading BokehJS ...</span>\n",
       "    </div>"
      ]
     },
     "metadata": {},
     "output_type": "display_data"
    },
    {
     "data": {
      "application/javascript": [
       "\n",
       "(function(global) {\n",
       "  function now() {\n",
       "    return new Date();\n",
       "  }\n",
       "\n",
       "  var force = true;\n",
       "\n",
       "  if (typeof (window._bokeh_onload_callbacks) === \"undefined\" || force === true) {\n",
       "    window._bokeh_onload_callbacks = [];\n",
       "    window._bokeh_is_loading = undefined;\n",
       "  }\n",
       "\n",
       "\n",
       "  \n",
       "  if (typeof (window._bokeh_timeout) === \"undefined\" || force === true) {\n",
       "    window._bokeh_timeout = Date.now() + 5000;\n",
       "    window._bokeh_failed_load = false;\n",
       "  }\n",
       "\n",
       "  var NB_LOAD_WARNING = {'data': {'text/html':\n",
       "     \"<div style='background-color: #fdd'>\\n\"+\n",
       "     \"<p>\\n\"+\n",
       "     \"BokehJS does not appear to have successfully loaded. If loading BokehJS from CDN, this \\n\"+\n",
       "     \"may be due to a slow or bad network connection. Possible fixes:\\n\"+\n",
       "     \"</p>\\n\"+\n",
       "     \"<ul>\\n\"+\n",
       "     \"<li>re-rerun `output_notebook()` to attempt to load from CDN again, or</li>\\n\"+\n",
       "     \"<li>use INLINE resources instead, as so:</li>\\n\"+\n",
       "     \"</ul>\\n\"+\n",
       "     \"<code>\\n\"+\n",
       "     \"from bokeh.resources import INLINE\\n\"+\n",
       "     \"output_notebook(resources=INLINE)\\n\"+\n",
       "     \"</code>\\n\"+\n",
       "     \"</div>\"}};\n",
       "\n",
       "  function display_loaded() {\n",
       "    if (window.Bokeh !== undefined) {\n",
       "      document.getElementById(\"e3ee11a0-9428-4d3a-8e31-8f5a2bffe166\").textContent = \"BokehJS successfully loaded.\";\n",
       "    } else if (Date.now() < window._bokeh_timeout) {\n",
       "      setTimeout(display_loaded, 100)\n",
       "    }\n",
       "  }\n",
       "\n",
       "  function run_callbacks() {\n",
       "    window._bokeh_onload_callbacks.forEach(function(callback) { callback() });\n",
       "    delete window._bokeh_onload_callbacks\n",
       "    console.info(\"Bokeh: all callbacks have finished\");\n",
       "  }\n",
       "\n",
       "  function load_libs(js_urls, callback) {\n",
       "    window._bokeh_onload_callbacks.push(callback);\n",
       "    if (window._bokeh_is_loading > 0) {\n",
       "      console.log(\"Bokeh: BokehJS is being loaded, scheduling callback at\", now());\n",
       "      return null;\n",
       "    }\n",
       "    if (js_urls == null || js_urls.length === 0) {\n",
       "      run_callbacks();\n",
       "      return null;\n",
       "    }\n",
       "    console.log(\"Bokeh: BokehJS not loaded, scheduling load and callback at\", now());\n",
       "    window._bokeh_is_loading = js_urls.length;\n",
       "    for (var i = 0; i < js_urls.length; i++) {\n",
       "      var url = js_urls[i];\n",
       "      var s = document.createElement('script');\n",
       "      s.src = url;\n",
       "      s.async = false;\n",
       "      s.onreadystatechange = s.onload = function() {\n",
       "        window._bokeh_is_loading--;\n",
       "        if (window._bokeh_is_loading === 0) {\n",
       "          console.log(\"Bokeh: all BokehJS libraries loaded\");\n",
       "          run_callbacks()\n",
       "        }\n",
       "      };\n",
       "      s.onerror = function() {\n",
       "        console.warn(\"failed to load library \" + url);\n",
       "      };\n",
       "      console.log(\"Bokeh: injecting script tag for BokehJS library: \", url);\n",
       "      document.getElementsByTagName(\"head\")[0].appendChild(s);\n",
       "    }\n",
       "  };var element = document.getElementById(\"e3ee11a0-9428-4d3a-8e31-8f5a2bffe166\");\n",
       "  if (element == null) {\n",
       "    console.log(\"Bokeh: ERROR: autoload.js configured with elementid 'e3ee11a0-9428-4d3a-8e31-8f5a2bffe166' but no matching script tag was found. \")\n",
       "    return false;\n",
       "  }\n",
       "\n",
       "  var js_urls = [\"https://cdn.pydata.org/bokeh/release/bokeh-0.12.4.min.js\", \"https://cdn.pydata.org/bokeh/release/bokeh-widgets-0.12.4.min.js\"];\n",
       "\n",
       "  var inline_js = [\n",
       "    function(Bokeh) {\n",
       "      Bokeh.set_log_level(\"info\");\n",
       "    },\n",
       "    \n",
       "    function(Bokeh) {\n",
       "      \n",
       "      document.getElementById(\"e3ee11a0-9428-4d3a-8e31-8f5a2bffe166\").textContent = \"BokehJS is loading...\";\n",
       "    },\n",
       "    function(Bokeh) {\n",
       "      console.log(\"Bokeh: injecting CSS: https://cdn.pydata.org/bokeh/release/bokeh-0.12.4.min.css\");\n",
       "      Bokeh.embed.inject_css(\"https://cdn.pydata.org/bokeh/release/bokeh-0.12.4.min.css\");\n",
       "      console.log(\"Bokeh: injecting CSS: https://cdn.pydata.org/bokeh/release/bokeh-widgets-0.12.4.min.css\");\n",
       "      Bokeh.embed.inject_css(\"https://cdn.pydata.org/bokeh/release/bokeh-widgets-0.12.4.min.css\");\n",
       "    }\n",
       "  ];\n",
       "\n",
       "  function run_inline_js() {\n",
       "    \n",
       "    if ((window.Bokeh !== undefined) || (force === true)) {\n",
       "      for (var i = 0; i < inline_js.length; i++) {\n",
       "        inline_js[i](window.Bokeh);\n",
       "      }if (force === true) {\n",
       "        display_loaded();\n",
       "      }} else if (Date.now() < window._bokeh_timeout) {\n",
       "      setTimeout(run_inline_js, 100);\n",
       "    } else if (!window._bokeh_failed_load) {\n",
       "      console.log(\"Bokeh: BokehJS failed to load within specified timeout.\");\n",
       "      window._bokeh_failed_load = true;\n",
       "    } else if (force !== true) {\n",
       "      var cell = $(document.getElementById(\"e3ee11a0-9428-4d3a-8e31-8f5a2bffe166\")).parents('.cell').data().cell;\n",
       "      cell.output_area.append_execute_result(NB_LOAD_WARNING)\n",
       "    }\n",
       "\n",
       "  }\n",
       "\n",
       "  if (window._bokeh_is_loading === 0) {\n",
       "    console.log(\"Bokeh: BokehJS loaded, going straight to plotting\");\n",
       "    run_inline_js();\n",
       "  } else {\n",
       "    load_libs(js_urls, function() {\n",
       "      console.log(\"Bokeh: BokehJS plotting callback run at\", now());\n",
       "      run_inline_js();\n",
       "    });\n",
       "  }\n",
       "}(this));"
      ]
     },
     "metadata": {},
     "output_type": "display_data"
    }
   ],
   "source": [
    "output_notebook()"
   ]
  },
  {
   "cell_type": "code",
   "execution_count": 88,
   "metadata": {
    "collapsed": false
   },
   "outputs": [],
   "source": [
    "#p = figure(width=500, height=500)\n",
    "#p.circle(qwe.origin.value_counts(),qwe.groupby(\"origin\").arrival_delay.mean())\n",
    "#p.circle(x, y, size=7, color=\"firebrick\", alpha=0.5)\n",
    "#show(p)"
   ]
  },
  {
   "cell_type": "code",
   "execution_count": 54,
   "metadata": {
    "collapsed": false
   },
   "outputs": [
    {
     "data": {
      "text/plain": [
       "(80907, 24)"
      ]
     },
     "execution_count": 54,
     "metadata": {},
     "output_type": "execute_result"
    }
   ],
   "source": [
    "qwe.shape"
   ]
  },
  {
   "cell_type": "code",
   "execution_count": 25,
   "metadata": {
    "collapsed": false
   },
   "outputs": [
    {
     "name": "stdout",
     "output_type": "stream",
     "text": [
      "(80894, 24)\n"
     ]
    }
   ],
   "source": [
    "qwe=qwe[qwe.duration!=\"None\"]\n",
    "qwe=qwe[qwe.flight_number!=\"None\"]\n",
    "qwe=qwe[qwe.reg!=\"None\"]\n",
    "qwe=qwe[qwe.origin!=\"None\"]\n",
    "qwe=qwe[qwe.destination!=\"None\"]\n",
    "#qwe=qwe[qwe.hour_dep!=\"None\"]\n",
    "#qwe=qwe[qwe.day_of_month_dep!=\"None\"]\n",
    "qwe=qwe[qwe.weekday_dep!=\"None\"]\n",
    "print(qwe.shape)\n"
   ]
  },
  {
   "cell_type": "code",
   "execution_count": 26,
   "metadata": {
    "collapsed": false
   },
   "outputs": [],
   "source": [
    "features=qwe[[\"airline_name\",\"flight_number\",\"origin\",\"destination\",\"hour_dep\",\"day_of_month_dep\",\"weekday_dep\"]]"
   ]
  },
  {
   "cell_type": "code",
   "execution_count": 27,
   "metadata": {
    "collapsed": false
   },
   "outputs": [
    {
     "name": "stdout",
     "output_type": "stream",
     "text": [
      "80894\n"
     ]
    }
   ],
   "source": [
    "labels=qwe[\"arrival_delay\"]\n",
    "label=[]\n",
    "for items in labels:\n",
    "    if items>60:\n",
    "        label.append(1)\n",
    "    else:\n",
    "        label.append(0)\n",
    "        \n",
    "print(len(label))"
   ]
  },
  {
   "cell_type": "code",
   "execution_count": 28,
   "metadata": {
    "collapsed": true
   },
   "outputs": [],
   "source": [
    "features_final=pd.get_dummies(features,drop_first=True)\n"
   ]
  },
  {
   "cell_type": "code",
   "execution_count": 29,
   "metadata": {
    "collapsed": false
   },
   "outputs": [
    {
     "name": "stderr",
     "output_type": "stream",
     "text": [
      "C:\\Users\\Vishal_Oben\\Anaconda3\\lib\\site-packages\\sklearn\\cross_validation.py:44: DeprecationWarning: This module was deprecated in version 0.18 in favor of the model_selection module into which all the refactored classes and functions are moved. Also note that the interface of the new CV iterators are different from that of this module. This module will be removed in 0.20.\n",
      "  \"This module will be removed in 0.20.\", DeprecationWarning)\n"
     ]
    }
   ],
   "source": [
    "import sklearn\n",
    "from sklearn.tree import DecisionTreeClassifier\n",
    "from sklearn.cross_validation import train_test_split\n",
    "from sklearn.metrics import mean_squared_error\n",
    "import numpy\n",
    "from sklearn.metrics import accuracy_score\n"
   ]
  },
  {
   "cell_type": "code",
   "execution_count": 30,
   "metadata": {
    "collapsed": true
   },
   "outputs": [],
   "source": [
    "X_train,X_test,Y_train,Y_test=train_test_split(features_final,numpy.array(label),test_size=0.30,random_state=42)"
   ]
  },
  {
   "cell_type": "code",
   "execution_count": 31,
   "metadata": {
    "collapsed": false
   },
   "outputs": [
    {
     "data": {
      "text/plain": [
       "(56625, 2343)"
      ]
     },
     "execution_count": 31,
     "metadata": {},
     "output_type": "execute_result"
    }
   ],
   "source": [
    "X_train.shape"
   ]
  },
  {
   "cell_type": "code",
   "execution_count": null,
   "metadata": {
    "collapsed": false
   },
   "outputs": [],
   "source": [
    "Y_train.shape"
   ]
  },
  {
   "cell_type": "code",
   "execution_count": 33,
   "metadata": {
    "collapsed": false
   },
   "outputs": [
    {
     "data": {
      "text/plain": [
       "DecisionTreeClassifier(class_weight=None, criterion='gini', max_depth=None,\n",
       "            max_features=None, max_leaf_nodes=None,\n",
       "            min_impurity_split=1e-07, min_samples_leaf=1,\n",
       "            min_samples_split=2, min_weight_fraction_leaf=0.0,\n",
       "            presort=False, random_state=None, splitter='best')"
      ]
     },
     "execution_count": 33,
     "metadata": {},
     "output_type": "execute_result"
    }
   ],
   "source": [
    "clf=DecisionTreeClassifier()\n",
    "clf.fit(X_train,Y_train)\n"
   ]
  },
  {
   "cell_type": "code",
   "execution_count": 34,
   "metadata": {
    "collapsed": false
   },
   "outputs": [
    {
     "name": "stdout",
     "output_type": "stream",
     "text": [
      "0.966953726977\n"
     ]
    }
   ],
   "source": [
    "pred=clf.predict(X_test)\n",
    "print(accuracy_score(pred,Y_test))\n"
   ]
  },
  {
   "cell_type": "code",
   "execution_count": 49,
   "metadata": {
    "collapsed": false
   },
   "outputs": [
    {
     "name": "stdout",
     "output_type": "stream",
     "text": [
      "[[23274   448]\n",
      " [  354   193]]\n",
      "0.301092043682\n",
      "0.352833638026\n",
      "0.31018964963\n"
     ]
    }
   ],
   "source": [
    "from sklearn.metrics import confusion_matrix,precision_score,recall_score,fbeta_score\n",
    "print(confusion_matrix(pred,Y_test))\n",
    "print(precision_score(pred,Y_test))\n",
    "print(recall_score(pred,Y_test))\n",
    "print(fbeta_score(pred,Y_test,beta=0.5))"
   ]
  },
  {
   "cell_type": "code",
   "execution_count": null,
   "metadata": {
    "collapsed": false
   },
   "outputs": [
    {
     "name": "stderr",
     "output_type": "stream",
     "text": [
      "C:\\Users\\Vishal_Oben\\Anaconda3\\lib\\site-packages\\sklearn\\grid_search.py:43: DeprecationWarning: This module was deprecated in version 0.18 in favor of the model_selection module into which all the refactored classes and functions are moved. This module will be removed in 0.20.\n",
      "  DeprecationWarning)\n"
     ]
    }
   ],
   "source": [
    "from sklearn.grid_search import GridSearchCV\n",
    "from sklearn.metrics import make_scorer\n",
    "\n",
    "# TODO: Initialize the classifier\n",
    "clf = DecisionTreeClassifier(random_state=42)\n",
    "\n",
    "# TODO: Create the parameters list you wish to tune\n",
    "parameters = {\"min_samples_split\":[2,3,4,5,6,7,8,9,10]}\n",
    "\n",
    "# TODO: Make an fbeta_score scoring object\n",
    "scorer = make_scorer(fbeta_score,beta=0.5)\n",
    "\n",
    "# TODO: Perform grid search on the classifier using 'scorer' as the scoring method\n",
    "grid_obj = GridSearchCV(estimator=clf,param_grid=parameters,scoring=scorer,cv=5)\n",
    "\n",
    "# TODO: Fit the grid search object to the training data and find the optimal parameters\n",
    "grid_fit =grid_obj.fit(X_train,Y_train)\n",
    "\n",
    "# Get the estimator\n",
    "best_clf = grid_fit.best_estimator_\n",
    "\n",
    "# Make predictions using the unoptimized and model\n",
    "predictions = (clf.fit(X_train, y_train)).predict(X_test)\n",
    "best_predictions = best_clf.predict(X_test)\n",
    "\n",
    "# Report the before-and-afterscores\n",
    "#print (\"Unoptimized model\\n------\")\n",
    "#print \"Accuracy score on testing data: {:.4f}\".format(accuracy_score(Y_test, predictions))\n",
    "#print \"F-score on testing data: {:.4f}\".format(fbeta_score(y_test, predictions, beta = 0.5))\n",
    "#print \"\\nOptimized Model\\n------\"\n",
    "#print \"Final accuracy score on the testing data: {:.4f}\".format(accuracy_score(Y_test, best_predictions))\n",
    "#print \"Final F-score on the testing data: {:.4f}\".format(fbeta_score(y_test, best_predictions, beta = 0.5))"
   ]
  },
  {
   "cell_type": "code",
   "execution_count": null,
   "metadata": {
    "collapsed": false
   },
   "outputs": [],
   "source": [
    "print(grid_fit.best_estimator_)"
   ]
  },
  {
   "cell_type": "code",
   "execution_count": null,
   "metadata": {
    "collapsed": false
   },
   "outputs": [],
   "source": [
    "\n",
    "predictions = (clf.fit(X_train, Y_train)).predict(X_test)\n",
    "best_predictions = best_clf.predict(X_test)\n",
    "print(accuracy_score(Y_test,best_predictions))"
   ]
  },
  {
   "cell_type": "code",
   "execution_count": null,
   "metadata": {
    "collapsed": false
   },
   "outputs": [],
   "source": [
    "print(fbeta_score(Y_test,best_predictions,0.5))"
   ]
  },
  {
   "cell_type": "code",
   "execution_count": null,
   "metadata": {
    "collapsed": false
   },
   "outputs": [],
   "source": [
    "print(precision_score(Y_test,best_predictions))"
   ]
  },
  {
   "cell_type": "code",
   "execution_count": null,
   "metadata": {
    "collapsed": true
   },
   "outputs": [],
   "source": []
  }
 ],
 "metadata": {
  "kernelspec": {
   "display_name": "Python 3",
   "language": "python",
   "name": "python3"
  },
  "language_info": {
   "codemirror_mode": {
    "name": "ipython",
    "version": 3
   },
   "file_extension": ".py",
   "mimetype": "text/x-python",
   "name": "python",
   "nbconvert_exporter": "python",
   "pygments_lexer": "ipython3",
   "version": "3.6.0"
  }
 },
 "nbformat": 4,
 "nbformat_minor": 2
}
